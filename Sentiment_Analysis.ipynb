{
  "nbformat": 4,
  "nbformat_minor": 0,
  "metadata": {
    "colab": {
      "name": "Sentiment Analysis.ipynb",
      "provenance": [],
      "collapsed_sections": [],
      "authorship_tag": "ABX9TyNGR7vx0OJVU/Le8K6JE+kw",
      "include_colab_link": true
    },
    "kernelspec": {
      "name": "python3",
      "display_name": "Python 3"
    },
    "accelerator": "GPU",
    "widgets": {
      "application/vnd.jupyter.widget-state+json": {
        "06009798c8224228add370c18c7346fd": {
          "model_module": "@jupyter-widgets/controls",
          "model_name": "HBoxModel",
          "state": {
            "_view_name": "HBoxView",
            "_dom_classes": [],
            "_model_name": "HBoxModel",
            "_view_module": "@jupyter-widgets/controls",
            "_model_module_version": "1.5.0",
            "_view_count": null,
            "_view_module_version": "1.5.0",
            "box_style": "",
            "layout": "IPY_MODEL_b2497f1a6e0b4e8e885f7e637846fff0",
            "_model_module": "@jupyter-widgets/controls",
            "children": [
              "IPY_MODEL_5e47cb4ac7a04e0381444209dff46a9c",
              "IPY_MODEL_409265f8c1194307935e076d0907934e"
            ]
          }
        },
        "b2497f1a6e0b4e8e885f7e637846fff0": {
          "model_module": "@jupyter-widgets/base",
          "model_name": "LayoutModel",
          "state": {
            "_view_name": "LayoutView",
            "grid_template_rows": null,
            "right": null,
            "justify_content": null,
            "_view_module": "@jupyter-widgets/base",
            "overflow": null,
            "_model_module_version": "1.2.0",
            "_view_count": null,
            "flex_flow": null,
            "width": null,
            "min_width": null,
            "border": null,
            "align_items": null,
            "bottom": null,
            "_model_module": "@jupyter-widgets/base",
            "top": null,
            "grid_column": null,
            "overflow_y": null,
            "overflow_x": null,
            "grid_auto_flow": null,
            "grid_area": null,
            "grid_template_columns": null,
            "flex": null,
            "_model_name": "LayoutModel",
            "justify_items": null,
            "grid_row": null,
            "max_height": null,
            "align_content": null,
            "visibility": null,
            "align_self": null,
            "height": null,
            "min_height": null,
            "padding": null,
            "grid_auto_rows": null,
            "grid_gap": null,
            "max_width": null,
            "order": null,
            "_view_module_version": "1.2.0",
            "grid_template_areas": null,
            "object_position": null,
            "object_fit": null,
            "grid_auto_columns": null,
            "margin": null,
            "display": null,
            "left": null
          }
        },
        "5e47cb4ac7a04e0381444209dff46a9c": {
          "model_module": "@jupyter-widgets/controls",
          "model_name": "FloatProgressModel",
          "state": {
            "_view_name": "ProgressView",
            "style": "IPY_MODEL_1b984d0cb4ab45749dcd3d00a9d21f8c",
            "_dom_classes": [],
            "description": "Dl Completed...: 100%",
            "_model_name": "FloatProgressModel",
            "bar_style": "success",
            "max": 1,
            "_view_module": "@jupyter-widgets/controls",
            "_model_module_version": "1.5.0",
            "value": 1,
            "_view_count": null,
            "_view_module_version": "1.5.0",
            "orientation": "horizontal",
            "min": 0,
            "description_tooltip": null,
            "_model_module": "@jupyter-widgets/controls",
            "layout": "IPY_MODEL_692ace5adf9e447299abede9fec034f0"
          }
        },
        "409265f8c1194307935e076d0907934e": {
          "model_module": "@jupyter-widgets/controls",
          "model_name": "HTMLModel",
          "state": {
            "_view_name": "HTMLView",
            "style": "IPY_MODEL_f30b4c561af141de831068711ba38f29",
            "_dom_classes": [],
            "description": "",
            "_model_name": "HTMLModel",
            "placeholder": "​",
            "_view_module": "@jupyter-widgets/controls",
            "_model_module_version": "1.5.0",
            "value": " 1/1 [00:01&lt;00:00,  1.32s/ url]",
            "_view_count": null,
            "_view_module_version": "1.5.0",
            "description_tooltip": null,
            "_model_module": "@jupyter-widgets/controls",
            "layout": "IPY_MODEL_bf0723b4b0d74263a0aafd97f3b6f39a"
          }
        },
        "1b984d0cb4ab45749dcd3d00a9d21f8c": {
          "model_module": "@jupyter-widgets/controls",
          "model_name": "ProgressStyleModel",
          "state": {
            "_view_name": "StyleView",
            "_model_name": "ProgressStyleModel",
            "description_width": "initial",
            "_view_module": "@jupyter-widgets/base",
            "_model_module_version": "1.5.0",
            "_view_count": null,
            "_view_module_version": "1.2.0",
            "bar_color": null,
            "_model_module": "@jupyter-widgets/controls"
          }
        },
        "692ace5adf9e447299abede9fec034f0": {
          "model_module": "@jupyter-widgets/base",
          "model_name": "LayoutModel",
          "state": {
            "_view_name": "LayoutView",
            "grid_template_rows": null,
            "right": null,
            "justify_content": null,
            "_view_module": "@jupyter-widgets/base",
            "overflow": null,
            "_model_module_version": "1.2.0",
            "_view_count": null,
            "flex_flow": null,
            "width": null,
            "min_width": null,
            "border": null,
            "align_items": null,
            "bottom": null,
            "_model_module": "@jupyter-widgets/base",
            "top": null,
            "grid_column": null,
            "overflow_y": null,
            "overflow_x": null,
            "grid_auto_flow": null,
            "grid_area": null,
            "grid_template_columns": null,
            "flex": null,
            "_model_name": "LayoutModel",
            "justify_items": null,
            "grid_row": null,
            "max_height": null,
            "align_content": null,
            "visibility": null,
            "align_self": null,
            "height": null,
            "min_height": null,
            "padding": null,
            "grid_auto_rows": null,
            "grid_gap": null,
            "max_width": null,
            "order": null,
            "_view_module_version": "1.2.0",
            "grid_template_areas": null,
            "object_position": null,
            "object_fit": null,
            "grid_auto_columns": null,
            "margin": null,
            "display": null,
            "left": null
          }
        },
        "f30b4c561af141de831068711ba38f29": {
          "model_module": "@jupyter-widgets/controls",
          "model_name": "DescriptionStyleModel",
          "state": {
            "_view_name": "StyleView",
            "_model_name": "DescriptionStyleModel",
            "description_width": "",
            "_view_module": "@jupyter-widgets/base",
            "_model_module_version": "1.5.0",
            "_view_count": null,
            "_view_module_version": "1.2.0",
            "_model_module": "@jupyter-widgets/controls"
          }
        },
        "bf0723b4b0d74263a0aafd97f3b6f39a": {
          "model_module": "@jupyter-widgets/base",
          "model_name": "LayoutModel",
          "state": {
            "_view_name": "LayoutView",
            "grid_template_rows": null,
            "right": null,
            "justify_content": null,
            "_view_module": "@jupyter-widgets/base",
            "overflow": null,
            "_model_module_version": "1.2.0",
            "_view_count": null,
            "flex_flow": null,
            "width": null,
            "min_width": null,
            "border": null,
            "align_items": null,
            "bottom": null,
            "_model_module": "@jupyter-widgets/base",
            "top": null,
            "grid_column": null,
            "overflow_y": null,
            "overflow_x": null,
            "grid_auto_flow": null,
            "grid_area": null,
            "grid_template_columns": null,
            "flex": null,
            "_model_name": "LayoutModel",
            "justify_items": null,
            "grid_row": null,
            "max_height": null,
            "align_content": null,
            "visibility": null,
            "align_self": null,
            "height": null,
            "min_height": null,
            "padding": null,
            "grid_auto_rows": null,
            "grid_gap": null,
            "max_width": null,
            "order": null,
            "_view_module_version": "1.2.0",
            "grid_template_areas": null,
            "object_position": null,
            "object_fit": null,
            "grid_auto_columns": null,
            "margin": null,
            "display": null,
            "left": null
          }
        },
        "d569cedb150e4e0eb111da109afdd0d2": {
          "model_module": "@jupyter-widgets/controls",
          "model_name": "HBoxModel",
          "state": {
            "_view_name": "HBoxView",
            "_dom_classes": [],
            "_model_name": "HBoxModel",
            "_view_module": "@jupyter-widgets/controls",
            "_model_module_version": "1.5.0",
            "_view_count": null,
            "_view_module_version": "1.5.0",
            "box_style": "",
            "layout": "IPY_MODEL_66406151f310413fa50fdd0ad4f38aca",
            "_model_module": "@jupyter-widgets/controls",
            "children": [
              "IPY_MODEL_36bc9f57ef0141c9b0bd6fb8eebff8e0",
              "IPY_MODEL_98595c32b33249c59cd803f159a0862a"
            ]
          }
        },
        "66406151f310413fa50fdd0ad4f38aca": {
          "model_module": "@jupyter-widgets/base",
          "model_name": "LayoutModel",
          "state": {
            "_view_name": "LayoutView",
            "grid_template_rows": null,
            "right": null,
            "justify_content": null,
            "_view_module": "@jupyter-widgets/base",
            "overflow": null,
            "_model_module_version": "1.2.0",
            "_view_count": null,
            "flex_flow": null,
            "width": null,
            "min_width": null,
            "border": null,
            "align_items": null,
            "bottom": null,
            "_model_module": "@jupyter-widgets/base",
            "top": null,
            "grid_column": null,
            "overflow_y": null,
            "overflow_x": null,
            "grid_auto_flow": null,
            "grid_area": null,
            "grid_template_columns": null,
            "flex": null,
            "_model_name": "LayoutModel",
            "justify_items": null,
            "grid_row": null,
            "max_height": null,
            "align_content": null,
            "visibility": null,
            "align_self": null,
            "height": null,
            "min_height": null,
            "padding": null,
            "grid_auto_rows": null,
            "grid_gap": null,
            "max_width": null,
            "order": null,
            "_view_module_version": "1.2.0",
            "grid_template_areas": null,
            "object_position": null,
            "object_fit": null,
            "grid_auto_columns": null,
            "margin": null,
            "display": null,
            "left": null
          }
        },
        "36bc9f57ef0141c9b0bd6fb8eebff8e0": {
          "model_module": "@jupyter-widgets/controls",
          "model_name": "FloatProgressModel",
          "state": {
            "_view_name": "ProgressView",
            "style": "IPY_MODEL_e65f43d9ae2c4d77bd622618c967b213",
            "_dom_classes": [],
            "description": "Dl Size...: 100%",
            "_model_name": "FloatProgressModel",
            "bar_style": "success",
            "max": 1,
            "_view_module": "@jupyter-widgets/controls",
            "_model_module_version": "1.5.0",
            "value": 1,
            "_view_count": null,
            "_view_module_version": "1.5.0",
            "orientation": "horizontal",
            "min": 0,
            "description_tooltip": null,
            "_model_module": "@jupyter-widgets/controls",
            "layout": "IPY_MODEL_a8c4939907474cc39a4b945b6c267ef5"
          }
        },
        "98595c32b33249c59cd803f159a0862a": {
          "model_module": "@jupyter-widgets/controls",
          "model_name": "HTMLModel",
          "state": {
            "_view_name": "HTMLView",
            "style": "IPY_MODEL_2a1d053db53646d6abafa913340db75c",
            "_dom_classes": [],
            "description": "",
            "_model_name": "HTMLModel",
            "placeholder": "​",
            "_view_module": "@jupyter-widgets/controls",
            "_model_module_version": "1.5.0",
            "value": " 21/21 [00:01&lt;00:00, 16.29 MiB/s]",
            "_view_count": null,
            "_view_module_version": "1.5.0",
            "description_tooltip": null,
            "_model_module": "@jupyter-widgets/controls",
            "layout": "IPY_MODEL_bf3afabd4b0b478098bff274e4b1182a"
          }
        },
        "e65f43d9ae2c4d77bd622618c967b213": {
          "model_module": "@jupyter-widgets/controls",
          "model_name": "ProgressStyleModel",
          "state": {
            "_view_name": "StyleView",
            "_model_name": "ProgressStyleModel",
            "description_width": "initial",
            "_view_module": "@jupyter-widgets/base",
            "_model_module_version": "1.5.0",
            "_view_count": null,
            "_view_module_version": "1.2.0",
            "bar_color": null,
            "_model_module": "@jupyter-widgets/controls"
          }
        },
        "a8c4939907474cc39a4b945b6c267ef5": {
          "model_module": "@jupyter-widgets/base",
          "model_name": "LayoutModel",
          "state": {
            "_view_name": "LayoutView",
            "grid_template_rows": null,
            "right": null,
            "justify_content": null,
            "_view_module": "@jupyter-widgets/base",
            "overflow": null,
            "_model_module_version": "1.2.0",
            "_view_count": null,
            "flex_flow": null,
            "width": null,
            "min_width": null,
            "border": null,
            "align_items": null,
            "bottom": null,
            "_model_module": "@jupyter-widgets/base",
            "top": null,
            "grid_column": null,
            "overflow_y": null,
            "overflow_x": null,
            "grid_auto_flow": null,
            "grid_area": null,
            "grid_template_columns": null,
            "flex": null,
            "_model_name": "LayoutModel",
            "justify_items": null,
            "grid_row": null,
            "max_height": null,
            "align_content": null,
            "visibility": null,
            "align_self": null,
            "height": null,
            "min_height": null,
            "padding": null,
            "grid_auto_rows": null,
            "grid_gap": null,
            "max_width": null,
            "order": null,
            "_view_module_version": "1.2.0",
            "grid_template_areas": null,
            "object_position": null,
            "object_fit": null,
            "grid_auto_columns": null,
            "margin": null,
            "display": null,
            "left": null
          }
        },
        "2a1d053db53646d6abafa913340db75c": {
          "model_module": "@jupyter-widgets/controls",
          "model_name": "DescriptionStyleModel",
          "state": {
            "_view_name": "StyleView",
            "_model_name": "DescriptionStyleModel",
            "description_width": "",
            "_view_module": "@jupyter-widgets/base",
            "_model_module_version": "1.5.0",
            "_view_count": null,
            "_view_module_version": "1.2.0",
            "_model_module": "@jupyter-widgets/controls"
          }
        },
        "bf3afabd4b0b478098bff274e4b1182a": {
          "model_module": "@jupyter-widgets/base",
          "model_name": "LayoutModel",
          "state": {
            "_view_name": "LayoutView",
            "grid_template_rows": null,
            "right": null,
            "justify_content": null,
            "_view_module": "@jupyter-widgets/base",
            "overflow": null,
            "_model_module_version": "1.2.0",
            "_view_count": null,
            "flex_flow": null,
            "width": null,
            "min_width": null,
            "border": null,
            "align_items": null,
            "bottom": null,
            "_model_module": "@jupyter-widgets/base",
            "top": null,
            "grid_column": null,
            "overflow_y": null,
            "overflow_x": null,
            "grid_auto_flow": null,
            "grid_area": null,
            "grid_template_columns": null,
            "flex": null,
            "_model_name": "LayoutModel",
            "justify_items": null,
            "grid_row": null,
            "max_height": null,
            "align_content": null,
            "visibility": null,
            "align_self": null,
            "height": null,
            "min_height": null,
            "padding": null,
            "grid_auto_rows": null,
            "grid_gap": null,
            "max_width": null,
            "order": null,
            "_view_module_version": "1.2.0",
            "grid_template_areas": null,
            "object_position": null,
            "object_fit": null,
            "grid_auto_columns": null,
            "margin": null,
            "display": null,
            "left": null
          }
        },
        "56fc92561063489b821974e3f9f161ad": {
          "model_module": "@jupyter-widgets/controls",
          "model_name": "HBoxModel",
          "state": {
            "_view_name": "HBoxView",
            "_dom_classes": [],
            "_model_name": "HBoxModel",
            "_view_module": "@jupyter-widgets/controls",
            "_model_module_version": "1.5.0",
            "_view_count": null,
            "_view_module_version": "1.5.0",
            "box_style": "",
            "layout": "IPY_MODEL_1cd2cea23f0b458eaa14bc9cff16e3ca",
            "_model_module": "@jupyter-widgets/controls",
            "children": [
              "IPY_MODEL_f87fec00e4dc4ee5902d1ca7c41310ba",
              "IPY_MODEL_f660a4f696ba439585684e5826b4ddb2"
            ]
          }
        },
        "1cd2cea23f0b458eaa14bc9cff16e3ca": {
          "model_module": "@jupyter-widgets/base",
          "model_name": "LayoutModel",
          "state": {
            "_view_name": "LayoutView",
            "grid_template_rows": null,
            "right": null,
            "justify_content": null,
            "_view_module": "@jupyter-widgets/base",
            "overflow": null,
            "_model_module_version": "1.2.0",
            "_view_count": null,
            "flex_flow": null,
            "width": null,
            "min_width": null,
            "border": null,
            "align_items": null,
            "bottom": null,
            "_model_module": "@jupyter-widgets/base",
            "top": null,
            "grid_column": null,
            "overflow_y": null,
            "overflow_x": null,
            "grid_auto_flow": null,
            "grid_area": null,
            "grid_template_columns": null,
            "flex": null,
            "_model_name": "LayoutModel",
            "justify_items": null,
            "grid_row": null,
            "max_height": null,
            "align_content": null,
            "visibility": null,
            "align_self": null,
            "height": null,
            "min_height": null,
            "padding": null,
            "grid_auto_rows": null,
            "grid_gap": null,
            "max_width": null,
            "order": null,
            "_view_module_version": "1.2.0",
            "grid_template_areas": null,
            "object_position": null,
            "object_fit": null,
            "grid_auto_columns": null,
            "margin": null,
            "display": null,
            "left": null
          }
        },
        "f87fec00e4dc4ee5902d1ca7c41310ba": {
          "model_module": "@jupyter-widgets/controls",
          "model_name": "FloatProgressModel",
          "state": {
            "_view_name": "ProgressView",
            "style": "IPY_MODEL_0a6ebf1a7e984dbfa953c8601494b3a5",
            "_dom_classes": [],
            "description": "Extraction completed...: 100%",
            "_model_name": "FloatProgressModel",
            "bar_style": "success",
            "max": 1,
            "_view_module": "@jupyter-widgets/controls",
            "_model_module_version": "1.5.0",
            "value": 1,
            "_view_count": null,
            "_view_module_version": "1.5.0",
            "orientation": "horizontal",
            "min": 0,
            "description_tooltip": null,
            "_model_module": "@jupyter-widgets/controls",
            "layout": "IPY_MODEL_81ef225cc3b14ecbbfdbd0216907f696"
          }
        },
        "f660a4f696ba439585684e5826b4ddb2": {
          "model_module": "@jupyter-widgets/controls",
          "model_name": "HTMLModel",
          "state": {
            "_view_name": "HTMLView",
            "style": "IPY_MODEL_5c64d02042f241a8b5a57e21a6cb0d49",
            "_dom_classes": [],
            "description": "",
            "_model_name": "HTMLModel",
            "placeholder": "​",
            "_view_module": "@jupyter-widgets/controls",
            "_model_module_version": "1.5.0",
            "value": " 1/1 [00:01&lt;00:00,  1.25s/ file]",
            "_view_count": null,
            "_view_module_version": "1.5.0",
            "description_tooltip": null,
            "_model_module": "@jupyter-widgets/controls",
            "layout": "IPY_MODEL_a8714d7e4fc64092ab166a58e6fe75d4"
          }
        },
        "0a6ebf1a7e984dbfa953c8601494b3a5": {
          "model_module": "@jupyter-widgets/controls",
          "model_name": "ProgressStyleModel",
          "state": {
            "_view_name": "StyleView",
            "_model_name": "ProgressStyleModel",
            "description_width": "initial",
            "_view_module": "@jupyter-widgets/base",
            "_model_module_version": "1.5.0",
            "_view_count": null,
            "_view_module_version": "1.2.0",
            "bar_color": null,
            "_model_module": "@jupyter-widgets/controls"
          }
        },
        "81ef225cc3b14ecbbfdbd0216907f696": {
          "model_module": "@jupyter-widgets/base",
          "model_name": "LayoutModel",
          "state": {
            "_view_name": "LayoutView",
            "grid_template_rows": null,
            "right": null,
            "justify_content": null,
            "_view_module": "@jupyter-widgets/base",
            "overflow": null,
            "_model_module_version": "1.2.0",
            "_view_count": null,
            "flex_flow": null,
            "width": null,
            "min_width": null,
            "border": null,
            "align_items": null,
            "bottom": null,
            "_model_module": "@jupyter-widgets/base",
            "top": null,
            "grid_column": null,
            "overflow_y": null,
            "overflow_x": null,
            "grid_auto_flow": null,
            "grid_area": null,
            "grid_template_columns": null,
            "flex": null,
            "_model_name": "LayoutModel",
            "justify_items": null,
            "grid_row": null,
            "max_height": null,
            "align_content": null,
            "visibility": null,
            "align_self": null,
            "height": null,
            "min_height": null,
            "padding": null,
            "grid_auto_rows": null,
            "grid_gap": null,
            "max_width": null,
            "order": null,
            "_view_module_version": "1.2.0",
            "grid_template_areas": null,
            "object_position": null,
            "object_fit": null,
            "grid_auto_columns": null,
            "margin": null,
            "display": null,
            "left": null
          }
        },
        "5c64d02042f241a8b5a57e21a6cb0d49": {
          "model_module": "@jupyter-widgets/controls",
          "model_name": "DescriptionStyleModel",
          "state": {
            "_view_name": "StyleView",
            "_model_name": "DescriptionStyleModel",
            "description_width": "",
            "_view_module": "@jupyter-widgets/base",
            "_model_module_version": "1.5.0",
            "_view_count": null,
            "_view_module_version": "1.2.0",
            "_model_module": "@jupyter-widgets/controls"
          }
        },
        "a8714d7e4fc64092ab166a58e6fe75d4": {
          "model_module": "@jupyter-widgets/base",
          "model_name": "LayoutModel",
          "state": {
            "_view_name": "LayoutView",
            "grid_template_rows": null,
            "right": null,
            "justify_content": null,
            "_view_module": "@jupyter-widgets/base",
            "overflow": null,
            "_model_module_version": "1.2.0",
            "_view_count": null,
            "flex_flow": null,
            "width": null,
            "min_width": null,
            "border": null,
            "align_items": null,
            "bottom": null,
            "_model_module": "@jupyter-widgets/base",
            "top": null,
            "grid_column": null,
            "overflow_y": null,
            "overflow_x": null,
            "grid_auto_flow": null,
            "grid_area": null,
            "grid_template_columns": null,
            "flex": null,
            "_model_name": "LayoutModel",
            "justify_items": null,
            "grid_row": null,
            "max_height": null,
            "align_content": null,
            "visibility": null,
            "align_self": null,
            "height": null,
            "min_height": null,
            "padding": null,
            "grid_auto_rows": null,
            "grid_gap": null,
            "max_width": null,
            "order": null,
            "_view_module_version": "1.2.0",
            "grid_template_areas": null,
            "object_position": null,
            "object_fit": null,
            "grid_auto_columns": null,
            "margin": null,
            "display": null,
            "left": null
          }
        },
        "0448cc76d653417c9883f3eb45fc2112": {
          "model_module": "@jupyter-widgets/controls",
          "model_name": "HBoxModel",
          "state": {
            "_view_name": "HBoxView",
            "_dom_classes": [],
            "_model_name": "HBoxModel",
            "_view_module": "@jupyter-widgets/controls",
            "_model_module_version": "1.5.0",
            "_view_count": null,
            "_view_module_version": "1.5.0",
            "box_style": "",
            "layout": "IPY_MODEL_50e889d82cad4c1f97f20cf7fc356c46",
            "_model_module": "@jupyter-widgets/controls",
            "children": [
              "IPY_MODEL_f59f1887823e483198024c94cc07c8e6",
              "IPY_MODEL_11f1ce522d7542619e2f87eda6b623ab"
            ]
          }
        },
        "50e889d82cad4c1f97f20cf7fc356c46": {
          "model_module": "@jupyter-widgets/base",
          "model_name": "LayoutModel",
          "state": {
            "_view_name": "LayoutView",
            "grid_template_rows": null,
            "right": null,
            "justify_content": null,
            "_view_module": "@jupyter-widgets/base",
            "overflow": null,
            "_model_module_version": "1.2.0",
            "_view_count": null,
            "flex_flow": null,
            "width": null,
            "min_width": null,
            "border": null,
            "align_items": null,
            "bottom": null,
            "_model_module": "@jupyter-widgets/base",
            "top": null,
            "grid_column": null,
            "overflow_y": null,
            "overflow_x": null,
            "grid_auto_flow": null,
            "grid_area": null,
            "grid_template_columns": null,
            "flex": null,
            "_model_name": "LayoutModel",
            "justify_items": null,
            "grid_row": null,
            "max_height": null,
            "align_content": null,
            "visibility": null,
            "align_self": null,
            "height": null,
            "min_height": null,
            "padding": null,
            "grid_auto_rows": null,
            "grid_gap": null,
            "max_width": null,
            "order": null,
            "_view_module_version": "1.2.0",
            "grid_template_areas": null,
            "object_position": null,
            "object_fit": null,
            "grid_auto_columns": null,
            "margin": null,
            "display": null,
            "left": null
          }
        },
        "f59f1887823e483198024c94cc07c8e6": {
          "model_module": "@jupyter-widgets/controls",
          "model_name": "FloatProgressModel",
          "state": {
            "_view_name": "ProgressView",
            "style": "IPY_MODEL_9177c155efc744ca93a521ec86b06cfa",
            "_dom_classes": [],
            "description": "",
            "_model_name": "FloatProgressModel",
            "bar_style": "info",
            "max": 1,
            "_view_module": "@jupyter-widgets/controls",
            "_model_module_version": "1.5.0",
            "value": 1,
            "_view_count": null,
            "_view_module_version": "1.5.0",
            "orientation": "horizontal",
            "min": 0,
            "description_tooltip": null,
            "_model_module": "@jupyter-widgets/controls",
            "layout": "IPY_MODEL_b0b96ca91de94c0d985fff78af501c23"
          }
        },
        "11f1ce522d7542619e2f87eda6b623ab": {
          "model_module": "@jupyter-widgets/controls",
          "model_name": "HTMLModel",
          "state": {
            "_view_name": "HTMLView",
            "style": "IPY_MODEL_1511e39ca45a49a9943f20633272e66e",
            "_dom_classes": [],
            "description": "",
            "_model_name": "HTMLModel",
            "placeholder": "​",
            "_view_module": "@jupyter-widgets/controls",
            "_model_module_version": "1.5.0",
            "value": " 104975/0 [01:46&lt;00:00, 1052.21 examples/s]",
            "_view_count": null,
            "_view_module_version": "1.5.0",
            "description_tooltip": null,
            "_model_module": "@jupyter-widgets/controls",
            "layout": "IPY_MODEL_d4574a0132c4488f8c1f6ca64299596c"
          }
        },
        "9177c155efc744ca93a521ec86b06cfa": {
          "model_module": "@jupyter-widgets/controls",
          "model_name": "ProgressStyleModel",
          "state": {
            "_view_name": "StyleView",
            "_model_name": "ProgressStyleModel",
            "description_width": "initial",
            "_view_module": "@jupyter-widgets/base",
            "_model_module_version": "1.5.0",
            "_view_count": null,
            "_view_module_version": "1.2.0",
            "bar_color": null,
            "_model_module": "@jupyter-widgets/controls"
          }
        },
        "b0b96ca91de94c0d985fff78af501c23": {
          "model_module": "@jupyter-widgets/base",
          "model_name": "LayoutModel",
          "state": {
            "_view_name": "LayoutView",
            "grid_template_rows": null,
            "right": null,
            "justify_content": null,
            "_view_module": "@jupyter-widgets/base",
            "overflow": null,
            "_model_module_version": "1.2.0",
            "_view_count": null,
            "flex_flow": null,
            "width": null,
            "min_width": null,
            "border": null,
            "align_items": null,
            "bottom": null,
            "_model_module": "@jupyter-widgets/base",
            "top": null,
            "grid_column": null,
            "overflow_y": null,
            "overflow_x": null,
            "grid_auto_flow": null,
            "grid_area": null,
            "grid_template_columns": null,
            "flex": null,
            "_model_name": "LayoutModel",
            "justify_items": null,
            "grid_row": null,
            "max_height": null,
            "align_content": null,
            "visibility": null,
            "align_self": null,
            "height": null,
            "min_height": null,
            "padding": null,
            "grid_auto_rows": null,
            "grid_gap": null,
            "max_width": null,
            "order": null,
            "_view_module_version": "1.2.0",
            "grid_template_areas": null,
            "object_position": null,
            "object_fit": null,
            "grid_auto_columns": null,
            "margin": null,
            "display": null,
            "left": null
          }
        },
        "1511e39ca45a49a9943f20633272e66e": {
          "model_module": "@jupyter-widgets/controls",
          "model_name": "DescriptionStyleModel",
          "state": {
            "_view_name": "StyleView",
            "_model_name": "DescriptionStyleModel",
            "description_width": "",
            "_view_module": "@jupyter-widgets/base",
            "_model_module_version": "1.5.0",
            "_view_count": null,
            "_view_module_version": "1.2.0",
            "_model_module": "@jupyter-widgets/controls"
          }
        },
        "d4574a0132c4488f8c1f6ca64299596c": {
          "model_module": "@jupyter-widgets/base",
          "model_name": "LayoutModel",
          "state": {
            "_view_name": "LayoutView",
            "grid_template_rows": null,
            "right": null,
            "justify_content": null,
            "_view_module": "@jupyter-widgets/base",
            "overflow": null,
            "_model_module_version": "1.2.0",
            "_view_count": null,
            "flex_flow": null,
            "width": null,
            "min_width": null,
            "border": null,
            "align_items": null,
            "bottom": null,
            "_model_module": "@jupyter-widgets/base",
            "top": null,
            "grid_column": null,
            "overflow_y": null,
            "overflow_x": null,
            "grid_auto_flow": null,
            "grid_area": null,
            "grid_template_columns": null,
            "flex": null,
            "_model_name": "LayoutModel",
            "justify_items": null,
            "grid_row": null,
            "max_height": null,
            "align_content": null,
            "visibility": null,
            "align_self": null,
            "height": null,
            "min_height": null,
            "padding": null,
            "grid_auto_rows": null,
            "grid_gap": null,
            "max_width": null,
            "order": null,
            "_view_module_version": "1.2.0",
            "grid_template_areas": null,
            "object_position": null,
            "object_fit": null,
            "grid_auto_columns": null,
            "margin": null,
            "display": null,
            "left": null
          }
        },
        "e887b57977da43eda33a20084418b071": {
          "model_module": "@jupyter-widgets/controls",
          "model_name": "HBoxModel",
          "state": {
            "_view_name": "HBoxView",
            "_dom_classes": [],
            "_model_name": "HBoxModel",
            "_view_module": "@jupyter-widgets/controls",
            "_model_module_version": "1.5.0",
            "_view_count": null,
            "_view_module_version": "1.5.0",
            "box_style": "",
            "layout": "IPY_MODEL_f4151a4613b24ae58de07e93a7e8ce91",
            "_model_module": "@jupyter-widgets/controls",
            "children": [
              "IPY_MODEL_474c844827a14d3f9a487c657357fe10",
              "IPY_MODEL_c73b7f2982a4425b9936bfb8a7c91f6b"
            ]
          }
        },
        "f4151a4613b24ae58de07e93a7e8ce91": {
          "model_module": "@jupyter-widgets/base",
          "model_name": "LayoutModel",
          "state": {
            "_view_name": "LayoutView",
            "grid_template_rows": null,
            "right": null,
            "justify_content": null,
            "_view_module": "@jupyter-widgets/base",
            "overflow": null,
            "_model_module_version": "1.2.0",
            "_view_count": null,
            "flex_flow": null,
            "width": null,
            "min_width": null,
            "border": null,
            "align_items": null,
            "bottom": null,
            "_model_module": "@jupyter-widgets/base",
            "top": null,
            "grid_column": null,
            "overflow_y": null,
            "overflow_x": null,
            "grid_auto_flow": null,
            "grid_area": null,
            "grid_template_columns": null,
            "flex": null,
            "_model_name": "LayoutModel",
            "justify_items": null,
            "grid_row": null,
            "max_height": null,
            "align_content": null,
            "visibility": null,
            "align_self": null,
            "height": null,
            "min_height": null,
            "padding": null,
            "grid_auto_rows": null,
            "grid_gap": null,
            "max_width": null,
            "order": null,
            "_view_module_version": "1.2.0",
            "grid_template_areas": null,
            "object_position": null,
            "object_fit": null,
            "grid_auto_columns": null,
            "margin": null,
            "display": null,
            "left": null
          }
        },
        "474c844827a14d3f9a487c657357fe10": {
          "model_module": "@jupyter-widgets/controls",
          "model_name": "FloatProgressModel",
          "state": {
            "_view_name": "ProgressView",
            "style": "IPY_MODEL_21e3d91d668e4ad189fbc52a75e54f81",
            "_dom_classes": [],
            "description": " 90%",
            "_model_name": "FloatProgressModel",
            "bar_style": "danger",
            "max": 104975,
            "_view_module": "@jupyter-widgets/controls",
            "_model_module_version": "1.5.0",
            "value": 94939,
            "_view_count": null,
            "_view_module_version": "1.5.0",
            "orientation": "horizontal",
            "min": 0,
            "description_tooltip": null,
            "_model_module": "@jupyter-widgets/controls",
            "layout": "IPY_MODEL_1e65aa16bec74a18bb108a405c30735d"
          }
        },
        "c73b7f2982a4425b9936bfb8a7c91f6b": {
          "model_module": "@jupyter-widgets/controls",
          "model_name": "HTMLModel",
          "state": {
            "_view_name": "HTMLView",
            "style": "IPY_MODEL_f050bafeaa914fa4999cacadbfd1a19a",
            "_dom_classes": [],
            "description": "",
            "_model_name": "HTMLModel",
            "placeholder": "​",
            "_view_module": "@jupyter-widgets/controls",
            "_model_module_version": "1.5.0",
            "value": " 94939/104975 [00:20&lt;08:01, 20.83 examples/s]",
            "_view_count": null,
            "_view_module_version": "1.5.0",
            "description_tooltip": null,
            "_model_module": "@jupyter-widgets/controls",
            "layout": "IPY_MODEL_6a76364368cd4938b95c0b375b67d6d1"
          }
        },
        "21e3d91d668e4ad189fbc52a75e54f81": {
          "model_module": "@jupyter-widgets/controls",
          "model_name": "ProgressStyleModel",
          "state": {
            "_view_name": "StyleView",
            "_model_name": "ProgressStyleModel",
            "description_width": "initial",
            "_view_module": "@jupyter-widgets/base",
            "_model_module_version": "1.5.0",
            "_view_count": null,
            "_view_module_version": "1.2.0",
            "bar_color": null,
            "_model_module": "@jupyter-widgets/controls"
          }
        },
        "1e65aa16bec74a18bb108a405c30735d": {
          "model_module": "@jupyter-widgets/base",
          "model_name": "LayoutModel",
          "state": {
            "_view_name": "LayoutView",
            "grid_template_rows": null,
            "right": null,
            "justify_content": null,
            "_view_module": "@jupyter-widgets/base",
            "overflow": null,
            "_model_module_version": "1.2.0",
            "_view_count": null,
            "flex_flow": null,
            "width": null,
            "min_width": null,
            "border": null,
            "align_items": null,
            "bottom": null,
            "_model_module": "@jupyter-widgets/base",
            "top": null,
            "grid_column": null,
            "overflow_y": null,
            "overflow_x": null,
            "grid_auto_flow": null,
            "grid_area": null,
            "grid_template_columns": null,
            "flex": null,
            "_model_name": "LayoutModel",
            "justify_items": null,
            "grid_row": null,
            "max_height": null,
            "align_content": null,
            "visibility": null,
            "align_self": null,
            "height": null,
            "min_height": null,
            "padding": null,
            "grid_auto_rows": null,
            "grid_gap": null,
            "max_width": null,
            "order": null,
            "_view_module_version": "1.2.0",
            "grid_template_areas": null,
            "object_position": null,
            "object_fit": null,
            "grid_auto_columns": null,
            "margin": null,
            "display": null,
            "left": null
          }
        },
        "f050bafeaa914fa4999cacadbfd1a19a": {
          "model_module": "@jupyter-widgets/controls",
          "model_name": "DescriptionStyleModel",
          "state": {
            "_view_name": "StyleView",
            "_model_name": "DescriptionStyleModel",
            "description_width": "",
            "_view_module": "@jupyter-widgets/base",
            "_model_module_version": "1.5.0",
            "_view_count": null,
            "_view_module_version": "1.2.0",
            "_model_module": "@jupyter-widgets/controls"
          }
        },
        "6a76364368cd4938b95c0b375b67d6d1": {
          "model_module": "@jupyter-widgets/base",
          "model_name": "LayoutModel",
          "state": {
            "_view_name": "LayoutView",
            "grid_template_rows": null,
            "right": null,
            "justify_content": null,
            "_view_module": "@jupyter-widgets/base",
            "overflow": null,
            "_model_module_version": "1.2.0",
            "_view_count": null,
            "flex_flow": null,
            "width": null,
            "min_width": null,
            "border": null,
            "align_items": null,
            "bottom": null,
            "_model_module": "@jupyter-widgets/base",
            "top": null,
            "grid_column": null,
            "overflow_y": null,
            "overflow_x": null,
            "grid_auto_flow": null,
            "grid_area": null,
            "grid_template_columns": null,
            "flex": null,
            "_model_name": "LayoutModel",
            "justify_items": null,
            "grid_row": null,
            "max_height": null,
            "align_content": null,
            "visibility": null,
            "align_self": null,
            "height": null,
            "min_height": null,
            "padding": null,
            "grid_auto_rows": null,
            "grid_gap": null,
            "max_width": null,
            "order": null,
            "_view_module_version": "1.2.0",
            "grid_template_areas": null,
            "object_position": null,
            "object_fit": null,
            "grid_auto_columns": null,
            "margin": null,
            "display": null,
            "left": null
          }
        },
        "17be75132c8442bd8bf8c8a4386dfb46": {
          "model_module": "@jupyter-widgets/controls",
          "model_name": "HBoxModel",
          "state": {
            "_view_name": "HBoxView",
            "_dom_classes": [],
            "_model_name": "HBoxModel",
            "_view_module": "@jupyter-widgets/controls",
            "_model_module_version": "1.5.0",
            "_view_count": null,
            "_view_module_version": "1.5.0",
            "box_style": "",
            "layout": "IPY_MODEL_41c414cbdb3e4905a7f56a475ecfccfd",
            "_model_module": "@jupyter-widgets/controls",
            "children": [
              "IPY_MODEL_fa68da92196f422cae4448fc1fca7c91",
              "IPY_MODEL_f8dff9759075420696e40953c79c9ba6"
            ]
          }
        },
        "41c414cbdb3e4905a7f56a475ecfccfd": {
          "model_module": "@jupyter-widgets/base",
          "model_name": "LayoutModel",
          "state": {
            "_view_name": "LayoutView",
            "grid_template_rows": null,
            "right": null,
            "justify_content": null,
            "_view_module": "@jupyter-widgets/base",
            "overflow": null,
            "_model_module_version": "1.2.0",
            "_view_count": null,
            "flex_flow": null,
            "width": null,
            "min_width": null,
            "border": null,
            "align_items": null,
            "bottom": null,
            "_model_module": "@jupyter-widgets/base",
            "top": null,
            "grid_column": null,
            "overflow_y": null,
            "overflow_x": null,
            "grid_auto_flow": null,
            "grid_area": null,
            "grid_template_columns": null,
            "flex": null,
            "_model_name": "LayoutModel",
            "justify_items": null,
            "grid_row": null,
            "max_height": null,
            "align_content": null,
            "visibility": null,
            "align_self": null,
            "height": null,
            "min_height": null,
            "padding": null,
            "grid_auto_rows": null,
            "grid_gap": null,
            "max_width": null,
            "order": null,
            "_view_module_version": "1.2.0",
            "grid_template_areas": null,
            "object_position": null,
            "object_fit": null,
            "grid_auto_columns": null,
            "margin": null,
            "display": null,
            "left": null
          }
        },
        "fa68da92196f422cae4448fc1fca7c91": {
          "model_module": "@jupyter-widgets/controls",
          "model_name": "FloatProgressModel",
          "state": {
            "_view_name": "ProgressView",
            "style": "IPY_MODEL_c85aad1c516d4d6ea0fdc294a03d17bb",
            "_dom_classes": [],
            "description": "Computing statistics...: 100%",
            "_model_name": "FloatProgressModel",
            "bar_style": "success",
            "max": 1,
            "_view_module": "@jupyter-widgets/controls",
            "_model_module_version": "1.5.0",
            "value": 1,
            "_view_count": null,
            "_view_module_version": "1.5.0",
            "orientation": "horizontal",
            "min": 0,
            "description_tooltip": null,
            "_model_module": "@jupyter-widgets/controls",
            "layout": "IPY_MODEL_40566c013d41463bb72e178263b1e52f"
          }
        },
        "f8dff9759075420696e40953c79c9ba6": {
          "model_module": "@jupyter-widgets/controls",
          "model_name": "HTMLModel",
          "state": {
            "_view_name": "HTMLView",
            "style": "IPY_MODEL_cba4bfdd65e2499ca282b1b966ce09b6",
            "_dom_classes": [],
            "description": "",
            "_model_name": "HTMLModel",
            "placeholder": "​",
            "_view_module": "@jupyter-widgets/controls",
            "_model_module_version": "1.5.0",
            "value": " 1/1 [02:36&lt;00:00, 156.32s/ split]",
            "_view_count": null,
            "_view_module_version": "1.5.0",
            "description_tooltip": null,
            "_model_module": "@jupyter-widgets/controls",
            "layout": "IPY_MODEL_2690f1c426a8408ca53d32673e555394"
          }
        },
        "c85aad1c516d4d6ea0fdc294a03d17bb": {
          "model_module": "@jupyter-widgets/controls",
          "model_name": "ProgressStyleModel",
          "state": {
            "_view_name": "StyleView",
            "_model_name": "ProgressStyleModel",
            "description_width": "initial",
            "_view_module": "@jupyter-widgets/base",
            "_model_module_version": "1.5.0",
            "_view_count": null,
            "_view_module_version": "1.2.0",
            "bar_color": null,
            "_model_module": "@jupyter-widgets/controls"
          }
        },
        "40566c013d41463bb72e178263b1e52f": {
          "model_module": "@jupyter-widgets/base",
          "model_name": "LayoutModel",
          "state": {
            "_view_name": "LayoutView",
            "grid_template_rows": null,
            "right": null,
            "justify_content": null,
            "_view_module": "@jupyter-widgets/base",
            "overflow": null,
            "_model_module_version": "1.2.0",
            "_view_count": null,
            "flex_flow": null,
            "width": null,
            "min_width": null,
            "border": null,
            "align_items": null,
            "bottom": null,
            "_model_module": "@jupyter-widgets/base",
            "top": null,
            "grid_column": null,
            "overflow_y": null,
            "overflow_x": null,
            "grid_auto_flow": null,
            "grid_area": null,
            "grid_template_columns": null,
            "flex": null,
            "_model_name": "LayoutModel",
            "justify_items": null,
            "grid_row": null,
            "max_height": null,
            "align_content": null,
            "visibility": null,
            "align_self": null,
            "height": null,
            "min_height": null,
            "padding": null,
            "grid_auto_rows": null,
            "grid_gap": null,
            "max_width": null,
            "order": null,
            "_view_module_version": "1.2.0",
            "grid_template_areas": null,
            "object_position": null,
            "object_fit": null,
            "grid_auto_columns": null,
            "margin": null,
            "display": null,
            "left": null
          }
        },
        "cba4bfdd65e2499ca282b1b966ce09b6": {
          "model_module": "@jupyter-widgets/controls",
          "model_name": "DescriptionStyleModel",
          "state": {
            "_view_name": "StyleView",
            "_model_name": "DescriptionStyleModel",
            "description_width": "",
            "_view_module": "@jupyter-widgets/base",
            "_model_module_version": "1.5.0",
            "_view_count": null,
            "_view_module_version": "1.2.0",
            "_model_module": "@jupyter-widgets/controls"
          }
        },
        "2690f1c426a8408ca53d32673e555394": {
          "model_module": "@jupyter-widgets/base",
          "model_name": "LayoutModel",
          "state": {
            "_view_name": "LayoutView",
            "grid_template_rows": null,
            "right": null,
            "justify_content": null,
            "_view_module": "@jupyter-widgets/base",
            "overflow": null,
            "_model_module_version": "1.2.0",
            "_view_count": null,
            "flex_flow": null,
            "width": null,
            "min_width": null,
            "border": null,
            "align_items": null,
            "bottom": null,
            "_model_module": "@jupyter-widgets/base",
            "top": null,
            "grid_column": null,
            "overflow_y": null,
            "overflow_x": null,
            "grid_auto_flow": null,
            "grid_area": null,
            "grid_template_columns": null,
            "flex": null,
            "_model_name": "LayoutModel",
            "justify_items": null,
            "grid_row": null,
            "max_height": null,
            "align_content": null,
            "visibility": null,
            "align_self": null,
            "height": null,
            "min_height": null,
            "padding": null,
            "grid_auto_rows": null,
            "grid_gap": null,
            "max_width": null,
            "order": null,
            "_view_module_version": "1.2.0",
            "grid_template_areas": null,
            "object_position": null,
            "object_fit": null,
            "grid_auto_columns": null,
            "margin": null,
            "display": null,
            "left": null
          }
        },
        "7cf7e6c88fba48e48a392c0e95f3ff57": {
          "model_module": "@jupyter-widgets/controls",
          "model_name": "HBoxModel",
          "state": {
            "_view_name": "HBoxView",
            "_dom_classes": [],
            "_model_name": "HBoxModel",
            "_view_module": "@jupyter-widgets/controls",
            "_model_module_version": "1.5.0",
            "_view_count": null,
            "_view_module_version": "1.5.0",
            "box_style": "",
            "layout": "IPY_MODEL_2a9db1a67c634d468a00cf951ce510a3",
            "_model_module": "@jupyter-widgets/controls",
            "children": [
              "IPY_MODEL_17f971e865e34e2089b4ffc0dddc5fd2",
              "IPY_MODEL_ba171d495ffa4739b5ece389fd7c8ba6"
            ]
          }
        },
        "2a9db1a67c634d468a00cf951ce510a3": {
          "model_module": "@jupyter-widgets/base",
          "model_name": "LayoutModel",
          "state": {
            "_view_name": "LayoutView",
            "grid_template_rows": null,
            "right": null,
            "justify_content": null,
            "_view_module": "@jupyter-widgets/base",
            "overflow": null,
            "_model_module_version": "1.2.0",
            "_view_count": null,
            "flex_flow": null,
            "width": null,
            "min_width": null,
            "border": null,
            "align_items": null,
            "bottom": null,
            "_model_module": "@jupyter-widgets/base",
            "top": null,
            "grid_column": null,
            "overflow_y": null,
            "overflow_x": null,
            "grid_auto_flow": null,
            "grid_area": null,
            "grid_template_columns": null,
            "flex": null,
            "_model_name": "LayoutModel",
            "justify_items": null,
            "grid_row": null,
            "max_height": null,
            "align_content": null,
            "visibility": null,
            "align_self": null,
            "height": null,
            "min_height": null,
            "padding": null,
            "grid_auto_rows": null,
            "grid_gap": null,
            "max_width": null,
            "order": null,
            "_view_module_version": "1.2.0",
            "grid_template_areas": null,
            "object_position": null,
            "object_fit": null,
            "grid_auto_columns": null,
            "margin": null,
            "display": null,
            "left": null
          }
        },
        "17f971e865e34e2089b4ffc0dddc5fd2": {
          "model_module": "@jupyter-widgets/controls",
          "model_name": "FloatProgressModel",
          "state": {
            "_view_name": "ProgressView",
            "style": "IPY_MODEL_e24634b319a945c890567c49baaa9b16",
            "_dom_classes": [],
            "description": "",
            "_model_name": "FloatProgressModel",
            "bar_style": "info",
            "max": 1,
            "_view_module": "@jupyter-widgets/controls",
            "_model_module_version": "1.5.0",
            "value": 1,
            "_view_count": null,
            "_view_module_version": "1.5.0",
            "orientation": "horizontal",
            "min": 0,
            "description_tooltip": null,
            "_model_module": "@jupyter-widgets/controls",
            "layout": "IPY_MODEL_d064b1c95b6f444a9d2a64fb5383493e"
          }
        },
        "ba171d495ffa4739b5ece389fd7c8ba6": {
          "model_module": "@jupyter-widgets/controls",
          "model_name": "HTMLModel",
          "state": {
            "_view_name": "HTMLView",
            "style": "IPY_MODEL_842e7b037972420e9458b9ee3c56fe57",
            "_dom_classes": [],
            "description": "",
            "_model_name": "HTMLModel",
            "placeholder": "​",
            "_view_module": "@jupyter-widgets/controls",
            "_model_module_version": "1.5.0",
            "value": " 104975/? [00:45&lt;00:00, 2262.83 examples/s]",
            "_view_count": null,
            "_view_module_version": "1.5.0",
            "description_tooltip": null,
            "_model_module": "@jupyter-widgets/controls",
            "layout": "IPY_MODEL_73ffbe42b7864507a5dd84c6adbb1745"
          }
        },
        "e24634b319a945c890567c49baaa9b16": {
          "model_module": "@jupyter-widgets/controls",
          "model_name": "ProgressStyleModel",
          "state": {
            "_view_name": "StyleView",
            "_model_name": "ProgressStyleModel",
            "description_width": "initial",
            "_view_module": "@jupyter-widgets/base",
            "_model_module_version": "1.5.0",
            "_view_count": null,
            "_view_module_version": "1.2.0",
            "bar_color": null,
            "_model_module": "@jupyter-widgets/controls"
          }
        },
        "d064b1c95b6f444a9d2a64fb5383493e": {
          "model_module": "@jupyter-widgets/base",
          "model_name": "LayoutModel",
          "state": {
            "_view_name": "LayoutView",
            "grid_template_rows": null,
            "right": null,
            "justify_content": null,
            "_view_module": "@jupyter-widgets/base",
            "overflow": null,
            "_model_module_version": "1.2.0",
            "_view_count": null,
            "flex_flow": null,
            "width": null,
            "min_width": null,
            "border": null,
            "align_items": null,
            "bottom": null,
            "_model_module": "@jupyter-widgets/base",
            "top": null,
            "grid_column": null,
            "overflow_y": null,
            "overflow_x": null,
            "grid_auto_flow": null,
            "grid_area": null,
            "grid_template_columns": null,
            "flex": null,
            "_model_name": "LayoutModel",
            "justify_items": null,
            "grid_row": null,
            "max_height": null,
            "align_content": null,
            "visibility": null,
            "align_self": null,
            "height": null,
            "min_height": null,
            "padding": null,
            "grid_auto_rows": null,
            "grid_gap": null,
            "max_width": null,
            "order": null,
            "_view_module_version": "1.2.0",
            "grid_template_areas": null,
            "object_position": null,
            "object_fit": null,
            "grid_auto_columns": null,
            "margin": null,
            "display": null,
            "left": null
          }
        },
        "842e7b037972420e9458b9ee3c56fe57": {
          "model_module": "@jupyter-widgets/controls",
          "model_name": "DescriptionStyleModel",
          "state": {
            "_view_name": "StyleView",
            "_model_name": "DescriptionStyleModel",
            "description_width": "",
            "_view_module": "@jupyter-widgets/base",
            "_model_module_version": "1.5.0",
            "_view_count": null,
            "_view_module_version": "1.2.0",
            "_model_module": "@jupyter-widgets/controls"
          }
        },
        "73ffbe42b7864507a5dd84c6adbb1745": {
          "model_module": "@jupyter-widgets/base",
          "model_name": "LayoutModel",
          "state": {
            "_view_name": "LayoutView",
            "grid_template_rows": null,
            "right": null,
            "justify_content": null,
            "_view_module": "@jupyter-widgets/base",
            "overflow": null,
            "_model_module_version": "1.2.0",
            "_view_count": null,
            "flex_flow": null,
            "width": null,
            "min_width": null,
            "border": null,
            "align_items": null,
            "bottom": null,
            "_model_module": "@jupyter-widgets/base",
            "top": null,
            "grid_column": null,
            "overflow_y": null,
            "overflow_x": null,
            "grid_auto_flow": null,
            "grid_area": null,
            "grid_template_columns": null,
            "flex": null,
            "_model_name": "LayoutModel",
            "justify_items": null,
            "grid_row": null,
            "max_height": null,
            "align_content": null,
            "visibility": null,
            "align_self": null,
            "height": null,
            "min_height": null,
            "padding": null,
            "grid_auto_rows": null,
            "grid_gap": null,
            "max_width": null,
            "order": null,
            "_view_module_version": "1.2.0",
            "grid_template_areas": null,
            "object_position": null,
            "object_fit": null,
            "grid_auto_columns": null,
            "margin": null,
            "display": null,
            "left": null
          }
        }
      }
    }
  },
  "cells": [
    {
      "cell_type": "markdown",
      "metadata": {
        "id": "view-in-github",
        "colab_type": "text"
      },
      "source": [
        "<a href=\"https://colab.research.google.com/github/imranhassan87/NLP/blob/master/Sentiment_Analysis.ipynb\" target=\"_parent\"><img src=\"https://colab.research.google.com/assets/colab-badge.svg\" alt=\"Open In Colab\"/></a>"
      ]
    },
    {
      "cell_type": "code",
      "metadata": {
        "id": "nklpY5PcV0HD",
        "colab_type": "code",
        "colab": {
          "base_uri": "https://localhost:8080/",
          "height": 357
        },
        "outputId": "91f03dc0-8fa2-4f36-e2e0-b4ef6ce3cacd"
      },
      "source": [
        "!nvidia-smi"
      ],
      "execution_count": 1,
      "outputs": [
        {
          "output_type": "stream",
          "text": [
            "Wed Jul  1 05:25:06 2020       \n",
            "+-----------------------------------------------------------------------------+\n",
            "| NVIDIA-SMI 450.36.06    Driver Version: 418.67       CUDA Version: 10.1     |\n",
            "|-------------------------------+----------------------+----------------------+\n",
            "| GPU  Name        Persistence-M| Bus-Id        Disp.A | Volatile Uncorr. ECC |\n",
            "| Fan  Temp  Perf  Pwr:Usage/Cap|         Memory-Usage | GPU-Util  Compute M. |\n",
            "|                               |                      |               MIG M. |\n",
            "|===============================+======================+======================|\n",
            "|   0  Tesla P100-PCIE...  Off  | 00000000:00:04.0 Off |                    0 |\n",
            "| N/A   40C    P0    27W / 250W |      0MiB / 16280MiB |      0%      Default |\n",
            "|                               |                      |                 ERR! |\n",
            "+-------------------------------+----------------------+----------------------+\n",
            "                                                                               \n",
            "+-----------------------------------------------------------------------------+\n",
            "| Processes:                                                                  |\n",
            "|  GPU   GI   CI        PID   Type   Process name                  GPU Memory |\n",
            "|        ID   ID                                                   Usage      |\n",
            "|=============================================================================|\n",
            "|  No running processes found                                                 |\n",
            "+-----------------------------------------------------------------------------+\n"
          ],
          "name": "stdout"
        }
      ]
    },
    {
      "cell_type": "code",
      "metadata": {
        "id": "sWra58RqWAXS",
        "colab_type": "code",
        "colab": {
          "base_uri": "https://localhost:8080/",
          "height": 955
        },
        "outputId": "82ceb31a-d151-4a37-d0a3-5d7580449a21"
      },
      "source": [
        "from __future__ import absolute_import, division, print_function, unicode_literals\n",
        "\n",
        "try:\n",
        "  !pip uninstall tb-nightly tensorboardX tensorboard\n",
        "  !pip install tf-nightly\n",
        "except Exception:\n",
        "  pass\n",
        "\n",
        "import tensorflow as tf\n",
        "\n",
        "%load_ext tensorboard"
      ],
      "execution_count": 2,
      "outputs": [
        {
          "output_type": "stream",
          "text": [
            "\u001b[33mWARNING: Skipping tb-nightly as it is not installed.\u001b[0m\n",
            "\u001b[33mWARNING: Skipping tensorboardX as it is not installed.\u001b[0m\n",
            "Uninstalling tensorboard-2.2.2:\n",
            "  Would remove:\n",
            "    /usr/local/bin/tensorboard\n",
            "    /usr/local/lib/python3.6/dist-packages/tensorboard-2.2.2.dist-info/*\n",
            "    /usr/local/lib/python3.6/dist-packages/tensorboard/*\n",
            "Proceed (y/n)? y\n",
            "  Successfully uninstalled tensorboard-2.2.2\n",
            "Collecting tf-nightly\n",
            "\u001b[?25l  Downloading https://files.pythonhosted.org/packages/a4/ca/477366aa1caa3dd438a42f44d83f9968beb04e9b883cad1d55e3c0dd1224/tf_nightly-2.4.0.dev20200630-cp36-cp36m-manylinux2010_x86_64.whl (322.7MB)\n",
            "\u001b[K     |████████████████████████████████| 322.7MB 47kB/s \n",
            "\u001b[?25hRequirement already satisfied: opt-einsum>=2.3.2 in /usr/local/lib/python3.6/dist-packages (from tf-nightly) (3.2.1)\n",
            "Requirement already satisfied: google-pasta>=0.1.8 in /usr/local/lib/python3.6/dist-packages (from tf-nightly) (0.2.0)\n",
            "Requirement already satisfied: keras-preprocessing<1.2,>=1.1.1 in /usr/local/lib/python3.6/dist-packages (from tf-nightly) (1.1.2)\n",
            "Collecting tf-estimator-nightly\n",
            "\u001b[?25l  Downloading https://files.pythonhosted.org/packages/01/6b/d146c81b0c8592d7ad8c756fcc5807bf4f1a3eeb19628efad6d5200490c5/tf_estimator_nightly-2.4.0.dev2020063001-py2.py3-none-any.whl (459kB)\n",
            "\u001b[K     |████████████████████████████████| 460kB 49.5MB/s \n",
            "\u001b[?25hRequirement already satisfied: astunparse==1.6.3 in /usr/local/lib/python3.6/dist-packages (from tf-nightly) (1.6.3)\n",
            "Requirement already satisfied: protobuf>=3.9.2 in /usr/local/lib/python3.6/dist-packages (from tf-nightly) (3.10.0)\n",
            "Requirement already satisfied: termcolor>=1.1.0 in /usr/local/lib/python3.6/dist-packages (from tf-nightly) (1.1.0)\n",
            "Requirement already satisfied: absl-py>=0.7.0 in /usr/local/lib/python3.6/dist-packages (from tf-nightly) (0.9.0)\n",
            "Requirement already satisfied: h5py<2.11.0,>=2.10.0 in /usr/local/lib/python3.6/dist-packages (from tf-nightly) (2.10.0)\n",
            "Requirement already satisfied: gast==0.3.3 in /usr/local/lib/python3.6/dist-packages (from tf-nightly) (0.3.3)\n",
            "Requirement already satisfied: scipy==1.4.1 in /usr/local/lib/python3.6/dist-packages (from tf-nightly) (1.4.1)\n",
            "Requirement already satisfied: wrapt>=1.11.1 in /usr/local/lib/python3.6/dist-packages (from tf-nightly) (1.12.1)\n",
            "Requirement already satisfied: grpcio>=1.8.6 in /usr/local/lib/python3.6/dist-packages (from tf-nightly) (1.30.0)\n",
            "Requirement already satisfied: wheel>=0.26 in /usr/local/lib/python3.6/dist-packages (from tf-nightly) (0.34.2)\n",
            "Requirement already satisfied: six>=1.12.0 in /usr/local/lib/python3.6/dist-packages (from tf-nightly) (1.12.0)\n",
            "Requirement already satisfied: numpy<1.19.0,>=1.16.0 in /usr/local/lib/python3.6/dist-packages (from tf-nightly) (1.18.5)\n",
            "Collecting tb-nightly<2.4.0a0,>=2.3.0a0\n",
            "\u001b[?25l  Downloading https://files.pythonhosted.org/packages/9f/15/8fd0b469b982323abdcf312c158663c0688df3f8c3538ddc0dff3895aa58/tb_nightly-2.3.0a20200630-py3-none-any.whl (3.0MB)\n",
            "\u001b[K     |████████████████████████████████| 3.0MB 47.4MB/s \n",
            "\u001b[?25hRequirement already satisfied: setuptools in /usr/local/lib/python3.6/dist-packages (from protobuf>=3.9.2->tf-nightly) (47.3.1)\n",
            "Requirement already satisfied: google-auth-oauthlib<0.5,>=0.4.1 in /usr/local/lib/python3.6/dist-packages (from tb-nightly<2.4.0a0,>=2.3.0a0->tf-nightly) (0.4.1)\n",
            "Requirement already satisfied: tensorboard-plugin-wit>=1.6.0 in /usr/local/lib/python3.6/dist-packages (from tb-nightly<2.4.0a0,>=2.3.0a0->tf-nightly) (1.6.0.post3)\n",
            "Requirement already satisfied: werkzeug>=0.11.15 in /usr/local/lib/python3.6/dist-packages (from tb-nightly<2.4.0a0,>=2.3.0a0->tf-nightly) (1.0.1)\n",
            "Requirement already satisfied: markdown>=2.6.8 in /usr/local/lib/python3.6/dist-packages (from tb-nightly<2.4.0a0,>=2.3.0a0->tf-nightly) (3.2.2)\n",
            "Requirement already satisfied: requests<3,>=2.21.0 in /usr/local/lib/python3.6/dist-packages (from tb-nightly<2.4.0a0,>=2.3.0a0->tf-nightly) (2.23.0)\n",
            "Requirement already satisfied: google-auth<2,>=1.6.3 in /usr/local/lib/python3.6/dist-packages (from tb-nightly<2.4.0a0,>=2.3.0a0->tf-nightly) (1.17.2)\n",
            "Requirement already satisfied: requests-oauthlib>=0.7.0 in /usr/local/lib/python3.6/dist-packages (from google-auth-oauthlib<0.5,>=0.4.1->tb-nightly<2.4.0a0,>=2.3.0a0->tf-nightly) (1.3.0)\n",
            "Requirement already satisfied: importlib-metadata; python_version < \"3.8\" in /usr/local/lib/python3.6/dist-packages (from markdown>=2.6.8->tb-nightly<2.4.0a0,>=2.3.0a0->tf-nightly) (1.6.1)\n",
            "Requirement already satisfied: idna<3,>=2.5 in /usr/local/lib/python3.6/dist-packages (from requests<3,>=2.21.0->tb-nightly<2.4.0a0,>=2.3.0a0->tf-nightly) (2.9)\n",
            "Requirement already satisfied: chardet<4,>=3.0.2 in /usr/local/lib/python3.6/dist-packages (from requests<3,>=2.21.0->tb-nightly<2.4.0a0,>=2.3.0a0->tf-nightly) (3.0.4)\n",
            "Requirement already satisfied: certifi>=2017.4.17 in /usr/local/lib/python3.6/dist-packages (from requests<3,>=2.21.0->tb-nightly<2.4.0a0,>=2.3.0a0->tf-nightly) (2020.6.20)\n",
            "Requirement already satisfied: urllib3!=1.25.0,!=1.25.1,<1.26,>=1.21.1 in /usr/local/lib/python3.6/dist-packages (from requests<3,>=2.21.0->tb-nightly<2.4.0a0,>=2.3.0a0->tf-nightly) (1.24.3)\n",
            "Requirement already satisfied: cachetools<5.0,>=2.0.0 in /usr/local/lib/python3.6/dist-packages (from google-auth<2,>=1.6.3->tb-nightly<2.4.0a0,>=2.3.0a0->tf-nightly) (4.1.0)\n",
            "Requirement already satisfied: rsa<5,>=3.1.4; python_version >= \"3\" in /usr/local/lib/python3.6/dist-packages (from google-auth<2,>=1.6.3->tb-nightly<2.4.0a0,>=2.3.0a0->tf-nightly) (4.6)\n",
            "Requirement already satisfied: pyasn1-modules>=0.2.1 in /usr/local/lib/python3.6/dist-packages (from google-auth<2,>=1.6.3->tb-nightly<2.4.0a0,>=2.3.0a0->tf-nightly) (0.2.8)\n",
            "Requirement already satisfied: oauthlib>=3.0.0 in /usr/local/lib/python3.6/dist-packages (from requests-oauthlib>=0.7.0->google-auth-oauthlib<0.5,>=0.4.1->tb-nightly<2.4.0a0,>=2.3.0a0->tf-nightly) (3.1.0)\n",
            "Requirement already satisfied: zipp>=0.5 in /usr/local/lib/python3.6/dist-packages (from importlib-metadata; python_version < \"3.8\"->markdown>=2.6.8->tb-nightly<2.4.0a0,>=2.3.0a0->tf-nightly) (3.1.0)\n",
            "Requirement already satisfied: pyasn1>=0.1.3 in /usr/local/lib/python3.6/dist-packages (from rsa<5,>=3.1.4; python_version >= \"3\"->google-auth<2,>=1.6.3->tb-nightly<2.4.0a0,>=2.3.0a0->tf-nightly) (0.4.8)\n",
            "Installing collected packages: tf-estimator-nightly, tb-nightly, tf-nightly\n",
            "Successfully installed tb-nightly-2.3.0a20200630 tf-estimator-nightly-2.4.0.dev2020063001 tf-nightly-2.4.0.dev20200630\n"
          ],
          "name": "stdout"
        }
      ]
    },
    {
      "cell_type": "code",
      "metadata": {
        "id": "yolDZQEgYMWA",
        "colab_type": "code",
        "colab": {
          "base_uri": "https://localhost:8080/",
          "height": 34
        },
        "outputId": "a984142a-1262-4882-c2dc-6082dde39171"
      },
      "source": [
        "print(tf.__version__)"
      ],
      "execution_count": 3,
      "outputs": [
        {
          "output_type": "stream",
          "text": [
            "2.4.0-dev20200630\n"
          ],
          "name": "stdout"
        }
      ]
    },
    {
      "cell_type": "code",
      "metadata": {
        "id": "R76-qYnOZR5t",
        "colab_type": "code",
        "colab": {
          "base_uri": "https://localhost:8080/",
          "height": 51
        },
        "outputId": "7e7e5be7-1085-466a-b9de-66b4eddb1e6f"
      },
      "source": [
        "import pkg_resources\n",
        "\n",
        "for entry_point in pkg_resources.iter_entry_points('tensorboard_plugins'):\n",
        "  print(entry_point.dist)"
      ],
      "execution_count": 4,
      "outputs": [
        {
          "output_type": "stream",
          "text": [
            "tensorboard 2.2.2\n",
            "tensorboard-plugin-wit 1.6.0.post3\n"
          ],
          "name": "stdout"
        }
      ]
    },
    {
      "cell_type": "code",
      "metadata": {
        "id": "d1VuQ8DNZvSV",
        "colab_type": "code",
        "colab": {}
      },
      "source": [
        "!rm -r /usr/local/lib/python3.6/dist-packages/tensorboardcolab-0.0.22.dist-info"
      ],
      "execution_count": 5,
      "outputs": []
    },
    {
      "cell_type": "code",
      "metadata": {
        "id": "pwFWsM6waXw_",
        "colab_type": "code",
        "colab": {}
      },
      "source": [
        "import tensorflow_datasets as tfds"
      ],
      "execution_count": 6,
      "outputs": []
    },
    {
      "cell_type": "code",
      "metadata": {
        "id": "3sHdt4Qaa2gV",
        "colab_type": "code",
        "colab": {
          "base_uri": "https://localhost:8080/",
          "height": 418,
          "referenced_widgets": [
            "06009798c8224228add370c18c7346fd",
            "b2497f1a6e0b4e8e885f7e637846fff0",
            "5e47cb4ac7a04e0381444209dff46a9c",
            "409265f8c1194307935e076d0907934e",
            "1b984d0cb4ab45749dcd3d00a9d21f8c",
            "692ace5adf9e447299abede9fec034f0",
            "f30b4c561af141de831068711ba38f29",
            "bf0723b4b0d74263a0aafd97f3b6f39a",
            "d569cedb150e4e0eb111da109afdd0d2",
            "66406151f310413fa50fdd0ad4f38aca",
            "36bc9f57ef0141c9b0bd6fb8eebff8e0",
            "98595c32b33249c59cd803f159a0862a",
            "e65f43d9ae2c4d77bd622618c967b213",
            "a8c4939907474cc39a4b945b6c267ef5",
            "2a1d053db53646d6abafa913340db75c",
            "bf3afabd4b0b478098bff274e4b1182a",
            "56fc92561063489b821974e3f9f161ad",
            "1cd2cea23f0b458eaa14bc9cff16e3ca",
            "f87fec00e4dc4ee5902d1ca7c41310ba",
            "f660a4f696ba439585684e5826b4ddb2",
            "0a6ebf1a7e984dbfa953c8601494b3a5",
            "81ef225cc3b14ecbbfdbd0216907f696",
            "5c64d02042f241a8b5a57e21a6cb0d49",
            "a8714d7e4fc64092ab166a58e6fe75d4",
            "0448cc76d653417c9883f3eb45fc2112",
            "50e889d82cad4c1f97f20cf7fc356c46",
            "f59f1887823e483198024c94cc07c8e6",
            "11f1ce522d7542619e2f87eda6b623ab",
            "9177c155efc744ca93a521ec86b06cfa",
            "b0b96ca91de94c0d985fff78af501c23",
            "1511e39ca45a49a9943f20633272e66e",
            "d4574a0132c4488f8c1f6ca64299596c",
            "e887b57977da43eda33a20084418b071",
            "f4151a4613b24ae58de07e93a7e8ce91",
            "474c844827a14d3f9a487c657357fe10",
            "c73b7f2982a4425b9936bfb8a7c91f6b",
            "21e3d91d668e4ad189fbc52a75e54f81",
            "1e65aa16bec74a18bb108a405c30735d",
            "f050bafeaa914fa4999cacadbfd1a19a",
            "6a76364368cd4938b95c0b375b67d6d1",
            "17be75132c8442bd8bf8c8a4386dfb46",
            "41c414cbdb3e4905a7f56a475ecfccfd",
            "fa68da92196f422cae4448fc1fca7c91",
            "f8dff9759075420696e40953c79c9ba6",
            "c85aad1c516d4d6ea0fdc294a03d17bb",
            "40566c013d41463bb72e178263b1e52f",
            "cba4bfdd65e2499ca282b1b966ce09b6",
            "2690f1c426a8408ca53d32673e555394",
            "7cf7e6c88fba48e48a392c0e95f3ff57",
            "2a9db1a67c634d468a00cf951ce510a3",
            "17f971e865e34e2089b4ffc0dddc5fd2",
            "ba171d495ffa4739b5ece389fd7c8ba6",
            "e24634b319a945c890567c49baaa9b16",
            "d064b1c95b6f444a9d2a64fb5383493e",
            "842e7b037972420e9458b9ee3c56fe57",
            "73ffbe42b7864507a5dd84c6adbb1745"
          ]
        },
        "outputId": "9a4e1935-7f2e-493d-c80f-27c428cc3463"
      },
      "source": [
        "dataset, info = tfds.load('amazon_us_reviews/Mobile_Electronics_v1_00', with_info=True)\n",
        "train_dataset  = dataset['train']"
      ],
      "execution_count": 7,
      "outputs": [
        {
          "output_type": "stream",
          "text": [
            "\u001b[1mDownloading and preparing dataset amazon_us_reviews/Mobile_Electronics_v1_00/0.1.0 (download: 21.81 MiB, generated: Unknown size, total: 21.81 MiB) to /root/tensorflow_datasets/amazon_us_reviews/Mobile_Electronics_v1_00/0.1.0...\u001b[0m\n"
          ],
          "name": "stdout"
        },
        {
          "output_type": "display_data",
          "data": {
            "application/vnd.jupyter.widget-view+json": {
              "model_id": "06009798c8224228add370c18c7346fd",
              "version_minor": 0,
              "version_major": 2
            },
            "text/plain": [
              "HBox(children=(FloatProgress(value=1.0, bar_style='info', description='Dl Completed...', max=1.0, style=Progre…"
            ]
          },
          "metadata": {
            "tags": []
          }
        },
        {
          "output_type": "display_data",
          "data": {
            "application/vnd.jupyter.widget-view+json": {
              "model_id": "d569cedb150e4e0eb111da109afdd0d2",
              "version_minor": 0,
              "version_major": 2
            },
            "text/plain": [
              "HBox(children=(FloatProgress(value=1.0, bar_style='info', description='Dl Size...', max=1.0, style=ProgressSty…"
            ]
          },
          "metadata": {
            "tags": []
          }
        },
        {
          "output_type": "display_data",
          "data": {
            "application/vnd.jupyter.widget-view+json": {
              "model_id": "56fc92561063489b821974e3f9f161ad",
              "version_minor": 0,
              "version_major": 2
            },
            "text/plain": [
              "HBox(children=(FloatProgress(value=1.0, bar_style='info', description='Extraction completed...', max=1.0, styl…"
            ]
          },
          "metadata": {
            "tags": []
          }
        },
        {
          "output_type": "stream",
          "text": [
            "/usr/local/lib/python3.6/dist-packages/urllib3/connectionpool.py:847: InsecureRequestWarning: Unverified HTTPS request is being made. Adding certificate verification is strongly advised. See: https://urllib3.readthedocs.io/en/latest/advanced-usage.html#ssl-warnings\n",
            "  InsecureRequestWarning)\n"
          ],
          "name": "stderr"
        },
        {
          "output_type": "stream",
          "text": [
            "\n",
            "\n",
            "\n",
            "\n",
            "\n",
            "\n"
          ],
          "name": "stdout"
        },
        {
          "output_type": "display_data",
          "data": {
            "application/vnd.jupyter.widget-view+json": {
              "model_id": "0448cc76d653417c9883f3eb45fc2112",
              "version_minor": 0,
              "version_major": 2
            },
            "text/plain": [
              "HBox(children=(FloatProgress(value=1.0, bar_style='info', max=1.0), HTML(value='')))"
            ]
          },
          "metadata": {
            "tags": []
          }
        },
        {
          "output_type": "stream",
          "text": [
            "\rShuffling and writing examples to /root/tensorflow_datasets/amazon_us_reviews/Mobile_Electronics_v1_00/0.1.0.incomplete9ZO09U/amazon_us_reviews-train.tfrecord\n"
          ],
          "name": "stdout"
        },
        {
          "output_type": "display_data",
          "data": {
            "application/vnd.jupyter.widget-view+json": {
              "model_id": "e887b57977da43eda33a20084418b071",
              "version_minor": 0,
              "version_major": 2
            },
            "text/plain": [
              "HBox(children=(FloatProgress(value=0.0, max=104975.0), HTML(value='')))"
            ]
          },
          "metadata": {
            "tags": []
          }
        },
        {
          "output_type": "display_data",
          "data": {
            "application/vnd.jupyter.widget-view+json": {
              "model_id": "17be75132c8442bd8bf8c8a4386dfb46",
              "version_minor": 0,
              "version_major": 2
            },
            "text/plain": [
              "HBox(children=(FloatProgress(value=0.0, description='Computing statistics...', max=1.0, style=ProgressStyle(de…"
            ]
          },
          "metadata": {
            "tags": []
          }
        },
        {
          "output_type": "display_data",
          "data": {
            "application/vnd.jupyter.widget-view+json": {
              "model_id": "7cf7e6c88fba48e48a392c0e95f3ff57",
              "version_minor": 0,
              "version_major": 2
            },
            "text/plain": [
              "HBox(children=(FloatProgress(value=1.0, bar_style='info', max=1.0), HTML(value='')))"
            ]
          },
          "metadata": {
            "tags": []
          }
        },
        {
          "output_type": "stream",
          "text": [
            "ERROR:absl:Statistics generation doesn't work for nested structures yet\n"
          ],
          "name": "stderr"
        },
        {
          "output_type": "stream",
          "text": [
            "\n",
            "\u001b[1mDataset amazon_us_reviews downloaded and prepared to /root/tensorflow_datasets/amazon_us_reviews/Mobile_Electronics_v1_00/0.1.0. Subsequent calls will reuse this data.\u001b[0m\n"
          ],
          "name": "stdout"
        }
      ]
    },
    {
      "cell_type": "code",
      "metadata": {
        "id": "gpf2bfrscde1",
        "colab_type": "code",
        "colab": {
          "base_uri": "https://localhost:8080/",
          "height": 955
        },
        "outputId": "c6cd7c0b-5523-438d-da5f-c73b6e297b1b"
      },
      "source": [
        "info"
      ],
      "execution_count": null,
      "outputs": [
        {
          "output_type": "execute_result",
          "data": {
            "text/plain": [
              "tfds.core.DatasetInfo(\n",
              "    name='amazon_us_reviews',\n",
              "    version=0.1.0,\n",
              "    description='Amazon Customer Reviews (a.k.a. Product Reviews) is one of Amazons iconic products. In a period of over two decades since the first review in 1995, millions of Amazon customers have contributed over a hundred million reviews to express opinions and describe their experiences regarding products on the Amazon.com website. This makes Amazon Customer Reviews a rich source of information for academic researchers in the fields of Natural Language Processing (NLP), Information Retrieval (IR), and Machine Learning (ML), amongst others. Accordingly, we are releasing this data to further research in multiple disciplines related to understanding customer product experiences. Specifically, this dataset was constructed to represent a sample of customer evaluations and opinions, variation in the perception of a product across geographical regions, and promotional intent or bias in reviews.\n",
              "\n",
              "Over 130+ million customer reviews are available to researchers as part of this release. The data is available in TSV files in the amazon-reviews-pds S3 bucket in AWS US East Region. Each line in the data files corresponds to an individual review (tab delimited, with no quote and escape characters).\n",
              "\n",
              "Each Dataset contains the following columns : \n",
              "  marketplace       - 2 letter country code of the marketplace where the review was written.\n",
              "  customer_id       - Random identifier that can be used to aggregate reviews written by a single author.\n",
              "  review_id         - The unique ID of the review.\n",
              "  product_id        - The unique Product ID the review pertains to. In the multilingual dataset the reviews\n",
              "                      for the same product in different countries can be grouped by the same product_id.\n",
              "  product_parent    - Random identifier that can be used to aggregate reviews for the same product.\n",
              "  product_title     - Title of the product.\n",
              "  product_category  - Broad product category that can be used to group reviews \n",
              "                      (also used to group the dataset into coherent parts).\n",
              "  star_rating       - The 1-5 star rating of the review.\n",
              "  helpful_votes     - Number of helpful votes.\n",
              "  total_votes       - Number of total votes the review received.\n",
              "  vine              - Review was written as part of the Vine program.\n",
              "  verified_purchase - The review is on a verified purchase.\n",
              "  review_headline   - The title of the review.\n",
              "  review_body       - The review text.\n",
              "  review_date       - The date the review was written.\n",
              "',\n",
              "    homepage='https://s3.amazonaws.com/amazon-reviews-pds/readme.html',\n",
              "    features=FeaturesDict({\n",
              "        'data': FeaturesDict({\n",
              "            'customer_id': tf.string,\n",
              "            'helpful_votes': tf.int32,\n",
              "            'marketplace': tf.string,\n",
              "            'product_category': tf.string,\n",
              "            'product_id': tf.string,\n",
              "            'product_parent': tf.string,\n",
              "            'product_title': tf.string,\n",
              "            'review_body': tf.string,\n",
              "            'review_date': tf.string,\n",
              "            'review_headline': tf.string,\n",
              "            'review_id': tf.string,\n",
              "            'star_rating': tf.int32,\n",
              "            'total_votes': tf.int32,\n",
              "            'verified_purchase': ClassLabel(shape=(), dtype=tf.int64, num_classes=2),\n",
              "            'vine': ClassLabel(shape=(), dtype=tf.int64, num_classes=2),\n",
              "        }),\n",
              "    }),\n",
              "    total_num_examples=104975,\n",
              "    splits={\n",
              "        'train': 104975,\n",
              "    },\n",
              "    supervised_keys=None,\n",
              "    citation=\"\"\"\"\"\",\n",
              "    redistribution_info=,\n",
              ")"
            ]
          },
          "metadata": {
            "tags": []
          },
          "execution_count": 127
        }
      ]
    },
    {
      "cell_type": "code",
      "metadata": {
        "id": "S6gkeLJcdbGb",
        "colab_type": "code",
        "colab": {
          "base_uri": "https://localhost:8080/",
          "height": 54
        },
        "outputId": "bed97695-afed-42f5-ff12-f5dc178f6f7e"
      },
      "source": [
        "print(train_dataset)"
      ],
      "execution_count": null,
      "outputs": [
        {
          "output_type": "stream",
          "text": [
            "<DatasetV1Adapter shapes: {data: {customer_id: (), helpful_votes: (), marketplace: (), product_category: (), product_id: (), product_parent: (), product_title: (), review_body: (), review_date: (), review_headline: (), review_id: (), star_rating: (), total_votes: (), verified_purchase: (), vine: ()}}, types: {data: {customer_id: tf.string, helpful_votes: tf.int32, marketplace: tf.string, product_category: tf.string, product_id: tf.string, product_parent: tf.string, product_title: tf.string, review_body: tf.string, review_date: tf.string, review_headline: tf.string, review_id: tf.string, star_rating: tf.int32, total_votes: tf.int32, verified_purchase: tf.int64, vine: tf.int64}}>\n"
          ],
          "name": "stdout"
        }
      ]
    },
    {
      "cell_type": "code",
      "metadata": {
        "id": "CW87HYAjdq3C",
        "colab_type": "code",
        "colab": {
          "base_uri": "https://localhost:8080/",
          "height": 34
        },
        "outputId": "695c5e12-85ec-4547-f193-2f8d880f0764"
      },
      "source": [
        "len(list(train_dataset))"
      ],
      "execution_count": null,
      "outputs": [
        {
          "output_type": "execute_result",
          "data": {
            "text/plain": [
              "104975"
            ]
          },
          "metadata": {
            "tags": []
          },
          "execution_count": 129
        }
      ]
    },
    {
      "cell_type": "code",
      "metadata": {
        "id": "QWk5kWWzdySG",
        "colab_type": "code",
        "colab": {}
      },
      "source": [
        "BUFFER_SIZE=3000\n",
        "BATCH_SIZE=128 #using mini-batch GD"
      ],
      "execution_count": 8,
      "outputs": []
    },
    {
      "cell_type": "code",
      "metadata": {
        "id": "xFvZ0GrfeDna",
        "colab_type": "code",
        "colab": {}
      },
      "source": [
        "train_dataset = train_dataset.shuffle(BUFFER_SIZE, reshuffle_each_iteration=False)"
      ],
      "execution_count": 9,
      "outputs": []
    },
    {
      "cell_type": "code",
      "metadata": {
        "id": "zHZpC6SRePZ7",
        "colab_type": "code",
        "colab": {
          "base_uri": "https://localhost:8080/",
          "height": 71
        },
        "outputId": "d30b6d96-9a06-4337-cbde-377c47fca0bb"
      },
      "source": [
        "for reviews in train_dataset.take(2):\n",
        "    print(reviews)"
      ],
      "execution_count": null,
      "outputs": [
        {
          "output_type": "stream",
          "text": [
            "{'data': {'customer_id': <tf.Tensor: shape=(), dtype=string, numpy=b'13113064'>, 'helpful_votes': <tf.Tensor: shape=(), dtype=int32, numpy=0>, 'marketplace': <tf.Tensor: shape=(), dtype=string, numpy=b'US'>, 'product_category': <tf.Tensor: shape=(), dtype=string, numpy=b'Mobile_Electronics'>, 'product_id': <tf.Tensor: shape=(), dtype=string, numpy=b'B00O4D5GPS'>, 'product_parent': <tf.Tensor: shape=(), dtype=string, numpy=b'844349050'>, 'product_title': <tf.Tensor: shape=(), dtype=string, numpy=b'Sony ICFCS15IP 30-Pin iPod/iPhone Speaker Dock (Black) (Discontinued by Manufacturer) (Certified Refurbished)'>, 'review_body': <tf.Tensor: shape=(), dtype=string, numpy=b'I purchased this dock for my 11 year old daughters to charge her ipod. She loved the slim design because it fits on her small shelf. She also loves the sound and volume as well as dual alarms, one for school and one for sports.<br />Thank you'>, 'review_date': <tf.Tensor: shape=(), dtype=string, numpy=b'2015-04-27'>, 'review_headline': <tf.Tensor: shape=(), dtype=string, numpy=b'Love this dock'>, 'review_id': <tf.Tensor: shape=(), dtype=string, numpy=b'RQJSE0GJS61GZ'>, 'star_rating': <tf.Tensor: shape=(), dtype=int32, numpy=5>, 'total_votes': <tf.Tensor: shape=(), dtype=int32, numpy=0>, 'verified_purchase': <tf.Tensor: shape=(), dtype=int64, numpy=0>, 'vine': <tf.Tensor: shape=(), dtype=int64, numpy=1>}}\n",
            "{'data': {'customer_id': <tf.Tensor: shape=(), dtype=string, numpy=b'43540981'>, 'helpful_votes': <tf.Tensor: shape=(), dtype=int32, numpy=1>, 'marketplace': <tf.Tensor: shape=(), dtype=string, numpy=b'US'>, 'product_category': <tf.Tensor: shape=(), dtype=string, numpy=b'Mobile_Electronics'>, 'product_id': <tf.Tensor: shape=(), dtype=string, numpy=b'B00LAG4HN4'>, 'product_parent': <tf.Tensor: shape=(), dtype=string, numpy=b'536367292'>, 'product_title': <tf.Tensor: shape=(), dtype=string, numpy=b'iXCC Element II Lightning Cable 6ft, iPhone Charger, for iPhone 7 6s 6 Plus, SE 5s 5c 5, iPad Air 2 Pro, iPad mini 2 3 4, iPad 4th Gen [Apple MFi Certified](White and Black)'>, 'review_body': <tf.Tensor: shape=(), dtype=string, numpy=b'Ordered multiples of these months ago in case they break like every other iPhone charger and not one has broke nor does it have problems or show wear and tear'>, 'review_date': <tf.Tensor: shape=(), dtype=string, numpy=b'2015-08-18'>, 'review_headline': <tf.Tensor: shape=(), dtype=string, numpy=b'Reliable'>, 'review_id': <tf.Tensor: shape=(), dtype=string, numpy=b'RMS52HZ9XXF6T'>, 'star_rating': <tf.Tensor: shape=(), dtype=int32, numpy=5>, 'total_votes': <tf.Tensor: shape=(), dtype=int32, numpy=1>, 'verified_purchase': <tf.Tensor: shape=(), dtype=int64, numpy=0>, 'vine': <tf.Tensor: shape=(), dtype=int64, numpy=1>}}\n"
          ],
          "name": "stdout"
        }
      ]
    },
    {
      "cell_type": "code",
      "metadata": {
        "id": "nxNh5pQAfJ4M",
        "colab_type": "code",
        "colab": {
          "base_uri": "https://localhost:8080/",
          "height": 292
        },
        "outputId": "b7c859cd-9357-4e71-d562-9e66c69c5933"
      },
      "source": [
        "for reviews in train_dataset.take(5):\n",
        "    review_text=reviews['data']\n",
        "    print(review_text.get('review_body').numpy())\n",
        "    print(review_text.get('star_rating'))\n",
        "    print(tf.where(review_text.get('star_rating')>3,1,0).numpy())"
      ],
      "execution_count": null,
      "outputs": [
        {
          "output_type": "stream",
          "text": [
            "b'I purchased this dock for my 11 year old daughters to charge her ipod. She loved the slim design because it fits on her small shelf. She also loves the sound and volume as well as dual alarms, one for school and one for sports.<br />Thank you'\n",
            "tf.Tensor(5, shape=(), dtype=int32)\n",
            "1\n",
            "b'Ordered multiples of these months ago in case they break like every other iPhone charger and not one has broke nor does it have problems or show wear and tear'\n",
            "tf.Tensor(5, shape=(), dtype=int32)\n",
            "1\n",
            "b'All I needed was a small step ladder and a screw driver.<br />Four east steps:<br />1 Screw it to the ceiling.<br />2 Plug it in.<br />3 Park you car in the desired spot.<br />4 Chose a specific spot on the vehicle you can see from the drivers seat and aim the laser to it.<br />I actually used it to mark two different cars in the same parking bay.<br />Just make sure you have an available outlet to plug it into.<br />They make a surge protector that is rectangular and has six outlets on it that plugs right into a duel outlet.<br />It is about one inch thick and about three and a half by five inches.(1&#34;x3.5&#34;x5&#34;)<br />They make some cheap ones you can get for less then a dollar.<br />I would recommend the ones that have a surge protector in them.'\n",
            "tf.Tensor(5, shape=(), dtype=int32)\n",
            "1\n",
            "b'Gave this to my son for Christmas. Today, mid July, it stopped working. Less than 7 months for $15.'\n",
            "tf.Tensor(2, shape=(), dtype=int32)\n",
            "0\n",
            "b'My grandson loves the clear crystal case. It not only protects the iPod Touch, but all the features are still accessible - including the charger.     The price was great also!'\n",
            "tf.Tensor(5, shape=(), dtype=int32)\n",
            "1\n"
          ],
          "name": "stdout"
        }
      ]
    },
    {
      "cell_type": "code",
      "metadata": {
        "id": "inmGV51Kfkus",
        "colab_type": "code",
        "colab": {}
      },
      "source": [
        "tokenizer = tfds.features.text.Tokenizer()"
      ],
      "execution_count": 10,
      "outputs": []
    },
    {
      "cell_type": "code",
      "metadata": {
        "id": "T4CLhZRLgcHG",
        "colab_type": "code",
        "colab": {
          "base_uri": "https://localhost:8080/",
          "height": 34
        },
        "outputId": "d10e7bae-e617-4946-be1f-7c64b5889c72"
      },
      "source": [
        "vocabulary_set = set() #set method removes all the duplicates\n",
        "for _,reviews in train_dataset.enumerate():\n",
        "    #printing reviews\n",
        "    review_text=reviews['data']\n",
        "    reviews_tokens=tokenizer.tokenize(review_text.get('review_body').numpy())\n",
        "    vocabulary_set.update(reviews_tokens)\n",
        "\n",
        "vocab_size = len(vocabulary_set)\n",
        "vocab_size"
      ],
      "execution_count": 11,
      "outputs": [
        {
          "output_type": "execute_result",
          "data": {
            "text/plain": [
              "73738"
            ]
          },
          "metadata": {
            "tags": []
          },
          "execution_count": 11
        }
      ]
    },
    {
      "cell_type": "code",
      "metadata": {
        "id": "RIuegBkunsoE",
        "colab_type": "code",
        "colab": {}
      },
      "source": [
        "encoder = tfds.features.text.TokenTextEncoder(vocabulary_set)"
      ],
      "execution_count": 12,
      "outputs": []
    },
    {
      "cell_type": "code",
      "metadata": {
        "id": "UQkN57vwAmjS",
        "colab_type": "code",
        "colab": {}
      },
      "source": [
        "encoder.save_to_file(\"/content/gdrive/My Drive/sentiment_analysis_encoder.vocab\")"
      ],
      "execution_count": 76,
      "outputs": []
    },
    {
      "cell_type": "code",
      "metadata": {
        "id": "b3Fiw7qrpoc1",
        "colab_type": "code",
        "colab": {
          "base_uri": "https://localhost:8080/",
          "height": 34
        },
        "outputId": "c10749c3-33ca-41df-a3fe-9dd9a5f9e566"
      },
      "source": [
        "# print(vocabulary_set)\n",
        "print(len(vocabulary_set))\n"
      ],
      "execution_count": 75,
      "outputs": [
        {
          "output_type": "stream",
          "text": [
            "73738\n"
          ],
          "name": "stdout"
        }
      ]
    },
    {
      "cell_type": "code",
      "metadata": {
        "id": "lyTU_vN1qLjK",
        "colab_type": "code",
        "colab": {
          "base_uri": "https://localhost:8080/",
          "height": 377
        },
        "outputId": "4cc0b83d-07f3-4188-ff2a-27d4241e6169"
      },
      "source": [
        "for reviews in train_dataset.take(5):\n",
        "    review_text=reviews['data']\n",
        "    print('\\n')\n",
        "    print(review_text.get('review_body').numpy())\n",
        "    encoded_example = encoder.encode(review_text.get('review_body').numpy())\n",
        "    print(encoded_example)"
      ],
      "execution_count": null,
      "outputs": [
        {
          "output_type": "stream",
          "text": [
            "\n",
            "\n",
            "b'I purchased this dock for my 11 year old daughters to charge her ipod. She loved the slim design because it fits on her small shelf. She also loves the sound and volume as well as dual alarms, one for school and one for sports.<br />Thank you'\n",
            "[63498, 821, 19803, 653, 38245, 26644, 39983, 27312, 45790, 44634, 2501, 20944, 54274, 46261, 72043, 3605, 3813, 38803, 7837, 17655, 22102, 9599, 59922, 54274, 33648, 70992, 72043, 70423, 31975, 3813, 50661, 54291, 41314, 10672, 17748, 10672, 22918, 29137, 27249, 38245, 62368, 54291, 27249, 38245, 17366, 73559, 20671, 37899]\n",
            "\n",
            "\n",
            "b'Ordered multiples of these months ago in case they break like every other iPhone charger and not one has broke nor does it have problems or show wear and tear'\n",
            "[60711, 26646, 56758, 68197, 53242, 32280, 50348, 21188, 6029, 54152, 4078, 22910, 68059, 16407, 36408, 54291, 27302, 27249, 49922, 36150, 10901, 9079, 22102, 35942, 29956, 29309, 33363, 3286, 54291, 22416]\n",
            "\n",
            "\n",
            "b'All I needed was a small step ladder and a screw driver.<br />Four east steps:<br />1 Screw it to the ceiling.<br />2 Plug it in.<br />3 Park you car in the desired spot.<br />4 Chose a specific spot on the vehicle you can see from the drivers seat and aim the laser to it.<br />I actually used it to mark two different cars in the same parking bay.<br />Just make sure you have an available outlet to plug it into.<br />They make a surge protector that is rectangular and has six outlets on it that plugs right into a duel outlet.<br />It is about one inch thick and about three and a half by five inches.(1&#34;x3.5&#34;x5&#34;)<br />They make some cheap ones you can get for less then a dollar.<br />I would recommend the ones that have a surge protector in them.'\n",
            "[69641, 63498, 72447, 43276, 18057, 33648, 68858, 59684, 54291, 18057, 66349, 14060, 73559, 30366, 14467, 22770, 73559, 2821, 40203, 22102, 2501, 3813, 955, 73559, 24137, 63836, 22102, 50348, 73559, 66988, 58370, 37899, 38593, 50348, 3813, 43306, 4994, 73559, 6677, 57338, 18057, 68419, 4994, 59922, 3813, 45215, 37899, 64093, 50127, 10003, 3813, 26668, 39796, 54291, 19585, 3813, 34035, 2501, 22102, 73559, 63498, 34216, 2679, 22102, 2501, 66591, 14874, 36762, 40340, 50348, 3813, 9584, 47343, 40478, 73559, 8390, 50902, 50997, 37899, 35942, 27216, 35008, 1748, 2501, 48425, 22102, 27893, 73559, 66897, 50902, 18057, 23750, 31221, 8576, 32926, 45195, 54291, 49922, 13763, 4865, 59922, 22102, 8576, 2306, 33489, 27893, 18057, 69402, 1748, 73559, 1442, 32926, 57938, 27249, 53138, 67435, 54291, 57938, 59998, 54291, 18057, 69380, 13779, 68327, 59263, 2821, 73648, 35288, 6003, 73648, 33954, 73648, 73559, 66897, 50902, 8095, 18987, 24886, 37899, 64093, 24295, 38245, 62620, 51657, 18057, 72241, 73559, 63498, 27497, 26170, 3813, 24886, 8576, 35942, 18057, 23750, 31221, 50348, 45828]\n",
            "\n",
            "\n",
            "b'Gave this to my son for Christmas. Today, mid July, it stopped working. Less than 7 months for $15.'\n",
            "[4069, 19803, 2501, 26644, 68705, 38245, 25401, 26537, 8695, 43747, 22102, 34131, 52997, 14553, 68368, 72151, 53242, 38245, 44091]\n",
            "\n",
            "\n",
            "b'My grandson loves the clear crystal case. It not only protects the iPod Touch, but all the features are still accessible - including the charger.     The price was great also!'\n",
            "[4717, 35899, 31975, 3813, 38868, 20929, 21188, 1442, 27302, 21107, 6501, 3813, 14633, 48813, 72910, 59838, 3813, 25701, 71576, 19143, 908, 19979, 3813, 36408, 71104, 30917, 43276, 20431, 70423]\n"
          ],
          "name": "stdout"
        }
      ]
    },
    {
      "cell_type": "code",
      "metadata": {
        "id": "NsPru5B5r6ND",
        "colab_type": "code",
        "colab": {
          "base_uri": "https://localhost:8080/",
          "height": 510
        },
        "outputId": "350036b7-8e49-4f0c-caa7-93ef802fe237"
      },
      "source": [
        "for index in encoded_example:\n",
        "    print('{} ---- {}'.format(index, encoder.decode([index])))"
      ],
      "execution_count": null,
      "outputs": [
        {
          "output_type": "stream",
          "text": [
            "4717 ---- My\n",
            "35899 ---- grandson\n",
            "31975 ---- loves\n",
            "3813 ---- the\n",
            "38868 ---- clear\n",
            "20929 ---- crystal\n",
            "21188 ---- case\n",
            "1442 ---- It\n",
            "27302 ---- not\n",
            "21107 ---- only\n",
            "6501 ---- protects\n",
            "3813 ---- the\n",
            "14633 ---- iPod\n",
            "48813 ---- Touch\n",
            "72910 ---- but\n",
            "59838 ---- all\n",
            "3813 ---- the\n",
            "25701 ---- features\n",
            "71576 ---- are\n",
            "19143 ---- still\n",
            "908 ---- accessible\n",
            "19979 ---- including\n",
            "3813 ---- the\n",
            "36408 ---- charger\n",
            "71104 ---- The\n",
            "30917 ---- price\n",
            "43276 ---- was\n",
            "20431 ---- great\n",
            "70423 ---- also\n"
          ],
          "name": "stdout"
        }
      ]
    },
    {
      "cell_type": "code",
      "metadata": {
        "id": "fISVU1G3vgJz",
        "colab_type": "code",
        "colab": {}
      },
      "source": [
        "def encode(text_tensor, label_tensor):\n",
        "    encoded_text = encoder.encode(text_tensor.numpy())\n",
        "    label = tf.where(label_tensor>=3,1,0)\n",
        "    return encoded_text, label"
      ],
      "execution_count": 13,
      "outputs": []
    },
    {
      "cell_type": "code",
      "metadata": {
        "id": "02DaueivzYCH",
        "colab_type": "code",
        "colab": {}
      },
      "source": [
        "def encode_map_fn(tensor):\n",
        "    text = tensor['data'].get('review_body')\n",
        "    label= tensor['data'].get('star_rating')\n",
        "    \n",
        "    encoded_text, label = tf.py_function(encode,inp=[text,label],Tout=(tf.int64,tf.int32))\n",
        "    encoded_text.set_shape([None])\n",
        "    label.set_shape([])\n",
        "    \n",
        "    return encoded_text, label"
      ],
      "execution_count": 14,
      "outputs": []
    },
    {
      "cell_type": "code",
      "metadata": {
        "id": "eCyKPPIU3Itt",
        "colab_type": "code",
        "colab": {}
      },
      "source": [
        "ar_encoded_data = train_dataset.map(encode_map_fn)"
      ],
      "execution_count": 15,
      "outputs": []
    },
    {
      "cell_type": "code",
      "metadata": {
        "id": "hVMY0NRm3nEp",
        "colab_type": "code",
        "colab": {
          "base_uri": "https://localhost:8080/",
          "height": 204
        },
        "outputId": "cda2edae-dc7e-48ad-edee-38ee9e0453ed"
      },
      "source": [
        "for t0,t1 in ar_encoded_data.take(2):\n",
        "    print(t0)\n",
        "    print(t1)\n",
        "\n",
        "#here the encoded text and the label(0,1) will be printed"
      ],
      "execution_count": null,
      "outputs": [
        {
          "output_type": "stream",
          "text": [
            "tf.Tensor(\n",
            "[63498   821 19803   653 38245 26644 39983 27312 45790 44634  2501 20944\n",
            " 54274 46261 72043  3605  3813 38803  7837 17655 22102  9599 59922 54274\n",
            " 33648 70992 72043 70423 31975  3813 50661 54291 41314 10672 17748 10672\n",
            " 22918 29137 27249 38245 62368 54291 27249 38245 17366 73559 20671 37899], shape=(48,), dtype=int64)\n",
            "tf.Tensor(1, shape=(), dtype=int32)\n",
            "tf.Tensor(\n",
            "[60711 26646 56758 68197 53242 32280 50348 21188  6029 54152  4078 22910\n",
            " 68059 16407 36408 54291 27302 27249 49922 36150 10901  9079 22102 35942\n",
            " 29956 29309 33363  3286 54291 22416], shape=(30,), dtype=int64)\n",
            "tf.Tensor(1, shape=(), dtype=int32)\n"
          ],
          "name": "stdout"
        }
      ]
    },
    {
      "cell_type": "code",
      "metadata": {
        "id": "7n31rlKq3yqW",
        "colab_type": "code",
        "colab": {}
      },
      "source": [
        "TAKE_SIZE = 10000 #for the test_data\n",
        "\n",
        "train_data = ar_encoded_data.skip(TAKE_SIZE).shuffle(BUFFER_SIZE)\n",
        "train_data = train_data.padded_batch(BATCH_SIZE) #take the maximum length in the batch data and padd others according to it\n",
        "\n",
        "test_data = ar_encoded_data.take(TAKE_SIZE)\n",
        "test_data = test_data.padded_batch(BATCH_SIZE) #in each batch padd with equal number of variables\n",
        "\n",
        "#newer versions will also take padded_shapes as an arguement \n",
        "#padded_batch(BATCH_SIZE,padded_shapes = ([None],()))"
      ],
      "execution_count": 16,
      "outputs": []
    },
    {
      "cell_type": "code",
      "metadata": {
        "id": "mG6Ns5JK55eH",
        "colab_type": "code",
        "colab": {}
      },
      "source": [
        "vocab_size += 1 #add for the padded number in the vocab which is num=0"
      ],
      "execution_count": 17,
      "outputs": []
    },
    {
      "cell_type": "code",
      "metadata": {
        "id": "0DUdsXk468f3",
        "colab_type": "code",
        "colab": {
          "base_uri": "https://localhost:8080/",
          "height": 408
        },
        "outputId": "1e12e718-aeb8-4ab8-f5d4-f0c58ed58167"
      },
      "source": [
        "sample_text , sample_labels = next(iter(test_data))\n",
        "\n",
        "sample_text[0], sample_labels[0]"
      ],
      "execution_count": null,
      "outputs": [
        {
          "output_type": "execute_result",
          "data": {
            "text/plain": [
              "(<tf.Tensor: shape=(189,), dtype=int64, numpy=\n",
              " array([63498,   821, 19803,   653, 38245, 26644, 39983, 27312, 45790,\n",
              "        44634,  2501, 20944, 54274, 46261, 72043,  3605,  3813, 38803,\n",
              "         7837, 17655, 22102,  9599, 59922, 54274, 33648, 70992, 72043,\n",
              "        70423, 31975,  3813, 50661, 54291, 41314, 10672, 17748, 10672,\n",
              "        22918, 29137, 27249, 38245, 62368, 54291, 27249, 38245, 17366,\n",
              "        73559, 20671, 37899,     0,     0,     0,     0,     0,     0,\n",
              "            0,     0,     0,     0,     0,     0,     0,     0,     0,\n",
              "            0,     0,     0,     0,     0,     0,     0,     0,     0,\n",
              "            0,     0,     0,     0,     0,     0,     0,     0,     0,\n",
              "            0,     0,     0,     0,     0,     0,     0,     0,     0,\n",
              "            0,     0,     0,     0,     0,     0,     0,     0,     0,\n",
              "            0,     0,     0,     0,     0,     0,     0,     0,     0,\n",
              "            0,     0,     0,     0,     0,     0,     0,     0,     0,\n",
              "            0,     0,     0,     0,     0,     0,     0,     0,     0,\n",
              "            0,     0,     0,     0,     0,     0,     0,     0,     0,\n",
              "            0,     0,     0,     0,     0,     0,     0,     0,     0,\n",
              "            0,     0,     0,     0,     0,     0,     0,     0,     0,\n",
              "            0,     0,     0,     0,     0,     0,     0,     0,     0,\n",
              "            0,     0,     0,     0,     0,     0,     0,     0,     0,\n",
              "            0,     0,     0,     0,     0,     0,     0,     0,     0,\n",
              "            0,     0,     0,     0,     0,     0,     0,     0,     0])>,\n",
              " <tf.Tensor: shape=(), dtype=int32, numpy=1>)"
            ]
          },
          "metadata": {
            "tags": []
          },
          "execution_count": 146
        }
      ]
    },
    {
      "cell_type": "code",
      "metadata": {
        "id": "FmflOjpD7JWw",
        "colab_type": "code",
        "colab": {
          "base_uri": "https://localhost:8080/",
          "height": 187
        },
        "outputId": "f7143e51-7efd-489b-b121-e872d9b6f513"
      },
      "source": [
        "for f0,f1 in test_data.take(10):\n",
        "    print(tf.unique_with_counts(f1)[2].numpy()) #unique_with_counts has much info(0,1,2) here we are just taking the second index info and number to print the value\n",
        "\n",
        "\n",
        "# shows the no of sentiments in batch [1(+ve),0(-ve)]"
      ],
      "execution_count": null,
      "outputs": [
        {
          "output_type": "stream",
          "text": [
            "[95 33]\n",
            "[35 93]\n",
            "[34 94]\n",
            "[97 31]\n",
            "[ 27 101]\n",
            "[33 95]\n",
            "[102  26]\n",
            "[83 45]\n",
            "[106  22]\n",
            "[ 22 106]\n"
          ],
          "name": "stdout"
        }
      ]
    },
    {
      "cell_type": "code",
      "metadata": {
        "id": "jRuXt_9r8coZ",
        "colab_type": "code",
        "colab": {}
      },
      "source": [
        "model = tf.keras.Sequential()\n",
        "model.add(tf.keras.layers.Embedding(vocab_size, 128))\n",
        "model.add(tf.keras.layers.Bidirectional(tf.keras.layers.LSTM(128,return_sequences=True)))\n",
        "#model.add(tf.keras.layers.Bidirectional(tf.keras.layers.LSTM(64, return_sequences=True)))\n",
        "model.add(tf.keras.layers.Bidirectional(tf.keras.layers.LSTM(64)))\n",
        "\n",
        "for units in [64,64]:\n",
        "    model.add(tf.keras.layers.Dense(units,activation=\"relu\"))\n",
        "    model.add(tf.keras.layers.Dropout(0.2))\n",
        "\n",
        "model.add(tf.keras.layers.Dense(1))"
      ],
      "execution_count": 18,
      "outputs": []
    },
    {
      "cell_type": "code",
      "metadata": {
        "id": "Fhtv4SYhAeZw",
        "colab_type": "code",
        "colab": {
          "base_uri": "https://localhost:8080/",
          "height": 34
        },
        "outputId": "ca18b1b8-e829-4a26-a03b-bb9a6dff1006"
      },
      "source": [
        "!rm -r /tmp/logs/"
      ],
      "execution_count": 19,
      "outputs": [
        {
          "output_type": "stream",
          "text": [
            "rm: cannot remove '/tmp/logs/': No such file or directory\n"
          ],
          "name": "stdout"
        }
      ]
    },
    {
      "cell_type": "code",
      "metadata": {
        "id": "1aCLodgtAkcM",
        "colab_type": "code",
        "colab": {}
      },
      "source": [
        "import os\n",
        "import datetime\n",
        "\n",
        "logdir = os.path.join(\"/tmp/logs\", datetime.datetime.now().strftime(\"%Y%m%d-%H%M%S\"))\n",
        "tensorboard_callback = tf.keras.callbacks.TensorBoard(logdir,histogram_freq=1)\n",
        "checkpointer = tf.keras.callbacks.ModelCheckpoint(filepath=\"/tmp/sentiment_analysis.hdf5\",verbose=1,save_best_only=True)"
      ],
      "execution_count": 20,
      "outputs": []
    },
    {
      "cell_type": "code",
      "metadata": {
        "id": "umQ3LZRRDM10",
        "colab_type": "code",
        "colab": {}
      },
      "source": [
        "model.compile(optimizer=\"adam\",\n",
        "             loss=tf.keras.losses.BinaryCrossentropy(from_logits=True),\n",
        "             metrics=[\"accuracy\"])"
      ],
      "execution_count": 21,
      "outputs": []
    },
    {
      "cell_type": "code",
      "metadata": {
        "id": "_DoqsqzeDfhB",
        "colab_type": "code",
        "colab": {
          "base_uri": "https://localhost:8080/",
          "height": 445
        },
        "outputId": "fd6ee280-4c96-45a4-e029-f113fa740c7d"
      },
      "source": [
        "history = model.fit(train_data,epochs=4, validation_data=test_data,callbacks=[tensorboard_callback, checkpointer])"
      ],
      "execution_count": 22,
      "outputs": [
        {
          "output_type": "stream",
          "text": [
            "Epoch 1/4\n",
            "      1/Unknown - 0s 25ms/step - loss: 0.6878 - accuracy: 0.2578WARNING:tensorflow:From /usr/local/lib/python3.6/dist-packages/tensorflow/python/ops/summary_ops_v2.py:1277: stop (from tensorflow.python.eager.profiler) is deprecated and will be removed after 2020-07-01.\n",
            "Instructions for updating:\n",
            "use `tf.profiler.experimental.stop` instead.\n"
          ],
          "name": "stdout"
        },
        {
          "output_type": "stream",
          "text": [
            "WARNING:tensorflow:From /usr/local/lib/python3.6/dist-packages/tensorflow/python/ops/summary_ops_v2.py:1277: stop (from tensorflow.python.eager.profiler) is deprecated and will be removed after 2020-07-01.\n",
            "Instructions for updating:\n",
            "use `tf.profiler.experimental.stop` instead.\n"
          ],
          "name": "stderr"
        },
        {
          "output_type": "stream",
          "text": [
            "\b\b\b\b\b\b\b\b\b\b\b\b\b\b\b\b\b\b\b\b\b\b\b\b\b\b\b\b\b\b\b\b\b\b\b\b\b\b\b\b\b\b\b\b\b\b\b\b\b\b\b\b\b\b\b\b\b\b\b\b\b\b\b\b\r      2/Unknown - 1s 304ms/step - loss: 0.6731 - accuracy: 0.2344WARNING:tensorflow:Callbacks method `on_train_batch_end` is slow compared to the batch time (batch time: 0.2048s vs `on_train_batch_end` time: 0.3769s). Check your callbacks.\n"
          ],
          "name": "stdout"
        },
        {
          "output_type": "stream",
          "text": [
            "WARNING:tensorflow:Callbacks method `on_train_batch_end` is slow compared to the batch time (batch time: 0.2048s vs `on_train_batch_end` time: 0.3769s). Check your callbacks.\n"
          ],
          "name": "stderr"
        },
        {
          "output_type": "stream",
          "text": [
            "    742/Unknown - 212s 286ms/step - loss: 0.2996 - accuracy: 0.8674\n",
            "Epoch 00001: val_loss improved from inf to 0.25696, saving model to /tmp/sentiment_analysis.hdf5\n",
            "742/742 [==============================] - 228s 308ms/step - loss: 0.2996 - accuracy: 0.8674 - val_loss: 0.2570 - val_accuracy: 0.8953\n",
            "Epoch 2/4\n",
            "742/742 [==============================] - ETA: 0s - loss: 0.2186 - accuracy: 0.9081\n",
            "Epoch 00002: val_loss improved from 0.25696 to 0.23832, saving model to /tmp/sentiment_analysis.hdf5\n",
            "742/742 [==============================] - 227s 306ms/step - loss: 0.2186 - accuracy: 0.9081 - val_loss: 0.2383 - val_accuracy: 0.9055\n",
            "Epoch 3/4\n",
            "742/742 [==============================] - ETA: 0s - loss: 0.1591 - accuracy: 0.9361\n",
            "Epoch 00003: val_loss did not improve from 0.23832\n",
            "742/742 [==============================] - 226s 304ms/step - loss: 0.1591 - accuracy: 0.9361 - val_loss: 0.2507 - val_accuracy: 0.9063\n",
            "Epoch 4/4\n",
            "742/742 [==============================] - ETA: 0s - loss: 0.1168 - accuracy: 0.9549\n",
            "Epoch 00004: val_loss did not improve from 0.23832\n",
            "742/742 [==============================] - 226s 305ms/step - loss: 0.1168 - accuracy: 0.9549 - val_loss: 0.2851 - val_accuracy: 0.9051\n"
          ],
          "name": "stdout"
        }
      ]
    },
    {
      "cell_type": "code",
      "metadata": {
        "id": "zMN2DQHHI8ya",
        "colab_type": "code",
        "colab": {
          "base_uri": "https://localhost:8080/",
          "height": 34
        },
        "outputId": "fe1064d9-34f5-4a83-9397-13bda2388c57"
      },
      "source": [
        "from google.colab import drive\n",
        "drive.mount('/content/gdrive')"
      ],
      "execution_count": null,
      "outputs": [
        {
          "output_type": "stream",
          "text": [
            "Drive already mounted at /content/gdrive; to attempt to forcibly remount, call drive.mount(\"/content/gdrive\", force_remount=True).\n"
          ],
          "name": "stdout"
        }
      ]
    },
    {
      "cell_type": "code",
      "metadata": {
        "id": "XRzT6cI4I8dq",
        "colab_type": "code",
        "colab": {}
      },
      "source": [
        "model.save(\"/content/gdrive/My Drive/sentiment_analysis.hdf5\")"
      ],
      "execution_count": 52,
      "outputs": []
    },
    {
      "cell_type": "code",
      "metadata": {
        "id": "8mxPqqeaFzc2",
        "colab_type": "code",
        "colab": {}
      },
      "source": [
        "model.save('/tmp/sentiment_analysis.hdf5')"
      ],
      "execution_count": 23,
      "outputs": []
    },
    {
      "cell_type": "code",
      "metadata": {
        "id": "3TozeZiNF0MH",
        "colab_type": "code",
        "colab": {
          "base_uri": "https://localhost:8080/",
          "height": 34
        },
        "outputId": "5375304f-018d-45d8-e03f-c84ccf735a2b"
      },
      "source": [
        "!ls -alrt /tmp/*.hdf5"
      ],
      "execution_count": 24,
      "outputs": [
        {
          "output_type": "stream",
          "text": [
            "-rw-r--r-- 1 root root 118634648 Jul  1 05:47 /tmp/sentiment_analysis.hdf5\n"
          ],
          "name": "stdout"
        }
      ]
    },
    {
      "cell_type": "code",
      "metadata": {
        "id": "5Vz43UH-F0YC",
        "colab_type": "code",
        "colab": {
          "base_uri": "https://localhost:8080/",
          "height": 68
        },
        "outputId": "5a880199-7dea-4a11-b02c-08197c58b08e"
      },
      "source": [
        "eval_loss, eval_acc = model.evaluate(test_data)\n",
        "print('\\n Eval loss: {:.3f}, Eval accuracy: {:.3f}'.format(eval_loss, eval_acc))"
      ],
      "execution_count": 25,
      "outputs": [
        {
          "output_type": "stream",
          "text": [
            "79/79 [==============================] - 14s 173ms/step - loss: 0.2851 - accuracy: 0.9051\n",
            "\n",
            " Eval loss: 0.285, Eval accuracy: 0.905\n"
          ],
          "name": "stdout"
        }
      ]
    },
    {
      "cell_type": "code",
      "metadata": {
        "id": "81f3jCy3F0eV",
        "colab_type": "code",
        "colab": {
          "base_uri": "https://localhost:8080/",
          "height": 1000
        },
        "outputId": "9af62f37-bbf3-4e50-932e-999423c3b434"
      },
      "source": [
        "for t0,t1 in test_data.take(1):\n",
        "  print(t1)\n",
        "  print(model.predict(t0))\n"
      ],
      "execution_count": 26,
      "outputs": [
        {
          "output_type": "stream",
          "text": [
            "tf.Tensor(\n",
            "[0 1 1 0 0 1 0 1 1 1 0 1 1 1 0 0 1 1 1 1 0 1 1 1 0 1 0 0 1 1 0 1 1 1 1 1 1\n",
            " 1 1 0 1 1 1 1 1 1 0 1 1 1 0 1 1 1 1 0 1 1 1 1 1 1 1 1 1 1 0 1 1 1 1 1 0 1\n",
            " 1 1 1 1 1 1 1 1 1 1 0 1 0 0 0 1 1 0 1 1 1 1 0 0 1 1 1 1 1 1 1 1 1 0 1 1 1\n",
            " 0 0 1 0 1 1 1 1 1 1 0 0 0 0 0 0 1], shape=(128,), dtype=int32)\n",
            "[[ 5.2187424 ]\n",
            " [ 6.3507104 ]\n",
            " [ 3.2800136 ]\n",
            " [-3.6552353 ]\n",
            " [-5.972993  ]\n",
            " [ 6.5377274 ]\n",
            " [-3.4537454 ]\n",
            " [ 6.787798  ]\n",
            " [ 7.4947543 ]\n",
            " [ 5.0795364 ]\n",
            " [-3.0026205 ]\n",
            " [ 7.662635  ]\n",
            " [ 7.452999  ]\n",
            " [ 6.364763  ]\n",
            " [-4.823874  ]\n",
            " [-3.5863297 ]\n",
            " [ 5.5332522 ]\n",
            " [ 7.9016056 ]\n",
            " [ 8.240406  ]\n",
            " [ 8.264934  ]\n",
            " [-4.400439  ]\n",
            " [ 5.9489355 ]\n",
            " [ 5.150241  ]\n",
            " [ 7.3057585 ]\n",
            " [-5.3213754 ]\n",
            " [ 7.488871  ]\n",
            " [ 2.7869318 ]\n",
            " [ 2.4689517 ]\n",
            " [ 1.6986598 ]\n",
            " [ 7.5693526 ]\n",
            " [-3.3840346 ]\n",
            " [ 3.4877737 ]\n",
            " [ 6.652664  ]\n",
            " [ 6.212177  ]\n",
            " [ 7.133289  ]\n",
            " [ 6.8794775 ]\n",
            " [ 6.504708  ]\n",
            " [ 7.5079646 ]\n",
            " [ 5.871168  ]\n",
            " [-2.4052062 ]\n",
            " [ 6.339788  ]\n",
            " [ 7.470232  ]\n",
            " [ 6.5714445 ]\n",
            " [ 6.0854325 ]\n",
            " [ 7.1025453 ]\n",
            " [ 3.1618247 ]\n",
            " [-4.504058  ]\n",
            " [ 7.6026726 ]\n",
            " [ 6.94725   ]\n",
            " [ 7.665372  ]\n",
            " [ 0.27564788]\n",
            " [ 7.87059   ]\n",
            " [ 7.257096  ]\n",
            " [ 5.5384645 ]\n",
            " [ 4.3210073 ]\n",
            " [-0.3915591 ]\n",
            " [ 7.1747503 ]\n",
            " [-0.20350267]\n",
            " [ 7.485624  ]\n",
            " [ 7.719326  ]\n",
            " [ 2.1760635 ]\n",
            " [ 6.815889  ]\n",
            " [ 5.386054  ]\n",
            " [ 7.0805826 ]\n",
            " [ 7.6810474 ]\n",
            " [ 7.4669075 ]\n",
            " [-1.8888147 ]\n",
            " [ 7.3191786 ]\n",
            " [ 5.9752116 ]\n",
            " [ 6.0506253 ]\n",
            " [ 3.3507981 ]\n",
            " [ 4.5995145 ]\n",
            " [-0.49305287]\n",
            " [-0.717218  ]\n",
            " [ 5.8993464 ]\n",
            " [ 6.965319  ]\n",
            " [ 7.460212  ]\n",
            " [ 4.032067  ]\n",
            " [ 7.556902  ]\n",
            " [ 7.14658   ]\n",
            " [ 6.263534  ]\n",
            " [ 5.451533  ]\n",
            " [ 7.375184  ]\n",
            " [ 4.8289165 ]\n",
            " [-0.11495729]\n",
            " [ 6.26507   ]\n",
            " [-1.8785762 ]\n",
            " [ 1.3373681 ]\n",
            " [ 4.8060517 ]\n",
            " [ 7.559689  ]\n",
            " [ 7.024124  ]\n",
            " [-5.5636144 ]\n",
            " [ 7.3367476 ]\n",
            " [ 4.239598  ]\n",
            " [ 3.8484578 ]\n",
            " [ 5.778248  ]\n",
            " [-3.441265  ]\n",
            " [-7.432257  ]\n",
            " [ 8.495366  ]\n",
            " [ 7.264857  ]\n",
            " [ 5.0326905 ]\n",
            " [ 6.9415407 ]\n",
            " [ 3.9606442 ]\n",
            " [ 4.6297894 ]\n",
            " [ 7.2096725 ]\n",
            " [ 6.0434837 ]\n",
            " [ 4.076566  ]\n",
            " [ 5.4024634 ]\n",
            " [ 6.7257586 ]\n",
            " [ 1.7749301 ]\n",
            " [ 5.6213293 ]\n",
            " [-3.6250017 ]\n",
            " [-1.4000257 ]\n",
            " [ 7.616235  ]\n",
            " [-4.6418977 ]\n",
            " [ 6.633898  ]\n",
            " [ 6.1499033 ]\n",
            " [ 3.8457413 ]\n",
            " [ 6.231202  ]\n",
            " [ 7.489436  ]\n",
            " [ 4.267215  ]\n",
            " [-3.6648157 ]\n",
            " [ 5.578083  ]\n",
            " [-2.7537773 ]\n",
            " [ 2.60503   ]\n",
            " [-3.1364884 ]\n",
            " [-3.589826  ]\n",
            " [ 6.4115605 ]]\n"
          ],
          "name": "stdout"
        }
      ]
    },
    {
      "cell_type": "code",
      "metadata": {
        "id": "plZtMZYHF0qA",
        "colab_type": "code",
        "colab": {
          "base_uri": "https://localhost:8080/",
          "height": 153
        },
        "outputId": "719d4308-badd-4060-d965-09887762fcb1"
      },
      "source": [
        "model.layers"
      ],
      "execution_count": 27,
      "outputs": [
        {
          "output_type": "execute_result",
          "data": {
            "text/plain": [
              "[<tensorflow.python.keras.layers.embeddings.Embedding at 0x7fc03fad1a20>,\n",
              " <tensorflow.python.keras.layers.wrappers.Bidirectional at 0x7fc07244fa90>,\n",
              " <tensorflow.python.keras.layers.wrappers.Bidirectional at 0x7fc072266c88>,\n",
              " <tensorflow.python.keras.layers.core.Dense at 0x7fc07226dba8>,\n",
              " <tensorflow.python.keras.layers.core.Dropout at 0x7fc0721c4b00>,\n",
              " <tensorflow.python.keras.layers.core.Dense at 0x7fc07212f0f0>,\n",
              " <tensorflow.python.keras.layers.core.Dropout at 0x7fc072097c18>,\n",
              " <tensorflow.python.keras.layers.core.Dense at 0x7fc072097ba8>]"
            ]
          },
          "metadata": {
            "tags": []
          },
          "execution_count": 27
        }
      ]
    },
    {
      "cell_type": "code",
      "metadata": {
        "id": "6jOVtIYIEYKN",
        "colab_type": "code",
        "colab": {
          "base_uri": "https://localhost:8080/",
          "height": 425
        },
        "outputId": "bdd7b468-1157-4f6f-dcdf-5555f688ac54"
      },
      "source": [
        "model.summary()"
      ],
      "execution_count": 28,
      "outputs": [
        {
          "output_type": "stream",
          "text": [
            "Model: \"sequential\"\n",
            "_________________________________________________________________\n",
            "Layer (type)                 Output Shape              Param #   \n",
            "=================================================================\n",
            "embedding (Embedding)        (None, None, 128)         9438592   \n",
            "_________________________________________________________________\n",
            "bidirectional (Bidirectional (None, None, 256)         263168    \n",
            "_________________________________________________________________\n",
            "bidirectional_1 (Bidirection (None, 128)               164352    \n",
            "_________________________________________________________________\n",
            "dense (Dense)                (None, 64)                8256      \n",
            "_________________________________________________________________\n",
            "dropout (Dropout)            (None, 64)                0         \n",
            "_________________________________________________________________\n",
            "dense_1 (Dense)              (None, 64)                4160      \n",
            "_________________________________________________________________\n",
            "dropout_1 (Dropout)          (None, 64)                0         \n",
            "_________________________________________________________________\n",
            "dense_2 (Dense)              (None, 1)                 65        \n",
            "=================================================================\n",
            "Total params: 9,878,593\n",
            "Trainable params: 9,878,593\n",
            "Non-trainable params: 0\n",
            "_________________________________________________________________\n"
          ],
          "name": "stdout"
        }
      ]
    },
    {
      "cell_type": "code",
      "metadata": {
        "id": "JN02FwLJHlPS",
        "colab_type": "code",
        "colab": {}
      },
      "source": [
        "#model.get_layer('embedding').output"
      ],
      "execution_count": null,
      "outputs": []
    },
    {
      "cell_type": "code",
      "metadata": {
        "id": "ulyhhFvtHk10",
        "colab_type": "code",
        "colab": {
          "base_uri": "https://localhost:8080/",
          "height": 357
        },
        "outputId": "1e49c0de-0711-49de-ec8b-8c717d551bc7"
      },
      "source": [
        "!nvidia-smi"
      ],
      "execution_count": 29,
      "outputs": [
        {
          "output_type": "stream",
          "text": [
            "Wed Jul  1 05:49:29 2020       \n",
            "+-----------------------------------------------------------------------------+\n",
            "| NVIDIA-SMI 450.36.06    Driver Version: 418.67       CUDA Version: 10.1     |\n",
            "|-------------------------------+----------------------+----------------------+\n",
            "| GPU  Name        Persistence-M| Bus-Id        Disp.A | Volatile Uncorr. ECC |\n",
            "| Fan  Temp  Perf  Pwr:Usage/Cap|         Memory-Usage | GPU-Util  Compute M. |\n",
            "|                               |                      |               MIG M. |\n",
            "|===============================+======================+======================|\n",
            "|   0  Tesla P100-PCIE...  Off  | 00000000:00:04.0 Off |                    0 |\n",
            "| N/A   47C    P0    41W / 250W |   8803MiB / 16280MiB |      0%      Default |\n",
            "|                               |                      |                 ERR! |\n",
            "+-------------------------------+----------------------+----------------------+\n",
            "                                                                               \n",
            "+-----------------------------------------------------------------------------+\n",
            "| Processes:                                                                  |\n",
            "|  GPU   GI   CI        PID   Type   Process name                  GPU Memory |\n",
            "|        ID   ID                                                   Usage      |\n",
            "|=============================================================================|\n",
            "|  No running processes found                                                 |\n",
            "+-----------------------------------------------------------------------------+\n"
          ],
          "name": "stdout"
        }
      ]
    },
    {
      "cell_type": "code",
      "metadata": {
        "id": "VEpJgvGvHvGj",
        "colab_type": "code",
        "colab": {}
      },
      "source": [
        "import matplotlib.pyplot as plt\n",
        "\n",
        "def plot_graph(history, metric):\n",
        "  plt.plot(history.history[metric])\n",
        "  plt.plot(history.history['val_'+metric], \"\")\n",
        "  plt.xlabel(\"Epochs\")\n",
        "  plt.ylabel(metric)\n",
        "  plt.legend([metric, 'val_'+metric])\n",
        "  plt.show()\n"
      ],
      "execution_count": 30,
      "outputs": []
    },
    {
      "cell_type": "code",
      "metadata": {
        "id": "RauQi-y6I4cV",
        "colab_type": "code",
        "colab": {
          "base_uri": "https://localhost:8080/",
          "height": 279
        },
        "outputId": "cd0ce249-64a2-49ea-de4a-54cc7be0fe61"
      },
      "source": [
        "plot_graph(history,\"accuracy\")"
      ],
      "execution_count": 31,
      "outputs": [
        {
          "output_type": "display_data",
          "data": {
            "image/png": "[encoded data removed]",
            "text/plain": [
              "<Figure size 432x288 with 1 Axes>"
            ]
          },
          "metadata": {
            "tags": [],
            "needs_background": "light"
          }
        }
      ]
    },
    {
      "cell_type": "code",
      "metadata": {
        "id": "dz1d8JWpI4GQ",
        "colab_type": "code",
        "colab": {
          "base_uri": "https://localhost:8080/",
          "height": 279
        },
        "outputId": "0934d538-57c6-4ba7-a7c3-a1b4c5f277dd"
      },
      "source": [
        "plot_graph(history,\"loss\")"
      ],
      "execution_count": 32,
      "outputs": [
        {
          "output_type": "display_data",
          "data": {
            "image/png": "[encoded data removed]",
            "text/plain": [
              "<Figure size 432x288 with 1 Axes>"
            ]
          },
          "metadata": {
            "tags": [],
            "needs_background": "light"
          }
        }
      ]
    },
    {
      "cell_type": "code",
      "metadata": {
        "id": "j51bIPw6JChP",
        "colab_type": "code",
        "colab": {}
      },
      "source": [
        "tf.keras.backend.clear_session()\n",
        "sa_load = tf.keras.models.load_model('/tmp/sentiment_analysis.hdf5',compile=False)"
      ],
      "execution_count": 33,
      "outputs": []
    },
    {
      "cell_type": "code",
      "metadata": {
        "id": "0IJu5dFS0Ywu",
        "colab_type": "code",
        "colab": {
          "base_uri": "https://localhost:8080/",
          "height": 122
        },
        "outputId": "ed12a2de-40db-4540-b51c-c93138dd28ea"
      },
      "source": [
        "from google.colab import drive\n",
        "drive.mount('/content/gdrive')"
      ],
      "execution_count": 35,
      "outputs": [
        {
          "output_type": "stream",
          "text": [
            "Go to this URL in a browser: https://accounts.google.com/o/oauth2/auth?client_id=947318989803-6bn6qk8qdgf4n4g3pfee6491hc0brc4i.apps.googleusercontent.com&redirect_uri=urn%3aietf%3awg%3aoauth%3a2.0%3aoob&response_type=code&scope=email%20https%3a%2f%2fwww.googleapis.com%2fauth%2fdocs.test%20https%3a%2f%2fwww.googleapis.com%2fauth%2fdrive%20https%3a%2f%2fwww.googleapis.com%2fauth%2fdrive.photos.readonly%20https%3a%2f%2fwww.googleapis.com%2fauth%2fpeopleapi.readonly\n",
            "\n",
            "Enter your authorization code:\n",
            "··········\n",
            "Mounted at /content/gdrive\n"
          ],
          "name": "stdout"
        }
      ]
    },
    {
      "cell_type": "code",
      "metadata": {
        "id": "j4U-uD4myzf8",
        "colab_type": "code",
        "colab": {}
      },
      "source": [
        "# sa_load = tf.keras.models.load_model('/content/gdrive/My Drive/Final_Sentiment_Analysis.hdf5',compile=False)"
      ],
      "execution_count": null,
      "outputs": []
    },
    {
      "cell_type": "code",
      "metadata": {
        "id": "aNPTXtT1aSSQ",
        "colab_type": "code",
        "colab": {
          "base_uri": "https://localhost:8080/",
          "height": 71
        },
        "outputId": "3157e5c2-4b11-4d4a-c2f5-7e0bd4afbfa8"
      },
      "source": [
        "import pandas as pd\n",
        "import numpy as np\n",
        "import seaborn as sns"
      ],
      "execution_count": 36,
      "outputs": [
        {
          "output_type": "stream",
          "text": [
            "/usr/local/lib/python3.6/dist-packages/statsmodels/tools/_testing.py:19: FutureWarning: pandas.util.testing is deprecated. Use the functions in the public API at pandas.testing instead.\n",
            "  import pandas.util.testing as tm\n"
          ],
          "name": "stderr"
        }
      ]
    },
    {
      "cell_type": "code",
      "metadata": {
        "id": "eCQEBepIKEpr",
        "colab_type": "code",
        "colab": {}
      },
      "source": [
        "df = pd.read_csv('/content/gdrive/My Drive/example.csv',encoding='utf-8')"
      ],
      "execution_count": 37,
      "outputs": []
    },
    {
      "cell_type": "code",
      "metadata": {
        "id": "uJoECNDA4ezO",
        "colab_type": "code",
        "colab": {
          "base_uri": "https://localhost:8080/",
          "height": 204
        },
        "outputId": "1fa2e1af-3747-4adf-c0d2-08e2a464817e"
      },
      "source": [
        "df.head()"
      ],
      "execution_count": null,
      "outputs": [
        {
          "output_type": "execute_result",
          "data": {
            "text/html": [
              "<div>\n",
              "<style scoped>\n",
              "    .dataframe tbody tr th:only-of-type {\n",
              "        vertical-align: middle;\n",
              "    }\n",
              "\n",
              "    .dataframe tbody tr th {\n",
              "        vertical-align: top;\n",
              "    }\n",
              "\n",
              "    .dataframe thead th {\n",
              "        text-align: right;\n",
              "    }\n",
              "</style>\n",
              "<table border=\"1\" class=\"dataframe\">\n",
              "  <thead>\n",
              "    <tr style=\"text-align: right;\">\n",
              "      <th></th>\n",
              "      <th>ReviewTitles</th>\n",
              "      <th>StarRating</th>\n",
              "      <th>Review</th>\n",
              "    </tr>\n",
              "  </thead>\n",
              "  <tbody>\n",
              "    <tr>\n",
              "      <th>0</th>\n",
              "      <td>What size you should get if you're built like me</td>\n",
              "      <td>4.0 out of 5 stars</td>\n",
              "      <td>I was indecisive on what size to get and I wen...</td>\n",
              "    </tr>\n",
              "    <tr>\n",
              "      <th>1</th>\n",
              "      <td>Just what i was looking for</td>\n",
              "      <td>5.0 out of 5 stars</td>\n",
              "      <td>This sweater is super soft! Wasn't too expensi...</td>\n",
              "    </tr>\n",
              "    <tr>\n",
              "      <th>2</th>\n",
              "      <td>it fits perfect, a little bit snug but thats w...</td>\n",
              "      <td>5.0 out of 5 stars</td>\n",
              "      <td>i got Small, im 5'2 and weight 105lb, it fits ...</td>\n",
              "    </tr>\n",
              "    <tr>\n",
              "      <th>3</th>\n",
              "      <td>Cheap with Accurate Sizing</td>\n",
              "      <td>5.0 out of 5 stars</td>\n",
              "      <td>I'm 5'10 140lbs and this Medium fits perfectly...</td>\n",
              "    </tr>\n",
              "    <tr>\n",
              "      <th>4</th>\n",
              "      <td>Very nice!</td>\n",
              "      <td>5.0 out of 5 stars</td>\n",
              "      <td>It was a perfect fit!I very much recommend thi...</td>\n",
              "    </tr>\n",
              "  </tbody>\n",
              "</table>\n",
              "</div>"
            ],
            "text/plain": [
              "                                        ReviewTitles  ...                                             Review\n",
              "0   What size you should get if you're built like me  ...  I was indecisive on what size to get and I wen...\n",
              "1                        Just what i was looking for  ...  This sweater is super soft! Wasn't too expensi...\n",
              "2  it fits perfect, a little bit snug but thats w...  ...  i got Small, im 5'2 and weight 105lb, it fits ...\n",
              "3                         Cheap with Accurate Sizing  ...  I'm 5'10 140lbs and this Medium fits perfectly...\n",
              "4                                         Very nice!  ...  It was a perfect fit!I very much recommend thi...\n",
              "\n",
              "[5 rows x 3 columns]"
            ]
          },
          "metadata": {
            "tags": []
          },
          "execution_count": 170
        }
      ]
    },
    {
      "cell_type": "code",
      "metadata": {
        "id": "_8HAmFinKNGN",
        "colab_type": "code",
        "colab": {
          "base_uri": "https://localhost:8080/",
          "height": 119
        },
        "outputId": "1c7d5a91-7127-4352-cd9c-c5199477889f"
      },
      "source": [
        "df['StarRating'].value_counts()"
      ],
      "execution_count": 38,
      "outputs": [
        {
          "output_type": "execute_result",
          "data": {
            "text/plain": [
              "5.0 out of 5 stars    46\n",
              "4.0 out of 5 stars    22\n",
              "1.0 out of 5 stars    12\n",
              "3.0 out of 5 stars    11\n",
              "2.0 out of 5 stars     9\n",
              "Name: StarRating, dtype: int64"
            ]
          },
          "metadata": {
            "tags": []
          },
          "execution_count": 38
        }
      ]
    },
    {
      "cell_type": "code",
      "metadata": {
        "id": "moyAUqCRHT6l",
        "colab_type": "code",
        "colab": {
          "base_uri": "https://localhost:8080/",
          "height": 383
        },
        "outputId": "36ad5821-62a6-421e-e2b7-4f23f6fc4cd9"
      },
      "source": [
        "df['StarRating'].value_counts().plot(kind=\"pie\",figsize=(6, 8),cmap='cividis')"
      ],
      "execution_count": 39,
      "outputs": [
        {
          "output_type": "execute_result",
          "data": {
            "text/plain": [
              "<matplotlib.axes._subplots.AxesSubplot at 0x7fc0485676d8>"
            ]
          },
          "metadata": {
            "tags": []
          },
          "execution_count": 39
        },
        {
          "output_type": "display_data",
          "data": {
            "image/png": "[encoded data removed]",
            "text/plain": [
              "<Figure size 432x576 with 1 Axes>"
            ]
          },
          "metadata": {
            "tags": []
          }
        }
      ]
    },
    {
      "cell_type": "code",
      "metadata": {
        "id": "GoDtcR6MH0Qh",
        "colab_type": "code",
        "colab": {
          "base_uri": "https://localhost:8080/",
          "height": 296
        },
        "outputId": "073035d0-c92f-4e10-fb3a-4f228b3486aa"
      },
      "source": [
        "sns.countplot(data=df,x='StarRating')"
      ],
      "execution_count": 40,
      "outputs": [
        {
          "output_type": "execute_result",
          "data": {
            "text/plain": [
              "<matplotlib.axes._subplots.AxesSubplot at 0x7fc0484c89b0>"
            ]
          },
          "metadata": {
            "tags": []
          },
          "execution_count": 40
        },
        {
          "output_type": "display_data",
          "data": {
            "image/png": "[encoded data removed]",
            "text/plain": [
              "<Figure size 432x288 with 1 Axes>"
            ]
          },
          "metadata": {
            "tags": [],
            "needs_background": "light"
          }
        }
      ]
    },
    {
      "cell_type": "code",
      "metadata": {
        "id": "PiUPN-J84emC",
        "colab_type": "code",
        "colab": {}
      },
      "source": [
        "rev = df['Review']"
      ],
      "execution_count": 41,
      "outputs": []
    },
    {
      "cell_type": "code",
      "metadata": {
        "id": "iHxzMHrYJYZ1",
        "colab_type": "code",
        "colab": {}
      },
      "source": [
        "def pad_to_size(vec, size):\n",
        "  zeros = [0] * (size -len(vec))\n",
        "  vec.extend(zeros)\n",
        "  return vec"
      ],
      "execution_count": 42,
      "outputs": []
    },
    {
      "cell_type": "code",
      "metadata": {
        "id": "WYUmVECr9e9P",
        "colab_type": "code",
        "colab": {}
      },
      "source": [
        "def predict_fn(pred_text):\n",
        "  for rev in pred_text:\n",
        "    encoded_pred_text = encoder.encode(rev)\n",
        "    # print(encoded_pred_text)\n",
        "    encoded_pred_text = pad_to_size(encoded_pred_text,100)\n",
        "    # print(encoded_pred_text)\n",
        "    encoded_pred_text = tf.cast(encoded_pred_text, tf.float32)\n",
        "    predictions = sa_load.predict(tf.expand_dims(encoded_pred_text, 0))\n",
        "    if predictions > 1:\n",
        "      print(\"Sentiments of this product are positive, People are happy :)\") \n",
        "      return predictions\n",
        "    if predictions >= 0 and predictions <= 1.8:\n",
        "      print(\"Sentiments of this product are Netural, People are just satisfied\")\n",
        "      return predictions\n",
        "    if predictions < 1:\n",
        "      return (\"Sentiments of this product are negetive, People are not satisfied with this product\")"
      ],
      "execution_count": 44,
      "outputs": []
    },
    {
      "cell_type": "code",
      "metadata": {
        "id": "hicGIT3zHLsJ",
        "colab_type": "code",
        "colab": {
          "base_uri": "https://localhost:8080/",
          "height": 51
        },
        "outputId": "f2418b0a-3f2b-4c98-a71b-fe40232ab9b3"
      },
      "source": [
        "predictions = predict_fn(rev)\n",
        "print(predictions)"
      ],
      "execution_count": 45,
      "outputs": [
        {
          "output_type": "stream",
          "text": [
            "Sentiments of this product are positive, People are happy :)\n",
            "[[2.3988378]]\n"
          ],
          "name": "stdout"
        }
      ]
    },
    {
      "cell_type": "code",
      "metadata": {
        "id": "ktvT0yUC9QiB",
        "colab_type": "code",
        "colab": {}
      },
      "source": [
        ""
      ],
      "execution_count": null,
      "outputs": []
    },
    {
      "cell_type": "code",
      "metadata": {
        "id": "jcG92o5q9QgK",
        "colab_type": "code",
        "colab": {}
      },
      "source": [
        "df1 = pd.read_csv('/content/gdrive/My Drive/win.csv',encoding='utf-8')"
      ],
      "execution_count": 58,
      "outputs": []
    },
    {
      "cell_type": "code",
      "metadata": {
        "id": "myUrJ_SQ9QeZ",
        "colab_type": "code",
        "colab": {
          "base_uri": "https://localhost:8080/",
          "height": 85
        },
        "outputId": "8319c67f-7ac5-4b62-93cd-918ef4c7cef4"
      },
      "source": [
        "df1['StarRating'].value_counts()"
      ],
      "execution_count": 59,
      "outputs": [
        {
          "output_type": "execute_result",
          "data": {
            "text/plain": [
              "1.0 out of 5 stars    24\n",
              "5.0 out of 5 stars    24\n",
              "2.0 out of 5 stars     8\n",
              "Name: StarRating, dtype: int64"
            ]
          },
          "metadata": {
            "tags": []
          },
          "execution_count": 59
        }
      ]
    },
    {
      "cell_type": "code",
      "metadata": {
        "id": "33HzjuOt9QcD",
        "colab_type": "code",
        "colab": {
          "base_uri": "https://localhost:8080/",
          "height": 383
        },
        "outputId": "403f7270-b3d9-4d90-ba84-14684ced9b80"
      },
      "source": [
        "df1['StarRating'].value_counts().plot(kind=\"pie\",figsize=(6, 8),cmap='cividis')"
      ],
      "execution_count": 60,
      "outputs": [
        {
          "output_type": "execute_result",
          "data": {
            "text/plain": [
              "<matplotlib.axes._subplots.AxesSubplot at 0x7fc0478a5748>"
            ]
          },
          "metadata": {
            "tags": []
          },
          "execution_count": 60
        },
        {
          "output_type": "display_data",
          "data": {
            "image/png": "[encoded data removed]",
            "text/plain": [
              "<Figure size 432x576 with 1 Axes>"
            ]
          },
          "metadata": {
            "tags": []
          }
        }
      ]
    },
    {
      "cell_type": "code",
      "metadata": {
        "id": "q_pXwjV19QYR",
        "colab_type": "code",
        "colab": {
          "base_uri": "https://localhost:8080/",
          "height": 299
        },
        "outputId": "e6e24506-2692-4981-edb7-62af6db265f2"
      },
      "source": [
        "sns.countplot(data=df1,x='StarRating')"
      ],
      "execution_count": 61,
      "outputs": [
        {
          "output_type": "execute_result",
          "data": {
            "text/plain": [
              "<matplotlib.axes._subplots.AxesSubplot at 0x7fc060074240>"
            ]
          },
          "metadata": {
            "tags": []
          },
          "execution_count": 61
        },
        {
          "output_type": "display_data",
          "data": {
            "image/png": "[encoded data removed]",
            "text/plain": [
              "<Figure size 432x288 with 1 Axes>"
            ]
          },
          "metadata": {
            "tags": [],
            "needs_background": "light"
          }
        }
      ]
    },
    {
      "cell_type": "code",
      "metadata": {
        "id": "iarp5FNq9QS2",
        "colab_type": "code",
        "colab": {}
      },
      "source": [
        "rev1 = df1['Review']"
      ],
      "execution_count": 62,
      "outputs": []
    },
    {
      "cell_type": "code",
      "metadata": {
        "id": "r-cVD__09QPx",
        "colab_type": "code",
        "colab": {
          "base_uri": "https://localhost:8080/",
          "height": 34
        },
        "outputId": "e7728d7a-3911-49d5-850c-c2925d578c07"
      },
      "source": [
        "predictions = predict_fn(rev1)\n",
        "print(predictions)"
      ],
      "execution_count": 63,
      "outputs": [
        {
          "output_type": "stream",
          "text": [
            "Sentiments of this product are negetive, People are not satisfied with this product\n"
          ],
          "name": "stdout"
        }
      ]
    },
    {
      "cell_type": "code",
      "metadata": {
        "id": "mnlpcSXC9QJV",
        "colab_type": "code",
        "colab": {}
      },
      "source": [
        "#for sentiment of every single review in dataset"
      ],
      "execution_count": 71,
      "outputs": []
    },
    {
      "cell_type": "code",
      "metadata": {
        "id": "v5DzFgDe-KXp",
        "colab_type": "code",
        "colab": {}
      },
      "source": [
        "def predict_fn_every_rev(pred_text):\n",
        "  for rev in pred_text:\n",
        "    print(rev)\n",
        "    encoded_pred_text = encoder.encode(rev)\n",
        "    print(encoded_pred_text)\n",
        "    encoded_pred_text = pad_to_size(encoded_pred_text,100)\n",
        "    print(encoded_pred_text)\n",
        "    encoded_pred_text = tf.cast(encoded_pred_text, tf.float32)\n",
        "    predictions = sa_load.predict(tf.expand_dims(encoded_pred_text, 0))\n",
        "    print(predictions)"
      ],
      "execution_count": 68,
      "outputs": []
    },
    {
      "cell_type": "code",
      "metadata": {
        "id": "KOgNl689-KVn",
        "colab_type": "code",
        "colab": {
          "base_uri": "https://localhost:8080/",
          "height": 1000
        },
        "outputId": "1a0c89e1-9ae8-43d3-c8df-e0d5e1a1ade0"
      },
      "source": [
        "predictions = predict_fn_every_rev(rev1)\n",
        "print(predictions)"
      ],
      "execution_count": 69,
      "outputs": [
        {
          "output_type": "stream",
          "text": [
            "Purchased this for a newly built computer and it does not work.  Says Product Key you entered didn't work.  Product Key invalid.  Have been online with Microsoft attempting to fix it with no luck!  Now waiting on a MS engineer to contact us.  This should not be this difficult.  Very angry and dissatisfied.  Don't waste your money.\n",
            "[73659, 53317, 11980, 8603, 27439, 42032, 51385, 67536, 26173, 9408, 40325, 45906, 47194, 8557, 8045, 52539, 46245, 24899, 50937, 45906, 8557, 8045, 8320, 2471, 73619, 38908, 54603, 72887, 13879, 4166, 42619, 26173, 54603, 37001, 7917, 42500, 47809, 61693, 8603, 42482, 62587, 4166, 27386, 8985, 24647, 26884, 40325, 20385, 53317, 3366, 33746, 41779, 67536, 69639, 70233, 50937, 27737, 42615, 68655]\n",
            "[73659, 53317, 11980, 8603, 27439, 42032, 51385, 67536, 26173, 9408, 40325, 45906, 47194, 8557, 8045, 52539, 46245, 24899, 50937, 45906, 8557, 8045, 8320, 2471, 73619, 38908, 54603, 72887, 13879, 4166, 42619, 26173, 54603, 37001, 7917, 42500, 47809, 61693, 8603, 42482, 62587, 4166, 27386, 8985, 24647, 26884, 40325, 20385, 53317, 3366, 33746, 41779, 67536, 69639, 70233, 50937, 27737, 42615, 68655, 0, 0, 0, 0, 0, 0, 0, 0, 0, 0, 0, 0, 0, 0, 0, 0, 0, 0, 0, 0, 0, 0, 0, 0, 0, 0, 0, 0, 0, 0, 0, 0, 0, 0, 0, 0, 0, 0, 0, 0, 0]\n",
            "[[-2.7078779]]\n",
            "The stick failed and have to try several times to get it to load properly\n",
            "[12665, 43124, 34838, 67536, 68378, 4166, 48990, 25763, 37570, 4166, 49526, 26173, 4166, 69332, 31478]\n",
            "[12665, 43124, 34838, 67536, 68378, 4166, 48990, 25763, 37570, 4166, 49526, 26173, 4166, 69332, 31478, 0, 0, 0, 0, 0, 0, 0, 0, 0, 0, 0, 0, 0, 0, 0, 0, 0, 0, 0, 0, 0, 0, 0, 0, 0, 0, 0, 0, 0, 0, 0, 0, 0, 0, 0, 0, 0, 0, 0, 0, 0, 0, 0, 0, 0, 0, 0, 0, 0, 0, 0, 0, 0, 0, 0, 0, 0, 0, 0, 0, 0, 0, 0, 0, 0, 0, 0, 0, 0, 0, 0, 0, 0, 0, 0, 0, 0, 0, 0, 0, 0, 0, 0, 0, 0]\n",
            "[[-1.5637019]]\n",
            "This was my first time using flash instead of DVD OEM. very simple to configure boot and postWould buy again for another build.\n",
            "[24647, 9092, 27121, 16101, 63940, 73057, 73123, 7546, 68786, 38212, 20698, 19738, 8775, 4166, 60250, 17412, 67536, 73739, 25064, 6501, 11980, 7247, 66127]\n",
            "[24647, 9092, 27121, 16101, 63940, 73057, 73123, 7546, 68786, 38212, 20698, 19738, 8775, 4166, 60250, 17412, 67536, 73739, 25064, 6501, 11980, 7247, 66127, 0, 0, 0, 0, 0, 0, 0, 0, 0, 0, 0, 0, 0, 0, 0, 0, 0, 0, 0, 0, 0, 0, 0, 0, 0, 0, 0, 0, 0, 0, 0, 0, 0, 0, 0, 0, 0, 0, 0, 0, 0, 0, 0, 0, 0, 0, 0, 0, 0, 0, 0, 0, 0, 0, 0, 0, 0, 0, 0, 0, 0, 0, 0, 0, 0, 0, 0, 0, 0, 0, 0, 0, 0, 0, 0, 0, 0]\n",
            "[[-3.2545297]]\n",
            "Easy install process\n",
            "[22, 64992, 37136]\n",
            "[22, 64992, 37136, 0, 0, 0, 0, 0, 0, 0, 0, 0, 0, 0, 0, 0, 0, 0, 0, 0, 0, 0, 0, 0, 0, 0, 0, 0, 0, 0, 0, 0, 0, 0, 0, 0, 0, 0, 0, 0, 0, 0, 0, 0, 0, 0, 0, 0, 0, 0, 0, 0, 0, 0, 0, 0, 0, 0, 0, 0, 0, 0, 0, 0, 0, 0, 0, 0, 0, 0, 0, 0, 0, 0, 0, 0, 0, 0, 0, 0, 0, 0, 0, 0, 0, 0, 0, 0, 0, 0, 0, 0, 0, 0, 0, 0, 0, 0, 0, 0]\n",
            "[[5.859398]]\n",
            "The product key did not work. The computer says it was already activated on another computer.\n",
            "[12665, 57989, 24114, 13367, 40325, 45906, 12665, 51385, 34255, 26173, 9092, 19353, 21151, 61693, 7247, 51385]\n",
            "[12665, 57989, 24114, 13367, 40325, 45906, 12665, 51385, 34255, 26173, 9092, 19353, 21151, 61693, 7247, 51385, 0, 0, 0, 0, 0, 0, 0, 0, 0, 0, 0, 0, 0, 0, 0, 0, 0, 0, 0, 0, 0, 0, 0, 0, 0, 0, 0, 0, 0, 0, 0, 0, 0, 0, 0, 0, 0, 0, 0, 0, 0, 0, 0, 0, 0, 0, 0, 0, 0, 0, 0, 0, 0, 0, 0, 0, 0, 0, 0, 0, 0, 0, 0, 0, 0, 0, 0, 0, 0, 0, 0, 0, 0, 0, 0, 0, 0, 0, 0, 0, 0, 0, 0, 0]\n",
            "[[-4.159769]]\n",
            "Perfect 10\n",
            "[27519, 24491]\n",
            "[27519, 24491, 0, 0, 0, 0, 0, 0, 0, 0, 0, 0, 0, 0, 0, 0, 0, 0, 0, 0, 0, 0, 0, 0, 0, 0, 0, 0, 0, 0, 0, 0, 0, 0, 0, 0, 0, 0, 0, 0, 0, 0, 0, 0, 0, 0, 0, 0, 0, 0, 0, 0, 0, 0, 0, 0, 0, 0, 0, 0, 0, 0, 0, 0, 0, 0, 0, 0, 0, 0, 0, 0, 0, 0, 0, 0, 0, 0, 0, 0, 0, 0, 0, 0, 0, 0, 0, 0, 0, 0, 0, 0, 0, 0, 0, 0, 0, 0, 0, 0]\n",
            "[[6.953346]]\n",
            "Doesn't work sorry\n",
            "[30503, 50937, 45906, 23001]\n",
            "[30503, 50937, 45906, 23001, 0, 0, 0, 0, 0, 0, 0, 0, 0, 0, 0, 0, 0, 0, 0, 0, 0, 0, 0, 0, 0, 0, 0, 0, 0, 0, 0, 0, 0, 0, 0, 0, 0, 0, 0, 0, 0, 0, 0, 0, 0, 0, 0, 0, 0, 0, 0, 0, 0, 0, 0, 0, 0, 0, 0, 0, 0, 0, 0, 0, 0, 0, 0, 0, 0, 0, 0, 0, 0, 0, 0, 0, 0, 0, 0, 0, 0, 0, 0, 0, 0, 0, 0, 0, 0, 0, 0, 0, 0, 0, 0, 0, 0, 0, 0, 0]\n",
            "[[-3.9293687]]\n",
            "Purchased this for a newly built computer and it does not work.  Says Product Key you entered didn't work.  Product Key invalid.  Have been online with Microsoft attempting to fix it with no luck!  Now waiting on a MS engineer to contact us.  This should not be this difficult.  Very angry and dissatisfied.  Don't waste your money.\n",
            "[73659, 53317, 11980, 8603, 27439, 42032, 51385, 67536, 26173, 9408, 40325, 45906, 47194, 8557, 8045, 52539, 46245, 24899, 50937, 45906, 8557, 8045, 8320, 2471, 73619, 38908, 54603, 72887, 13879, 4166, 42619, 26173, 54603, 37001, 7917, 42500, 47809, 61693, 8603, 42482, 62587, 4166, 27386, 8985, 24647, 26884, 40325, 20385, 53317, 3366, 33746, 41779, 67536, 69639, 70233, 50937, 27737, 42615, 68655]\n",
            "[73659, 53317, 11980, 8603, 27439, 42032, 51385, 67536, 26173, 9408, 40325, 45906, 47194, 8557, 8045, 52539, 46245, 24899, 50937, 45906, 8557, 8045, 8320, 2471, 73619, 38908, 54603, 72887, 13879, 4166, 42619, 26173, 54603, 37001, 7917, 42500, 47809, 61693, 8603, 42482, 62587, 4166, 27386, 8985, 24647, 26884, 40325, 20385, 53317, 3366, 33746, 41779, 67536, 69639, 70233, 50937, 27737, 42615, 68655, 0, 0, 0, 0, 0, 0, 0, 0, 0, 0, 0, 0, 0, 0, 0, 0, 0, 0, 0, 0, 0, 0, 0, 0, 0, 0, 0, 0, 0, 0, 0, 0, 0, 0, 0, 0, 0, 0, 0, 0, 0]\n",
            "[[-2.7078779]]\n",
            "The stick failed and have to try several times to get it to load properly\n",
            "[12665, 43124, 34838, 67536, 68378, 4166, 48990, 25763, 37570, 4166, 49526, 26173, 4166, 69332, 31478]\n",
            "[12665, 43124, 34838, 67536, 68378, 4166, 48990, 25763, 37570, 4166, 49526, 26173, 4166, 69332, 31478, 0, 0, 0, 0, 0, 0, 0, 0, 0, 0, 0, 0, 0, 0, 0, 0, 0, 0, 0, 0, 0, 0, 0, 0, 0, 0, 0, 0, 0, 0, 0, 0, 0, 0, 0, 0, 0, 0, 0, 0, 0, 0, 0, 0, 0, 0, 0, 0, 0, 0, 0, 0, 0, 0, 0, 0, 0, 0, 0, 0, 0, 0, 0, 0, 0, 0, 0, 0, 0, 0, 0, 0, 0, 0, 0, 0, 0, 0, 0, 0, 0, 0, 0, 0, 0]\n",
            "[[-1.5637019]]\n",
            "This was my first time using flash instead of DVD OEM. very simple to configure boot and postWould buy again for another build.\n",
            "[24647, 9092, 27121, 16101, 63940, 73057, 73123, 7546, 68786, 38212, 20698, 19738, 8775, 4166, 60250, 17412, 67536, 73739, 25064, 6501, 11980, 7247, 66127]\n",
            "[24647, 9092, 27121, 16101, 63940, 73057, 73123, 7546, 68786, 38212, 20698, 19738, 8775, 4166, 60250, 17412, 67536, 73739, 25064, 6501, 11980, 7247, 66127, 0, 0, 0, 0, 0, 0, 0, 0, 0, 0, 0, 0, 0, 0, 0, 0, 0, 0, 0, 0, 0, 0, 0, 0, 0, 0, 0, 0, 0, 0, 0, 0, 0, 0, 0, 0, 0, 0, 0, 0, 0, 0, 0, 0, 0, 0, 0, 0, 0, 0, 0, 0, 0, 0, 0, 0, 0, 0, 0, 0, 0, 0, 0, 0, 0, 0, 0, 0, 0, 0, 0, 0, 0, 0, 0, 0, 0]\n",
            "[[-3.2545297]]\n",
            "Easy install process\n",
            "[22, 64992, 37136]\n",
            "[22, 64992, 37136, 0, 0, 0, 0, 0, 0, 0, 0, 0, 0, 0, 0, 0, 0, 0, 0, 0, 0, 0, 0, 0, 0, 0, 0, 0, 0, 0, 0, 0, 0, 0, 0, 0, 0, 0, 0, 0, 0, 0, 0, 0, 0, 0, 0, 0, 0, 0, 0, 0, 0, 0, 0, 0, 0, 0, 0, 0, 0, 0, 0, 0, 0, 0, 0, 0, 0, 0, 0, 0, 0, 0, 0, 0, 0, 0, 0, 0, 0, 0, 0, 0, 0, 0, 0, 0, 0, 0, 0, 0, 0, 0, 0, 0, 0, 0, 0, 0]\n",
            "[[5.859398]]\n",
            "The product key did not work. The computer says it was already activated on another computer.\n",
            "[12665, 57989, 24114, 13367, 40325, 45906, 12665, 51385, 34255, 26173, 9092, 19353, 21151, 61693, 7247, 51385]\n",
            "[12665, 57989, 24114, 13367, 40325, 45906, 12665, 51385, 34255, 26173, 9092, 19353, 21151, 61693, 7247, 51385, 0, 0, 0, 0, 0, 0, 0, 0, 0, 0, 0, 0, 0, 0, 0, 0, 0, 0, 0, 0, 0, 0, 0, 0, 0, 0, 0, 0, 0, 0, 0, 0, 0, 0, 0, 0, 0, 0, 0, 0, 0, 0, 0, 0, 0, 0, 0, 0, 0, 0, 0, 0, 0, 0, 0, 0, 0, 0, 0, 0, 0, 0, 0, 0, 0, 0, 0, 0, 0, 0, 0, 0, 0, 0, 0, 0, 0, 0, 0, 0, 0, 0, 0, 0]\n",
            "[[-4.159769]]\n",
            "Perfect 10\n",
            "[27519, 24491]\n",
            "[27519, 24491, 0, 0, 0, 0, 0, 0, 0, 0, 0, 0, 0, 0, 0, 0, 0, 0, 0, 0, 0, 0, 0, 0, 0, 0, 0, 0, 0, 0, 0, 0, 0, 0, 0, 0, 0, 0, 0, 0, 0, 0, 0, 0, 0, 0, 0, 0, 0, 0, 0, 0, 0, 0, 0, 0, 0, 0, 0, 0, 0, 0, 0, 0, 0, 0, 0, 0, 0, 0, 0, 0, 0, 0, 0, 0, 0, 0, 0, 0, 0, 0, 0, 0, 0, 0, 0, 0, 0, 0, 0, 0, 0, 0, 0, 0, 0, 0, 0, 0]\n",
            "[[6.953346]]\n",
            "Doesn't work sorry\n",
            "[30503, 50937, 45906, 23001]\n",
            "[30503, 50937, 45906, 23001, 0, 0, 0, 0, 0, 0, 0, 0, 0, 0, 0, 0, 0, 0, 0, 0, 0, 0, 0, 0, 0, 0, 0, 0, 0, 0, 0, 0, 0, 0, 0, 0, 0, 0, 0, 0, 0, 0, 0, 0, 0, 0, 0, 0, 0, 0, 0, 0, 0, 0, 0, 0, 0, 0, 0, 0, 0, 0, 0, 0, 0, 0, 0, 0, 0, 0, 0, 0, 0, 0, 0, 0, 0, 0, 0, 0, 0, 0, 0, 0, 0, 0, 0, 0, 0, 0, 0, 0, 0, 0, 0, 0, 0, 0, 0, 0]\n",
            "[[-3.9293687]]\n",
            "Purchased this for a newly built computer and it does not work.  Says Product Key you entered didn't work.  Product Key invalid.  Have been online with Microsoft attempting to fix it with no luck!  Now waiting on a MS engineer to contact us.  This should not be this difficult.  Very angry and dissatisfied.  Don't waste your money.\n",
            "[73659, 53317, 11980, 8603, 27439, 42032, 51385, 67536, 26173, 9408, 40325, 45906, 47194, 8557, 8045, 52539, 46245, 24899, 50937, 45906, 8557, 8045, 8320, 2471, 73619, 38908, 54603, 72887, 13879, 4166, 42619, 26173, 54603, 37001, 7917, 42500, 47809, 61693, 8603, 42482, 62587, 4166, 27386, 8985, 24647, 26884, 40325, 20385, 53317, 3366, 33746, 41779, 67536, 69639, 70233, 50937, 27737, 42615, 68655]\n",
            "[73659, 53317, 11980, 8603, 27439, 42032, 51385, 67536, 26173, 9408, 40325, 45906, 47194, 8557, 8045, 52539, 46245, 24899, 50937, 45906, 8557, 8045, 8320, 2471, 73619, 38908, 54603, 72887, 13879, 4166, 42619, 26173, 54603, 37001, 7917, 42500, 47809, 61693, 8603, 42482, 62587, 4166, 27386, 8985, 24647, 26884, 40325, 20385, 53317, 3366, 33746, 41779, 67536, 69639, 70233, 50937, 27737, 42615, 68655, 0, 0, 0, 0, 0, 0, 0, 0, 0, 0, 0, 0, 0, 0, 0, 0, 0, 0, 0, 0, 0, 0, 0, 0, 0, 0, 0, 0, 0, 0, 0, 0, 0, 0, 0, 0, 0, 0, 0, 0, 0]\n",
            "[[-2.7078779]]\n",
            "The stick failed and have to try several times to get it to load properly\n",
            "[12665, 43124, 34838, 67536, 68378, 4166, 48990, 25763, 37570, 4166, 49526, 26173, 4166, 69332, 31478]\n",
            "[12665, 43124, 34838, 67536, 68378, 4166, 48990, 25763, 37570, 4166, 49526, 26173, 4166, 69332, 31478, 0, 0, 0, 0, 0, 0, 0, 0, 0, 0, 0, 0, 0, 0, 0, 0, 0, 0, 0, 0, 0, 0, 0, 0, 0, 0, 0, 0, 0, 0, 0, 0, 0, 0, 0, 0, 0, 0, 0, 0, 0, 0, 0, 0, 0, 0, 0, 0, 0, 0, 0, 0, 0, 0, 0, 0, 0, 0, 0, 0, 0, 0, 0, 0, 0, 0, 0, 0, 0, 0, 0, 0, 0, 0, 0, 0, 0, 0, 0, 0, 0, 0, 0, 0, 0]\n",
            "[[-1.5637019]]\n",
            "This was my first time using flash instead of DVD OEM. very simple to configure boot and postWould buy again for another build.\n",
            "[24647, 9092, 27121, 16101, 63940, 73057, 73123, 7546, 68786, 38212, 20698, 19738, 8775, 4166, 60250, 17412, 67536, 73739, 25064, 6501, 11980, 7247, 66127]\n",
            "[24647, 9092, 27121, 16101, 63940, 73057, 73123, 7546, 68786, 38212, 20698, 19738, 8775, 4166, 60250, 17412, 67536, 73739, 25064, 6501, 11980, 7247, 66127, 0, 0, 0, 0, 0, 0, 0, 0, 0, 0, 0, 0, 0, 0, 0, 0, 0, 0, 0, 0, 0, 0, 0, 0, 0, 0, 0, 0, 0, 0, 0, 0, 0, 0, 0, 0, 0, 0, 0, 0, 0, 0, 0, 0, 0, 0, 0, 0, 0, 0, 0, 0, 0, 0, 0, 0, 0, 0, 0, 0, 0, 0, 0, 0, 0, 0, 0, 0, 0, 0, 0, 0, 0, 0, 0, 0, 0]\n",
            "[[-3.2545297]]\n",
            "Easy install process\n",
            "[22, 64992, 37136]\n",
            "[22, 64992, 37136, 0, 0, 0, 0, 0, 0, 0, 0, 0, 0, 0, 0, 0, 0, 0, 0, 0, 0, 0, 0, 0, 0, 0, 0, 0, 0, 0, 0, 0, 0, 0, 0, 0, 0, 0, 0, 0, 0, 0, 0, 0, 0, 0, 0, 0, 0, 0, 0, 0, 0, 0, 0, 0, 0, 0, 0, 0, 0, 0, 0, 0, 0, 0, 0, 0, 0, 0, 0, 0, 0, 0, 0, 0, 0, 0, 0, 0, 0, 0, 0, 0, 0, 0, 0, 0, 0, 0, 0, 0, 0, 0, 0, 0, 0, 0, 0, 0]\n",
            "[[5.859398]]\n",
            "The product key did not work. The computer says it was already activated on another computer.\n",
            "[12665, 57989, 24114, 13367, 40325, 45906, 12665, 51385, 34255, 26173, 9092, 19353, 21151, 61693, 7247, 51385]\n",
            "[12665, 57989, 24114, 13367, 40325, 45906, 12665, 51385, 34255, 26173, 9092, 19353, 21151, 61693, 7247, 51385, 0, 0, 0, 0, 0, 0, 0, 0, 0, 0, 0, 0, 0, 0, 0, 0, 0, 0, 0, 0, 0, 0, 0, 0, 0, 0, 0, 0, 0, 0, 0, 0, 0, 0, 0, 0, 0, 0, 0, 0, 0, 0, 0, 0, 0, 0, 0, 0, 0, 0, 0, 0, 0, 0, 0, 0, 0, 0, 0, 0, 0, 0, 0, 0, 0, 0, 0, 0, 0, 0, 0, 0, 0, 0, 0, 0, 0, 0, 0, 0, 0, 0, 0, 0]\n",
            "[[-4.159769]]\n",
            "Perfect 10\n",
            "[27519, 24491]\n",
            "[27519, 24491, 0, 0, 0, 0, 0, 0, 0, 0, 0, 0, 0, 0, 0, 0, 0, 0, 0, 0, 0, 0, 0, 0, 0, 0, 0, 0, 0, 0, 0, 0, 0, 0, 0, 0, 0, 0, 0, 0, 0, 0, 0, 0, 0, 0, 0, 0, 0, 0, 0, 0, 0, 0, 0, 0, 0, 0, 0, 0, 0, 0, 0, 0, 0, 0, 0, 0, 0, 0, 0, 0, 0, 0, 0, 0, 0, 0, 0, 0, 0, 0, 0, 0, 0, 0, 0, 0, 0, 0, 0, 0, 0, 0, 0, 0, 0, 0, 0, 0]\n",
            "[[6.953346]]\n",
            "Doesn't work sorry\n",
            "[30503, 50937, 45906, 23001]\n",
            "[30503, 50937, 45906, 23001, 0, 0, 0, 0, 0, 0, 0, 0, 0, 0, 0, 0, 0, 0, 0, 0, 0, 0, 0, 0, 0, 0, 0, 0, 0, 0, 0, 0, 0, 0, 0, 0, 0, 0, 0, 0, 0, 0, 0, 0, 0, 0, 0, 0, 0, 0, 0, 0, 0, 0, 0, 0, 0, 0, 0, 0, 0, 0, 0, 0, 0, 0, 0, 0, 0, 0, 0, 0, 0, 0, 0, 0, 0, 0, 0, 0, 0, 0, 0, 0, 0, 0, 0, 0, 0, 0, 0, 0, 0, 0, 0, 0, 0, 0, 0, 0]\n",
            "[[-3.9293687]]\n",
            "Purchased this for a newly built computer and it does not work.  Says Product Key you entered didn't work.  Product Key invalid.  Have been online with Microsoft attempting to fix it with no luck!  Now waiting on a MS engineer to contact us.  This should not be this difficult.  Very angry and dissatisfied.  Don't waste your money.\n",
            "[73659, 53317, 11980, 8603, 27439, 42032, 51385, 67536, 26173, 9408, 40325, 45906, 47194, 8557, 8045, 52539, 46245, 24899, 50937, 45906, 8557, 8045, 8320, 2471, 73619, 38908, 54603, 72887, 13879, 4166, 42619, 26173, 54603, 37001, 7917, 42500, 47809, 61693, 8603, 42482, 62587, 4166, 27386, 8985, 24647, 26884, 40325, 20385, 53317, 3366, 33746, 41779, 67536, 69639, 70233, 50937, 27737, 42615, 68655]\n",
            "[73659, 53317, 11980, 8603, 27439, 42032, 51385, 67536, 26173, 9408, 40325, 45906, 47194, 8557, 8045, 52539, 46245, 24899, 50937, 45906, 8557, 8045, 8320, 2471, 73619, 38908, 54603, 72887, 13879, 4166, 42619, 26173, 54603, 37001, 7917, 42500, 47809, 61693, 8603, 42482, 62587, 4166, 27386, 8985, 24647, 26884, 40325, 20385, 53317, 3366, 33746, 41779, 67536, 69639, 70233, 50937, 27737, 42615, 68655, 0, 0, 0, 0, 0, 0, 0, 0, 0, 0, 0, 0, 0, 0, 0, 0, 0, 0, 0, 0, 0, 0, 0, 0, 0, 0, 0, 0, 0, 0, 0, 0, 0, 0, 0, 0, 0, 0, 0, 0, 0]\n",
            "[[-2.7078779]]\n",
            "The stick failed and have to try several times to get it to load properly\n",
            "[12665, 43124, 34838, 67536, 68378, 4166, 48990, 25763, 37570, 4166, 49526, 26173, 4166, 69332, 31478]\n",
            "[12665, 43124, 34838, 67536, 68378, 4166, 48990, 25763, 37570, 4166, 49526, 26173, 4166, 69332, 31478, 0, 0, 0, 0, 0, 0, 0, 0, 0, 0, 0, 0, 0, 0, 0, 0, 0, 0, 0, 0, 0, 0, 0, 0, 0, 0, 0, 0, 0, 0, 0, 0, 0, 0, 0, 0, 0, 0, 0, 0, 0, 0, 0, 0, 0, 0, 0, 0, 0, 0, 0, 0, 0, 0, 0, 0, 0, 0, 0, 0, 0, 0, 0, 0, 0, 0, 0, 0, 0, 0, 0, 0, 0, 0, 0, 0, 0, 0, 0, 0, 0, 0, 0, 0, 0]\n",
            "[[-1.5637019]]\n",
            "This was my first time using flash instead of DVD OEM. very simple to configure boot and postWould buy again for another build.\n",
            "[24647, 9092, 27121, 16101, 63940, 73057, 73123, 7546, 68786, 38212, 20698, 19738, 8775, 4166, 60250, 17412, 67536, 73739, 25064, 6501, 11980, 7247, 66127]\n",
            "[24647, 9092, 27121, 16101, 63940, 73057, 73123, 7546, 68786, 38212, 20698, 19738, 8775, 4166, 60250, 17412, 67536, 73739, 25064, 6501, 11980, 7247, 66127, 0, 0, 0, 0, 0, 0, 0, 0, 0, 0, 0, 0, 0, 0, 0, 0, 0, 0, 0, 0, 0, 0, 0, 0, 0, 0, 0, 0, 0, 0, 0, 0, 0, 0, 0, 0, 0, 0, 0, 0, 0, 0, 0, 0, 0, 0, 0, 0, 0, 0, 0, 0, 0, 0, 0, 0, 0, 0, 0, 0, 0, 0, 0, 0, 0, 0, 0, 0, 0, 0, 0, 0, 0, 0, 0, 0, 0]\n",
            "[[-3.2545297]]\n",
            "Easy install process\n",
            "[22, 64992, 37136]\n",
            "[22, 64992, 37136, 0, 0, 0, 0, 0, 0, 0, 0, 0, 0, 0, 0, 0, 0, 0, 0, 0, 0, 0, 0, 0, 0, 0, 0, 0, 0, 0, 0, 0, 0, 0, 0, 0, 0, 0, 0, 0, 0, 0, 0, 0, 0, 0, 0, 0, 0, 0, 0, 0, 0, 0, 0, 0, 0, 0, 0, 0, 0, 0, 0, 0, 0, 0, 0, 0, 0, 0, 0, 0, 0, 0, 0, 0, 0, 0, 0, 0, 0, 0, 0, 0, 0, 0, 0, 0, 0, 0, 0, 0, 0, 0, 0, 0, 0, 0, 0, 0]\n",
            "[[5.859398]]\n",
            "The product key did not work. The computer says it was already activated on another computer.\n",
            "[12665, 57989, 24114, 13367, 40325, 45906, 12665, 51385, 34255, 26173, 9092, 19353, 21151, 61693, 7247, 51385]\n",
            "[12665, 57989, 24114, 13367, 40325, 45906, 12665, 51385, 34255, 26173, 9092, 19353, 21151, 61693, 7247, 51385, 0, 0, 0, 0, 0, 0, 0, 0, 0, 0, 0, 0, 0, 0, 0, 0, 0, 0, 0, 0, 0, 0, 0, 0, 0, 0, 0, 0, 0, 0, 0, 0, 0, 0, 0, 0, 0, 0, 0, 0, 0, 0, 0, 0, 0, 0, 0, 0, 0, 0, 0, 0, 0, 0, 0, 0, 0, 0, 0, 0, 0, 0, 0, 0, 0, 0, 0, 0, 0, 0, 0, 0, 0, 0, 0, 0, 0, 0, 0, 0, 0, 0, 0, 0]\n",
            "[[-4.159769]]\n",
            "Perfect 10\n",
            "[27519, 24491]\n",
            "[27519, 24491, 0, 0, 0, 0, 0, 0, 0, 0, 0, 0, 0, 0, 0, 0, 0, 0, 0, 0, 0, 0, 0, 0, 0, 0, 0, 0, 0, 0, 0, 0, 0, 0, 0, 0, 0, 0, 0, 0, 0, 0, 0, 0, 0, 0, 0, 0, 0, 0, 0, 0, 0, 0, 0, 0, 0, 0, 0, 0, 0, 0, 0, 0, 0, 0, 0, 0, 0, 0, 0, 0, 0, 0, 0, 0, 0, 0, 0, 0, 0, 0, 0, 0, 0, 0, 0, 0, 0, 0, 0, 0, 0, 0, 0, 0, 0, 0, 0, 0]\n",
            "[[6.953346]]\n",
            "Doesn't work sorry\n",
            "[30503, 50937, 45906, 23001]\n",
            "[30503, 50937, 45906, 23001, 0, 0, 0, 0, 0, 0, 0, 0, 0, 0, 0, 0, 0, 0, 0, 0, 0, 0, 0, 0, 0, 0, 0, 0, 0, 0, 0, 0, 0, 0, 0, 0, 0, 0, 0, 0, 0, 0, 0, 0, 0, 0, 0, 0, 0, 0, 0, 0, 0, 0, 0, 0, 0, 0, 0, 0, 0, 0, 0, 0, 0, 0, 0, 0, 0, 0, 0, 0, 0, 0, 0, 0, 0, 0, 0, 0, 0, 0, 0, 0, 0, 0, 0, 0, 0, 0, 0, 0, 0, 0, 0, 0, 0, 0, 0, 0]\n",
            "[[-3.9293687]]\n",
            "Purchased this for a newly built computer and it does not work.  Says Product Key you entered didn't work.  Product Key invalid.  Have been online with Microsoft attempting to fix it with no luck!  Now waiting on a MS engineer to contact us.  This should not be this difficult.  Very angry and dissatisfied.  Don't waste your money.\n",
            "[73659, 53317, 11980, 8603, 27439, 42032, 51385, 67536, 26173, 9408, 40325, 45906, 47194, 8557, 8045, 52539, 46245, 24899, 50937, 45906, 8557, 8045, 8320, 2471, 73619, 38908, 54603, 72887, 13879, 4166, 42619, 26173, 54603, 37001, 7917, 42500, 47809, 61693, 8603, 42482, 62587, 4166, 27386, 8985, 24647, 26884, 40325, 20385, 53317, 3366, 33746, 41779, 67536, 69639, 70233, 50937, 27737, 42615, 68655]\n",
            "[73659, 53317, 11980, 8603, 27439, 42032, 51385, 67536, 26173, 9408, 40325, 45906, 47194, 8557, 8045, 52539, 46245, 24899, 50937, 45906, 8557, 8045, 8320, 2471, 73619, 38908, 54603, 72887, 13879, 4166, 42619, 26173, 54603, 37001, 7917, 42500, 47809, 61693, 8603, 42482, 62587, 4166, 27386, 8985, 24647, 26884, 40325, 20385, 53317, 3366, 33746, 41779, 67536, 69639, 70233, 50937, 27737, 42615, 68655, 0, 0, 0, 0, 0, 0, 0, 0, 0, 0, 0, 0, 0, 0, 0, 0, 0, 0, 0, 0, 0, 0, 0, 0, 0, 0, 0, 0, 0, 0, 0, 0, 0, 0, 0, 0, 0, 0, 0, 0, 0]\n",
            "[[-2.7078779]]\n",
            "The stick failed and have to try several times to get it to load properly\n",
            "[12665, 43124, 34838, 67536, 68378, 4166, 48990, 25763, 37570, 4166, 49526, 26173, 4166, 69332, 31478]\n",
            "[12665, 43124, 34838, 67536, 68378, 4166, 48990, 25763, 37570, 4166, 49526, 26173, 4166, 69332, 31478, 0, 0, 0, 0, 0, 0, 0, 0, 0, 0, 0, 0, 0, 0, 0, 0, 0, 0, 0, 0, 0, 0, 0, 0, 0, 0, 0, 0, 0, 0, 0, 0, 0, 0, 0, 0, 0, 0, 0, 0, 0, 0, 0, 0, 0, 0, 0, 0, 0, 0, 0, 0, 0, 0, 0, 0, 0, 0, 0, 0, 0, 0, 0, 0, 0, 0, 0, 0, 0, 0, 0, 0, 0, 0, 0, 0, 0, 0, 0, 0, 0, 0, 0, 0, 0]\n",
            "[[-1.5637019]]\n",
            "This was my first time using flash instead of DVD OEM. very simple to configure boot and postWould buy again for another build.\n",
            "[24647, 9092, 27121, 16101, 63940, 73057, 73123, 7546, 68786, 38212, 20698, 19738, 8775, 4166, 60250, 17412, 67536, 73739, 25064, 6501, 11980, 7247, 66127]\n",
            "[24647, 9092, 27121, 16101, 63940, 73057, 73123, 7546, 68786, 38212, 20698, 19738, 8775, 4166, 60250, 17412, 67536, 73739, 25064, 6501, 11980, 7247, 66127, 0, 0, 0, 0, 0, 0, 0, 0, 0, 0, 0, 0, 0, 0, 0, 0, 0, 0, 0, 0, 0, 0, 0, 0, 0, 0, 0, 0, 0, 0, 0, 0, 0, 0, 0, 0, 0, 0, 0, 0, 0, 0, 0, 0, 0, 0, 0, 0, 0, 0, 0, 0, 0, 0, 0, 0, 0, 0, 0, 0, 0, 0, 0, 0, 0, 0, 0, 0, 0, 0, 0, 0, 0, 0, 0, 0, 0]\n",
            "[[-3.2545297]]\n",
            "Easy install process\n",
            "[22, 64992, 37136]\n",
            "[22, 64992, 37136, 0, 0, 0, 0, 0, 0, 0, 0, 0, 0, 0, 0, 0, 0, 0, 0, 0, 0, 0, 0, 0, 0, 0, 0, 0, 0, 0, 0, 0, 0, 0, 0, 0, 0, 0, 0, 0, 0, 0, 0, 0, 0, 0, 0, 0, 0, 0, 0, 0, 0, 0, 0, 0, 0, 0, 0, 0, 0, 0, 0, 0, 0, 0, 0, 0, 0, 0, 0, 0, 0, 0, 0, 0, 0, 0, 0, 0, 0, 0, 0, 0, 0, 0, 0, 0, 0, 0, 0, 0, 0, 0, 0, 0, 0, 0, 0, 0]\n",
            "[[5.859398]]\n",
            "The product key did not work. The computer says it was already activated on another computer.\n",
            "[12665, 57989, 24114, 13367, 40325, 45906, 12665, 51385, 34255, 26173, 9092, 19353, 21151, 61693, 7247, 51385]\n",
            "[12665, 57989, 24114, 13367, 40325, 45906, 12665, 51385, 34255, 26173, 9092, 19353, 21151, 61693, 7247, 51385, 0, 0, 0, 0, 0, 0, 0, 0, 0, 0, 0, 0, 0, 0, 0, 0, 0, 0, 0, 0, 0, 0, 0, 0, 0, 0, 0, 0, 0, 0, 0, 0, 0, 0, 0, 0, 0, 0, 0, 0, 0, 0, 0, 0, 0, 0, 0, 0, 0, 0, 0, 0, 0, 0, 0, 0, 0, 0, 0, 0, 0, 0, 0, 0, 0, 0, 0, 0, 0, 0, 0, 0, 0, 0, 0, 0, 0, 0, 0, 0, 0, 0, 0, 0]\n",
            "[[-4.159769]]\n",
            "Perfect 10\n",
            "[27519, 24491]\n",
            "[27519, 24491, 0, 0, 0, 0, 0, 0, 0, 0, 0, 0, 0, 0, 0, 0, 0, 0, 0, 0, 0, 0, 0, 0, 0, 0, 0, 0, 0, 0, 0, 0, 0, 0, 0, 0, 0, 0, 0, 0, 0, 0, 0, 0, 0, 0, 0, 0, 0, 0, 0, 0, 0, 0, 0, 0, 0, 0, 0, 0, 0, 0, 0, 0, 0, 0, 0, 0, 0, 0, 0, 0, 0, 0, 0, 0, 0, 0, 0, 0, 0, 0, 0, 0, 0, 0, 0, 0, 0, 0, 0, 0, 0, 0, 0, 0, 0, 0, 0, 0]\n",
            "[[6.953346]]\n",
            "Doesn't work sorry\n",
            "[30503, 50937, 45906, 23001]\n",
            "[30503, 50937, 45906, 23001, 0, 0, 0, 0, 0, 0, 0, 0, 0, 0, 0, 0, 0, 0, 0, 0, 0, 0, 0, 0, 0, 0, 0, 0, 0, 0, 0, 0, 0, 0, 0, 0, 0, 0, 0, 0, 0, 0, 0, 0, 0, 0, 0, 0, 0, 0, 0, 0, 0, 0, 0, 0, 0, 0, 0, 0, 0, 0, 0, 0, 0, 0, 0, 0, 0, 0, 0, 0, 0, 0, 0, 0, 0, 0, 0, 0, 0, 0, 0, 0, 0, 0, 0, 0, 0, 0, 0, 0, 0, 0, 0, 0, 0, 0, 0, 0]\n",
            "[[-3.9293687]]\n",
            "Purchased this for a newly built computer and it does not work.  Says Product Key you entered didn't work.  Product Key invalid.  Have been online with Microsoft attempting to fix it with no luck!  Now waiting on a MS engineer to contact us.  This should not be this difficult.  Very angry and dissatisfied.  Don't waste your money.\n",
            "[73659, 53317, 11980, 8603, 27439, 42032, 51385, 67536, 26173, 9408, 40325, 45906, 47194, 8557, 8045, 52539, 46245, 24899, 50937, 45906, 8557, 8045, 8320, 2471, 73619, 38908, 54603, 72887, 13879, 4166, 42619, 26173, 54603, 37001, 7917, 42500, 47809, 61693, 8603, 42482, 62587, 4166, 27386, 8985, 24647, 26884, 40325, 20385, 53317, 3366, 33746, 41779, 67536, 69639, 70233, 50937, 27737, 42615, 68655]\n",
            "[73659, 53317, 11980, 8603, 27439, 42032, 51385, 67536, 26173, 9408, 40325, 45906, 47194, 8557, 8045, 52539, 46245, 24899, 50937, 45906, 8557, 8045, 8320, 2471, 73619, 38908, 54603, 72887, 13879, 4166, 42619, 26173, 54603, 37001, 7917, 42500, 47809, 61693, 8603, 42482, 62587, 4166, 27386, 8985, 24647, 26884, 40325, 20385, 53317, 3366, 33746, 41779, 67536, 69639, 70233, 50937, 27737, 42615, 68655, 0, 0, 0, 0, 0, 0, 0, 0, 0, 0, 0, 0, 0, 0, 0, 0, 0, 0, 0, 0, 0, 0, 0, 0, 0, 0, 0, 0, 0, 0, 0, 0, 0, 0, 0, 0, 0, 0, 0, 0, 0]\n",
            "[[-2.7078779]]\n",
            "The stick failed and have to try several times to get it to load properly\n",
            "[12665, 43124, 34838, 67536, 68378, 4166, 48990, 25763, 37570, 4166, 49526, 26173, 4166, 69332, 31478]\n",
            "[12665, 43124, 34838, 67536, 68378, 4166, 48990, 25763, 37570, 4166, 49526, 26173, 4166, 69332, 31478, 0, 0, 0, 0, 0, 0, 0, 0, 0, 0, 0, 0, 0, 0, 0, 0, 0, 0, 0, 0, 0, 0, 0, 0, 0, 0, 0, 0, 0, 0, 0, 0, 0, 0, 0, 0, 0, 0, 0, 0, 0, 0, 0, 0, 0, 0, 0, 0, 0, 0, 0, 0, 0, 0, 0, 0, 0, 0, 0, 0, 0, 0, 0, 0, 0, 0, 0, 0, 0, 0, 0, 0, 0, 0, 0, 0, 0, 0, 0, 0, 0, 0, 0, 0, 0]\n",
            "[[-1.5637019]]\n",
            "This was my first time using flash instead of DVD OEM. very simple to configure boot and postWould buy again for another build.\n",
            "[24647, 9092, 27121, 16101, 63940, 73057, 73123, 7546, 68786, 38212, 20698, 19738, 8775, 4166, 60250, 17412, 67536, 73739, 25064, 6501, 11980, 7247, 66127]\n",
            "[24647, 9092, 27121, 16101, 63940, 73057, 73123, 7546, 68786, 38212, 20698, 19738, 8775, 4166, 60250, 17412, 67536, 73739, 25064, 6501, 11980, 7247, 66127, 0, 0, 0, 0, 0, 0, 0, 0, 0, 0, 0, 0, 0, 0, 0, 0, 0, 0, 0, 0, 0, 0, 0, 0, 0, 0, 0, 0, 0, 0, 0, 0, 0, 0, 0, 0, 0, 0, 0, 0, 0, 0, 0, 0, 0, 0, 0, 0, 0, 0, 0, 0, 0, 0, 0, 0, 0, 0, 0, 0, 0, 0, 0, 0, 0, 0, 0, 0, 0, 0, 0, 0, 0, 0, 0, 0, 0]\n",
            "[[-3.2545297]]\n",
            "Easy install process\n",
            "[22, 64992, 37136]\n",
            "[22, 64992, 37136, 0, 0, 0, 0, 0, 0, 0, 0, 0, 0, 0, 0, 0, 0, 0, 0, 0, 0, 0, 0, 0, 0, 0, 0, 0, 0, 0, 0, 0, 0, 0, 0, 0, 0, 0, 0, 0, 0, 0, 0, 0, 0, 0, 0, 0, 0, 0, 0, 0, 0, 0, 0, 0, 0, 0, 0, 0, 0, 0, 0, 0, 0, 0, 0, 0, 0, 0, 0, 0, 0, 0, 0, 0, 0, 0, 0, 0, 0, 0, 0, 0, 0, 0, 0, 0, 0, 0, 0, 0, 0, 0, 0, 0, 0, 0, 0, 0]\n",
            "[[5.859398]]\n",
            "The product key did not work. The computer says it was already activated on another computer.\n",
            "[12665, 57989, 24114, 13367, 40325, 45906, 12665, 51385, 34255, 26173, 9092, 19353, 21151, 61693, 7247, 51385]\n",
            "[12665, 57989, 24114, 13367, 40325, 45906, 12665, 51385, 34255, 26173, 9092, 19353, 21151, 61693, 7247, 51385, 0, 0, 0, 0, 0, 0, 0, 0, 0, 0, 0, 0, 0, 0, 0, 0, 0, 0, 0, 0, 0, 0, 0, 0, 0, 0, 0, 0, 0, 0, 0, 0, 0, 0, 0, 0, 0, 0, 0, 0, 0, 0, 0, 0, 0, 0, 0, 0, 0, 0, 0, 0, 0, 0, 0, 0, 0, 0, 0, 0, 0, 0, 0, 0, 0, 0, 0, 0, 0, 0, 0, 0, 0, 0, 0, 0, 0, 0, 0, 0, 0, 0, 0, 0]\n",
            "[[-4.159769]]\n",
            "Perfect 10\n",
            "[27519, 24491]\n",
            "[27519, 24491, 0, 0, 0, 0, 0, 0, 0, 0, 0, 0, 0, 0, 0, 0, 0, 0, 0, 0, 0, 0, 0, 0, 0, 0, 0, 0, 0, 0, 0, 0, 0, 0, 0, 0, 0, 0, 0, 0, 0, 0, 0, 0, 0, 0, 0, 0, 0, 0, 0, 0, 0, 0, 0, 0, 0, 0, 0, 0, 0, 0, 0, 0, 0, 0, 0, 0, 0, 0, 0, 0, 0, 0, 0, 0, 0, 0, 0, 0, 0, 0, 0, 0, 0, 0, 0, 0, 0, 0, 0, 0, 0, 0, 0, 0, 0, 0, 0, 0]\n",
            "[[6.953346]]\n",
            "Doesn't work sorry\n",
            "[30503, 50937, 45906, 23001]\n",
            "[30503, 50937, 45906, 23001, 0, 0, 0, 0, 0, 0, 0, 0, 0, 0, 0, 0, 0, 0, 0, 0, 0, 0, 0, 0, 0, 0, 0, 0, 0, 0, 0, 0, 0, 0, 0, 0, 0, 0, 0, 0, 0, 0, 0, 0, 0, 0, 0, 0, 0, 0, 0, 0, 0, 0, 0, 0, 0, 0, 0, 0, 0, 0, 0, 0, 0, 0, 0, 0, 0, 0, 0, 0, 0, 0, 0, 0, 0, 0, 0, 0, 0, 0, 0, 0, 0, 0, 0, 0, 0, 0, 0, 0, 0, 0, 0, 0, 0, 0, 0, 0]\n",
            "[[-3.9293687]]\n",
            "Purchased this for a newly built computer and it does not work.  Says Product Key you entered didn't work.  Product Key invalid.  Have been online with Microsoft attempting to fix it with no luck!  Now waiting on a MS engineer to contact us.  This should not be this difficult.  Very angry and dissatisfied.  Don't waste your money.\n",
            "[73659, 53317, 11980, 8603, 27439, 42032, 51385, 67536, 26173, 9408, 40325, 45906, 47194, 8557, 8045, 52539, 46245, 24899, 50937, 45906, 8557, 8045, 8320, 2471, 73619, 38908, 54603, 72887, 13879, 4166, 42619, 26173, 54603, 37001, 7917, 42500, 47809, 61693, 8603, 42482, 62587, 4166, 27386, 8985, 24647, 26884, 40325, 20385, 53317, 3366, 33746, 41779, 67536, 69639, 70233, 50937, 27737, 42615, 68655]\n",
            "[73659, 53317, 11980, 8603, 27439, 42032, 51385, 67536, 26173, 9408, 40325, 45906, 47194, 8557, 8045, 52539, 46245, 24899, 50937, 45906, 8557, 8045, 8320, 2471, 73619, 38908, 54603, 72887, 13879, 4166, 42619, 26173, 54603, 37001, 7917, 42500, 47809, 61693, 8603, 42482, 62587, 4166, 27386, 8985, 24647, 26884, 40325, 20385, 53317, 3366, 33746, 41779, 67536, 69639, 70233, 50937, 27737, 42615, 68655, 0, 0, 0, 0, 0, 0, 0, 0, 0, 0, 0, 0, 0, 0, 0, 0, 0, 0, 0, 0, 0, 0, 0, 0, 0, 0, 0, 0, 0, 0, 0, 0, 0, 0, 0, 0, 0, 0, 0, 0, 0]\n",
            "[[-2.7078779]]\n",
            "The stick failed and have to try several times to get it to load properly\n",
            "[12665, 43124, 34838, 67536, 68378, 4166, 48990, 25763, 37570, 4166, 49526, 26173, 4166, 69332, 31478]\n",
            "[12665, 43124, 34838, 67536, 68378, 4166, 48990, 25763, 37570, 4166, 49526, 26173, 4166, 69332, 31478, 0, 0, 0, 0, 0, 0, 0, 0, 0, 0, 0, 0, 0, 0, 0, 0, 0, 0, 0, 0, 0, 0, 0, 0, 0, 0, 0, 0, 0, 0, 0, 0, 0, 0, 0, 0, 0, 0, 0, 0, 0, 0, 0, 0, 0, 0, 0, 0, 0, 0, 0, 0, 0, 0, 0, 0, 0, 0, 0, 0, 0, 0, 0, 0, 0, 0, 0, 0, 0, 0, 0, 0, 0, 0, 0, 0, 0, 0, 0, 0, 0, 0, 0, 0, 0]\n",
            "[[-1.5637019]]\n",
            "This was my first time using flash instead of DVD OEM. very simple to configure boot and postWould buy again for another build.\n",
            "[24647, 9092, 27121, 16101, 63940, 73057, 73123, 7546, 68786, 38212, 20698, 19738, 8775, 4166, 60250, 17412, 67536, 73739, 25064, 6501, 11980, 7247, 66127]\n",
            "[24647, 9092, 27121, 16101, 63940, 73057, 73123, 7546, 68786, 38212, 20698, 19738, 8775, 4166, 60250, 17412, 67536, 73739, 25064, 6501, 11980, 7247, 66127, 0, 0, 0, 0, 0, 0, 0, 0, 0, 0, 0, 0, 0, 0, 0, 0, 0, 0, 0, 0, 0, 0, 0, 0, 0, 0, 0, 0, 0, 0, 0, 0, 0, 0, 0, 0, 0, 0, 0, 0, 0, 0, 0, 0, 0, 0, 0, 0, 0, 0, 0, 0, 0, 0, 0, 0, 0, 0, 0, 0, 0, 0, 0, 0, 0, 0, 0, 0, 0, 0, 0, 0, 0, 0, 0, 0, 0]\n",
            "[[-3.2545297]]\n",
            "Easy install process\n",
            "[22, 64992, 37136]\n",
            "[22, 64992, 37136, 0, 0, 0, 0, 0, 0, 0, 0, 0, 0, 0, 0, 0, 0, 0, 0, 0, 0, 0, 0, 0, 0, 0, 0, 0, 0, 0, 0, 0, 0, 0, 0, 0, 0, 0, 0, 0, 0, 0, 0, 0, 0, 0, 0, 0, 0, 0, 0, 0, 0, 0, 0, 0, 0, 0, 0, 0, 0, 0, 0, 0, 0, 0, 0, 0, 0, 0, 0, 0, 0, 0, 0, 0, 0, 0, 0, 0, 0, 0, 0, 0, 0, 0, 0, 0, 0, 0, 0, 0, 0, 0, 0, 0, 0, 0, 0, 0]\n",
            "[[5.859398]]\n",
            "The product key did not work. The computer says it was already activated on another computer.\n",
            "[12665, 57989, 24114, 13367, 40325, 45906, 12665, 51385, 34255, 26173, 9092, 19353, 21151, 61693, 7247, 51385]\n",
            "[12665, 57989, 24114, 13367, 40325, 45906, 12665, 51385, 34255, 26173, 9092, 19353, 21151, 61693, 7247, 51385, 0, 0, 0, 0, 0, 0, 0, 0, 0, 0, 0, 0, 0, 0, 0, 0, 0, 0, 0, 0, 0, 0, 0, 0, 0, 0, 0, 0, 0, 0, 0, 0, 0, 0, 0, 0, 0, 0, 0, 0, 0, 0, 0, 0, 0, 0, 0, 0, 0, 0, 0, 0, 0, 0, 0, 0, 0, 0, 0, 0, 0, 0, 0, 0, 0, 0, 0, 0, 0, 0, 0, 0, 0, 0, 0, 0, 0, 0, 0, 0, 0, 0, 0, 0]\n",
            "[[-4.159769]]\n",
            "Perfect 10\n",
            "[27519, 24491]\n",
            "[27519, 24491, 0, 0, 0, 0, 0, 0, 0, 0, 0, 0, 0, 0, 0, 0, 0, 0, 0, 0, 0, 0, 0, 0, 0, 0, 0, 0, 0, 0, 0, 0, 0, 0, 0, 0, 0, 0, 0, 0, 0, 0, 0, 0, 0, 0, 0, 0, 0, 0, 0, 0, 0, 0, 0, 0, 0, 0, 0, 0, 0, 0, 0, 0, 0, 0, 0, 0, 0, 0, 0, 0, 0, 0, 0, 0, 0, 0, 0, 0, 0, 0, 0, 0, 0, 0, 0, 0, 0, 0, 0, 0, 0, 0, 0, 0, 0, 0, 0, 0]\n",
            "[[6.953346]]\n",
            "Doesn't work sorry\n",
            "[30503, 50937, 45906, 23001]\n",
            "[30503, 50937, 45906, 23001, 0, 0, 0, 0, 0, 0, 0, 0, 0, 0, 0, 0, 0, 0, 0, 0, 0, 0, 0, 0, 0, 0, 0, 0, 0, 0, 0, 0, 0, 0, 0, 0, 0, 0, 0, 0, 0, 0, 0, 0, 0, 0, 0, 0, 0, 0, 0, 0, 0, 0, 0, 0, 0, 0, 0, 0, 0, 0, 0, 0, 0, 0, 0, 0, 0, 0, 0, 0, 0, 0, 0, 0, 0, 0, 0, 0, 0, 0, 0, 0, 0, 0, 0, 0, 0, 0, 0, 0, 0, 0, 0, 0, 0, 0, 0, 0]\n",
            "[[-3.9293687]]\n",
            "Purchased this for a newly built computer and it does not work.  Says Product Key you entered didn't work.  Product Key invalid.  Have been online with Microsoft attempting to fix it with no luck!  Now waiting on a MS engineer to contact us.  This should not be this difficult.  Very angry and dissatisfied.  Don't waste your money.\n",
            "[73659, 53317, 11980, 8603, 27439, 42032, 51385, 67536, 26173, 9408, 40325, 45906, 47194, 8557, 8045, 52539, 46245, 24899, 50937, 45906, 8557, 8045, 8320, 2471, 73619, 38908, 54603, 72887, 13879, 4166, 42619, 26173, 54603, 37001, 7917, 42500, 47809, 61693, 8603, 42482, 62587, 4166, 27386, 8985, 24647, 26884, 40325, 20385, 53317, 3366, 33746, 41779, 67536, 69639, 70233, 50937, 27737, 42615, 68655]\n",
            "[73659, 53317, 11980, 8603, 27439, 42032, 51385, 67536, 26173, 9408, 40325, 45906, 47194, 8557, 8045, 52539, 46245, 24899, 50937, 45906, 8557, 8045, 8320, 2471, 73619, 38908, 54603, 72887, 13879, 4166, 42619, 26173, 54603, 37001, 7917, 42500, 47809, 61693, 8603, 42482, 62587, 4166, 27386, 8985, 24647, 26884, 40325, 20385, 53317, 3366, 33746, 41779, 67536, 69639, 70233, 50937, 27737, 42615, 68655, 0, 0, 0, 0, 0, 0, 0, 0, 0, 0, 0, 0, 0, 0, 0, 0, 0, 0, 0, 0, 0, 0, 0, 0, 0, 0, 0, 0, 0, 0, 0, 0, 0, 0, 0, 0, 0, 0, 0, 0, 0]\n",
            "[[-2.7078779]]\n",
            "The stick failed and have to try several times to get it to load properly\n",
            "[12665, 43124, 34838, 67536, 68378, 4166, 48990, 25763, 37570, 4166, 49526, 26173, 4166, 69332, 31478]\n",
            "[12665, 43124, 34838, 67536, 68378, 4166, 48990, 25763, 37570, 4166, 49526, 26173, 4166, 69332, 31478, 0, 0, 0, 0, 0, 0, 0, 0, 0, 0, 0, 0, 0, 0, 0, 0, 0, 0, 0, 0, 0, 0, 0, 0, 0, 0, 0, 0, 0, 0, 0, 0, 0, 0, 0, 0, 0, 0, 0, 0, 0, 0, 0, 0, 0, 0, 0, 0, 0, 0, 0, 0, 0, 0, 0, 0, 0, 0, 0, 0, 0, 0, 0, 0, 0, 0, 0, 0, 0, 0, 0, 0, 0, 0, 0, 0, 0, 0, 0, 0, 0, 0, 0, 0, 0]\n",
            "[[-1.5637019]]\n",
            "This was my first time using flash instead of DVD OEM. very simple to configure boot and postWould buy again for another build.\n",
            "[24647, 9092, 27121, 16101, 63940, 73057, 73123, 7546, 68786, 38212, 20698, 19738, 8775, 4166, 60250, 17412, 67536, 73739, 25064, 6501, 11980, 7247, 66127]\n",
            "[24647, 9092, 27121, 16101, 63940, 73057, 73123, 7546, 68786, 38212, 20698, 19738, 8775, 4166, 60250, 17412, 67536, 73739, 25064, 6501, 11980, 7247, 66127, 0, 0, 0, 0, 0, 0, 0, 0, 0, 0, 0, 0, 0, 0, 0, 0, 0, 0, 0, 0, 0, 0, 0, 0, 0, 0, 0, 0, 0, 0, 0, 0, 0, 0, 0, 0, 0, 0, 0, 0, 0, 0, 0, 0, 0, 0, 0, 0, 0, 0, 0, 0, 0, 0, 0, 0, 0, 0, 0, 0, 0, 0, 0, 0, 0, 0, 0, 0, 0, 0, 0, 0, 0, 0, 0, 0, 0]\n",
            "[[-3.2545297]]\n",
            "Easy install process\n",
            "[22, 64992, 37136]\n",
            "[22, 64992, 37136, 0, 0, 0, 0, 0, 0, 0, 0, 0, 0, 0, 0, 0, 0, 0, 0, 0, 0, 0, 0, 0, 0, 0, 0, 0, 0, 0, 0, 0, 0, 0, 0, 0, 0, 0, 0, 0, 0, 0, 0, 0, 0, 0, 0, 0, 0, 0, 0, 0, 0, 0, 0, 0, 0, 0, 0, 0, 0, 0, 0, 0, 0, 0, 0, 0, 0, 0, 0, 0, 0, 0, 0, 0, 0, 0, 0, 0, 0, 0, 0, 0, 0, 0, 0, 0, 0, 0, 0, 0, 0, 0, 0, 0, 0, 0, 0, 0]\n",
            "[[5.859398]]\n",
            "The product key did not work. The computer says it was already activated on another computer.\n",
            "[12665, 57989, 24114, 13367, 40325, 45906, 12665, 51385, 34255, 26173, 9092, 19353, 21151, 61693, 7247, 51385]\n",
            "[12665, 57989, 24114, 13367, 40325, 45906, 12665, 51385, 34255, 26173, 9092, 19353, 21151, 61693, 7247, 51385, 0, 0, 0, 0, 0, 0, 0, 0, 0, 0, 0, 0, 0, 0, 0, 0, 0, 0, 0, 0, 0, 0, 0, 0, 0, 0, 0, 0, 0, 0, 0, 0, 0, 0, 0, 0, 0, 0, 0, 0, 0, 0, 0, 0, 0, 0, 0, 0, 0, 0, 0, 0, 0, 0, 0, 0, 0, 0, 0, 0, 0, 0, 0, 0, 0, 0, 0, 0, 0, 0, 0, 0, 0, 0, 0, 0, 0, 0, 0, 0, 0, 0, 0, 0]\n",
            "[[-4.159769]]\n",
            "Perfect 10\n",
            "[27519, 24491]\n",
            "[27519, 24491, 0, 0, 0, 0, 0, 0, 0, 0, 0, 0, 0, 0, 0, 0, 0, 0, 0, 0, 0, 0, 0, 0, 0, 0, 0, 0, 0, 0, 0, 0, 0, 0, 0, 0, 0, 0, 0, 0, 0, 0, 0, 0, 0, 0, 0, 0, 0, 0, 0, 0, 0, 0, 0, 0, 0, 0, 0, 0, 0, 0, 0, 0, 0, 0, 0, 0, 0, 0, 0, 0, 0, 0, 0, 0, 0, 0, 0, 0, 0, 0, 0, 0, 0, 0, 0, 0, 0, 0, 0, 0, 0, 0, 0, 0, 0, 0, 0, 0]\n",
            "[[6.953346]]\n",
            "Doesn't work sorry\n",
            "[30503, 50937, 45906, 23001]\n",
            "[30503, 50937, 45906, 23001, 0, 0, 0, 0, 0, 0, 0, 0, 0, 0, 0, 0, 0, 0, 0, 0, 0, 0, 0, 0, 0, 0, 0, 0, 0, 0, 0, 0, 0, 0, 0, 0, 0, 0, 0, 0, 0, 0, 0, 0, 0, 0, 0, 0, 0, 0, 0, 0, 0, 0, 0, 0, 0, 0, 0, 0, 0, 0, 0, 0, 0, 0, 0, 0, 0, 0, 0, 0, 0, 0, 0, 0, 0, 0, 0, 0, 0, 0, 0, 0, 0, 0, 0, 0, 0, 0, 0, 0, 0, 0, 0, 0, 0, 0, 0, 0]\n",
            "[[-3.9293687]]\n",
            "None\n"
          ],
          "name": "stdout"
        }
      ]
    },
    {
      "cell_type": "code",
      "metadata": {
        "id": "oA9IeJ-mLXdV",
        "colab_type": "code",
        "colab": {}
      },
      "source": [
        "#if you want to test out this model you can write sentiment yourself"
      ],
      "execution_count": null,
      "outputs": []
    },
    {
      "cell_type": "code",
      "metadata": {
        "id": "LsFfMW94OUy5",
        "colab_type": "code",
        "colab": {}
      },
      "source": [
        "def predict_fn_one_sentiment(pred_text):\n",
        "  encoded_pred_text = encoder.encode(pred_text)\n",
        "  print(encoded_pred_text)\n",
        "  encoded_pred_text = pad_to_size(encoded_pred_text,100)\n",
        "  print(encoded_pred_text)\n",
        "  encoded_pred_text = tf.cast(encoded_pred_text, tf.float32)\n",
        "  prediction = sa_load.predict(tf.expand_dims(encoded_pred_text, 0))\n",
        "  if prediction > 1:\n",
        "    print(\"Sentiment of this review is positive :)\") \n",
        "    return prediction\n",
        "  if prediction >= 0 and prediction <= 2:\n",
        "    print(\"Sentiment of this review is Netural,just satisfying\")\n",
        "    return prediction\n",
        "  if prediction < 1:\n",
        "    print(\"Sentiment of this product is negetive :(\")\n",
        "    return prediction\n",
        "  "
      ],
      "execution_count": 46,
      "outputs": []
    },
    {
      "cell_type": "code",
      "metadata": {
        "id": "Jmf_j2iqYhjG",
        "colab_type": "code",
        "colab": {
          "base_uri": "https://localhost:8080/",
          "height": 122
        },
        "outputId": "1fa13270-d98e-4c78-ad17-ec198b7bdd30"
      },
      "source": [
        "pred_text=input(\"Write sentense to check sentiment: \")\n",
        "prediction=predict_fn_one_sentiment(pred_text)\n",
        "print(prediction)"
      ],
      "execution_count": 50,
      "outputs": [
        {
          "output_type": "stream",
          "text": [
            "Write sentense to check sentiment: I will not recommend it. Very disappointed Terrible quality. The material is so thin it's almost see-through and at the first wash they shrunk a lot. Runs very small. My son wears size 2/3 years, I bought a 4 so he could grow into them but as you can see from the picture it wasĺ really tiny\n",
            "[32741, 37555, 40325, 18026, 26173, 33746, 25965, 51914, 6938, 12665, 43305, 49730, 41740, 34375, 26173, 12073, 44131, 68963, 9771, 67536, 48393, 41952, 16101, 70466, 53223, 16816, 8603, 5858, 63337, 19738, 6807, 10863, 20964, 48724, 53601, 72931, 18982, 44137, 32741, 6575, 8603, 22882, 41740, 1879, 3758, 55917, 61555, 68625, 31990, 35090, 52539, 68742, 68963, 25652, 41952, 71425, 26173, 73739, 62807, 51775]\n",
            "[32741, 37555, 40325, 18026, 26173, 33746, 25965, 51914, 6938, 12665, 43305, 49730, 41740, 34375, 26173, 12073, 44131, 68963, 9771, 67536, 48393, 41952, 16101, 70466, 53223, 16816, 8603, 5858, 63337, 19738, 6807, 10863, 20964, 48724, 53601, 72931, 18982, 44137, 32741, 6575, 8603, 22882, 41740, 1879, 3758, 55917, 61555, 68625, 31990, 35090, 52539, 68742, 68963, 25652, 41952, 71425, 26173, 73739, 62807, 51775, 0, 0, 0, 0, 0, 0, 0, 0, 0, 0, 0, 0, 0, 0, 0, 0, 0, 0, 0, 0, 0, 0, 0, 0, 0, 0, 0, 0, 0, 0, 0, 0, 0, 0, 0, 0, 0, 0, 0, 0]\n",
            "Sentiment of this product is negetive :(\n",
            "[[-5.158209]]\n"
          ],
          "name": "stdout"
        }
      ]
    },
    {
      "cell_type": "code",
      "metadata": {
        "id": "p7PbpMeqOe5I",
        "colab_type": "code",
        "colab": {
          "base_uri": "https://localhost:8080/",
          "height": 122
        },
        "outputId": "4dc50afb-d6be-49b1-a684-f87ffb3bb68f"
      },
      "source": [
        "pred_text=input(\"Write sentense to check sentiment: \")\n",
        "prediction=predict_fn_one_sentiment(pred_text)\n",
        "print(prediction)"
      ],
      "execution_count": 51,
      "outputs": [
        {
          "output_type": "stream",
          "text": [
            "Write sentense to check sentiment: I needed a beater type tank top for my 17 month old to help keep him cool during this TX summer. I looked everywhere & couldn't find the style I wanted any smaller than a 2T for my son who's still wearing 18M shirts. I went ahead and ordered the 2T thinking if they are like the adult Hanes beater/tank tops they run kind of small & I was right! They are a little big around the chest but they fit just fine & are perfect as a summer play/pool shirt. I am very happy with them & will most likely be getting more!\n",
            "[32741, 40490, 8603, 57913, 58846, 63262, 302, 11980, 27121, 6924, 5610, 5186, 4166, 71817, 63058, 10121, 45418, 587, 53317, 21442, 15419, 32741, 64598, 14280, 65101, 50937, 43751, 41952, 23885, 32741, 14091, 42043, 22722, 14032, 8603, 73739, 11980, 27121, 20964, 42594, 12073, 41420, 45854, 7437, 54489, 32741, 22501, 57872, 67536, 1196, 41952, 73739, 33067, 36345, 53223, 58238, 29265, 41952, 28679, 11711, 57913, 63262, 27822, 53223, 20081, 36015, 68786, 6807, 32741, 9092, 38155, 60549, 58238, 8603, 44916, 44228, 42172, 41952, 65534, 31990, 53223, 5842, 46029, 31266, 58238, 32243, 35090, 8603, 15419, 42850, 70189, 2945, 32741, 27239, 19738, 32689, 54603, 68625, 37555, 50782, 10834, 20385, 7655, 846]\n",
            "[32741, 40490, 8603, 57913, 58846, 63262, 302, 11980, 27121, 6924, 5610, 5186, 4166, 71817, 63058, 10121, 45418, 587, 53317, 21442, 15419, 32741, 64598, 14280, 65101, 50937, 43751, 41952, 23885, 32741, 14091, 42043, 22722, 14032, 8603, 73739, 11980, 27121, 20964, 42594, 12073, 41420, 45854, 7437, 54489, 32741, 22501, 57872, 67536, 1196, 41952, 73739, 33067, 36345, 53223, 58238, 29265, 41952, 28679, 11711, 57913, 63262, 27822, 53223, 20081, 36015, 68786, 6807, 32741, 9092, 38155, 60549, 58238, 8603, 44916, 44228, 42172, 41952, 65534, 31990, 53223, 5842, 46029, 31266, 58238, 32243, 35090, 8603, 15419, 42850, 70189, 2945, 32741, 27239, 19738, 32689, 54603, 68625, 37555, 50782, 10834, 20385, 7655, 846]\n",
            "Sentiment of this review is positive :)\n",
            "[[5.9069734]]\n"
          ],
          "name": "stdout"
        }
      ]
    },
    {
      "cell_type": "code",
      "metadata": {
        "id": "4iVDFAPrOUo6",
        "colab_type": "code",
        "colab": {
          "base_uri": "https://localhost:8080/",
          "height": 122
        },
        "outputId": "c5994ac9-0db4-4e32-d009-58af33acfef8"
      },
      "source": [
        "pred_text=input(\"Write sentense to check sentiment: \")\n",
        "prediction=predict_fn_one_sentiment(pred_text)\n",
        "print(prediction)"
      ],
      "execution_count": 64,
      "outputs": [
        {
          "output_type": "stream",
          "text": [
            "Write sentense to check sentiment: Right when I opened package I was concerned with quality. Seems didn't line up and lots of extra thread. I know they are 100% cotton but they were dried on gentle cycle. Low heat for 20 mins and shrank horribly. You get what you pay for. Cheap. Picture is of a 2t/3t tank on top of a regular 2t t-shirt\n",
            "[45581, 53293, 32741, 28613, 61522, 32741, 9092, 23535, 54603, 6938, 56503, 24899, 50937, 27758, 54093, 67536, 28549, 68786, 19899, 43564, 32741, 43485, 53223, 58238, 37887, 21898, 31990, 53223, 58706, 41073, 61693, 43025, 5995, 21304, 38196, 11980, 70047, 66895, 67536, 20275, 39205, 7529, 49526, 45391, 52539, 57374, 11980, 21350, 36098, 49730, 68786, 8603, 73739, 73739, 63262, 61693, 302, 68786, 8603, 28074, 73739, 50937, 2945]\n",
            "[45581, 53293, 32741, 28613, 61522, 32741, 9092, 23535, 54603, 6938, 56503, 24899, 50937, 27758, 54093, 67536, 28549, 68786, 19899, 43564, 32741, 43485, 53223, 58238, 37887, 21898, 31990, 53223, 58706, 41073, 61693, 43025, 5995, 21304, 38196, 11980, 70047, 66895, 67536, 20275, 39205, 7529, 49526, 45391, 52539, 57374, 11980, 21350, 36098, 49730, 68786, 8603, 73739, 73739, 63262, 61693, 302, 68786, 8603, 28074, 73739, 50937, 2945, 0, 0, 0, 0, 0, 0, 0, 0, 0, 0, 0, 0, 0, 0, 0, 0, 0, 0, 0, 0, 0, 0, 0, 0, 0, 0, 0, 0, 0, 0, 0, 0, 0, 0, 0, 0, 0]\n",
            "Sentiment of this product is negetive :(\n",
            "[[-4.3655567]]\n"
          ],
          "name": "stdout"
        }
      ]
    },
    {
      "cell_type": "code",
      "metadata": {
        "id": "GfR5p2XJWTzr",
        "colab_type": "code",
        "colab": {
          "base_uri": "https://localhost:8080/",
          "height": 105
        },
        "outputId": "cbe6b513-1b46-4137-aa37-31d641fa3978"
      },
      "source": [
        "pred_text=(\"this is good shirt, i really like it\")\n",
        "prediction=predict_fn_one_sentiment(pred_text)\n",
        "print(prediction)"
      ],
      "execution_count": 53,
      "outputs": [
        {
          "output_type": "stream",
          "text": [
            "[53317, 49730, 48089, 2945, 38268, 62807, 29265, 26173]\n",
            "[53317, 49730, 48089, 2945, 38268, 62807, 29265, 26173, 0, 0, 0, 0, 0, 0, 0, 0, 0, 0, 0, 0, 0, 0, 0, 0, 0, 0, 0, 0, 0, 0, 0, 0, 0, 0, 0, 0, 0, 0, 0, 0, 0, 0, 0, 0, 0, 0, 0, 0, 0, 0, 0, 0, 0, 0, 0, 0, 0, 0, 0, 0, 0, 0, 0, 0, 0, 0, 0, 0, 0, 0, 0, 0, 0, 0, 0, 0, 0, 0, 0, 0, 0, 0, 0, 0, 0, 0, 0, 0, 0, 0, 0, 0, 0, 0, 0, 0, 0, 0, 0, 0]\n",
            "Sentiment of this review is positive :)\n",
            "[[3.8501215]]\n"
          ],
          "name": "stdout"
        }
      ]
    },
    {
      "cell_type": "code",
      "metadata": {
        "id": "m4sgcwv8Yhae",
        "colab_type": "code",
        "colab": {}
      },
      "source": [
        ""
      ],
      "execution_count": 71,
      "outputs": []
    }
  ]
}