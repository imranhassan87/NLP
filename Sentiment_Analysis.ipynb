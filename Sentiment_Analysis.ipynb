{
  "nbformat": 4,
  "nbformat_minor": 0,
  "metadata": {
    "colab": {
      "name": "Sentiment Analysis.ipynb",
      "provenance": [],
      "collapsed_sections": [],
      "authorship_tag": "ABX9TyMXr+mnXfBfHDClkenxRb6S",
      "include_colab_link": true
    },
    "kernelspec": {
      "name": "python3",
      "display_name": "Python 3"
    },
    "accelerator": "GPU"
  },
  "cells": [
    {
      "cell_type": "markdown",
      "metadata": {
        "id": "view-in-github",
        "colab_type": "text"
      },
      "source": [
        "<a href=\"https://colab.research.google.com/github/imranhassan87/NLP/blob/master/Sentiment_Analysis.ipynb\" target=\"_parent\"><img src=\"https://colab.research.google.com/assets/colab-badge.svg\" alt=\"Open In Colab\"/></a>"
      ]
    },
    {
      "cell_type": "code",
      "metadata": {
        "id": "nklpY5PcV0HD",
        "colab_type": "code",
        "outputId": "77516d3f-a832-4ff3-e7e9-08307a845c91",
        "colab": {
          "base_uri": "https://localhost:8080/",
          "height": 357
        }
      },
      "source": [
        "!nvidia-smi"
      ],
      "execution_count": 120,
      "outputs": [
        {
          "output_type": "stream",
          "text": [
            "Sun Jun 14 05:13:00 2020       \n",
            "+-----------------------------------------------------------------------------+\n",
            "| NVIDIA-SMI 450.36.06    Driver Version: 418.67       CUDA Version: 10.1     |\n",
            "|-------------------------------+----------------------+----------------------+\n",
            "| GPU  Name        Persistence-M| Bus-Id        Disp.A | Volatile Uncorr. ECC |\n",
            "| Fan  Temp  Perf  Pwr:Usage/Cap|         Memory-Usage | GPU-Util  Compute M. |\n",
            "|                               |                      |               MIG M. |\n",
            "|===============================+======================+======================|\n",
            "|   0  Tesla P100-PCIE...  Off  | 00000000:00:04.0 Off |                    0 |\n",
            "| N/A   37C    P0    32W / 250W |    829MiB / 16280MiB |      0%      Default |\n",
            "|                               |                      |                 ERR! |\n",
            "+-------------------------------+----------------------+----------------------+\n",
            "                                                                               \n",
            "+-----------------------------------------------------------------------------+\n",
            "| Processes:                                                                  |\n",
            "|  GPU   GI   CI        PID   Type   Process name                  GPU Memory |\n",
            "|        ID   ID                                                   Usage      |\n",
            "|=============================================================================|\n",
            "|  No running processes found                                                 |\n",
            "+-----------------------------------------------------------------------------+\n"
          ],
          "name": "stdout"
        }
      ]
    },
    {
      "cell_type": "code",
      "metadata": {
        "id": "sWra58RqWAXS",
        "colab_type": "code",
        "outputId": "3fa12e99-9971-49a6-928a-df37e39ead7f",
        "colab": {
          "base_uri": "https://localhost:8080/",
          "height": 989
        }
      },
      "source": [
        "from __future__ import absolute_import, division, print_function, unicode_literals\n",
        "\n",
        "try:\n",
        "  !pip uninstall tb-nightly tensorboardX tensorboard\n",
        "  !pip install tf-nightly\n",
        "except Exception:\n",
        "  pass\n",
        "\n",
        "import tensorflow as tf\n",
        "\n",
        "%load_ext tensorboard"
      ],
      "execution_count": 121,
      "outputs": [
        {
          "output_type": "stream",
          "text": [
            "Uninstalling tb-nightly-2.3.0a20200613:\n",
            "  Would remove:\n",
            "    /usr/local/bin/tensorboard\n",
            "    /usr/local/lib/python3.6/dist-packages/tb_nightly-2.3.0a20200613.dist-info/*\n",
            "    /usr/local/lib/python3.6/dist-packages/tensorboard/*\n",
            "Proceed (y/n)? y\n",
            "  Successfully uninstalled tb-nightly-2.3.0a20200613\n",
            "\u001b[33mWARNING: Skipping tensorboardX as it is not installed.\u001b[0m\n",
            "\u001b[33mWARNING: Skipping tensorboard as it is not installed.\u001b[0m\n",
            "Requirement already satisfied: tf-nightly in /usr/local/lib/python3.6/dist-packages (2.3.0.dev20200613)\n",
            "Requirement already satisfied: termcolor>=1.1.0 in /usr/local/lib/python3.6/dist-packages (from tf-nightly) (1.1.0)\n",
            "Requirement already satisfied: wheel>=0.26 in /usr/local/lib/python3.6/dist-packages (from tf-nightly) (0.34.2)\n",
            "Requirement already satisfied: scipy==1.4.1 in /usr/local/lib/python3.6/dist-packages (from tf-nightly) (1.4.1)\n",
            "Requirement already satisfied: h5py<2.11.0,>=2.10.0 in /usr/local/lib/python3.6/dist-packages (from tf-nightly) (2.10.0)\n",
            "Requirement already satisfied: gast==0.3.3 in /usr/local/lib/python3.6/dist-packages (from tf-nightly) (0.3.3)\n",
            "Requirement already satisfied: numpy<2.0,>=1.16.0 in /usr/local/lib/python3.6/dist-packages (from tf-nightly) (1.18.5)\n",
            "Requirement already satisfied: six>=1.12.0 in /usr/local/lib/python3.6/dist-packages (from tf-nightly) (1.12.0)\n",
            "Requirement already satisfied: grpcio>=1.8.6 in /usr/local/lib/python3.6/dist-packages (from tf-nightly) (1.29.0)\n",
            "Requirement already satisfied: tf-estimator-nightly in /usr/local/lib/python3.6/dist-packages (from tf-nightly) (2.3.0.dev2020061301)\n",
            "Requirement already satisfied: google-pasta>=0.1.8 in /usr/local/lib/python3.6/dist-packages (from tf-nightly) (0.2.0)\n",
            "Collecting tb-nightly<2.4.0a0,>=2.3.0a0\n",
            "  Using cached https://files.pythonhosted.org/packages/b9/c8/8abbb41da33322bb30090900c537c2dc46b1fa86edb66d14b5aa1f8b344c/tb_nightly-2.3.0a20200613-py3-none-any.whl\n",
            "Requirement already satisfied: keras-preprocessing<1.2,>=1.1.1 in /usr/local/lib/python3.6/dist-packages (from tf-nightly) (1.1.2)\n",
            "Requirement already satisfied: wrapt>=1.11.1 in /usr/local/lib/python3.6/dist-packages (from tf-nightly) (1.12.1)\n",
            "Requirement already satisfied: astunparse==1.6.3 in /usr/local/lib/python3.6/dist-packages (from tf-nightly) (1.6.3)\n",
            "Requirement already satisfied: protobuf>=3.9.2 in /usr/local/lib/python3.6/dist-packages (from tf-nightly) (3.10.0)\n",
            "Requirement already satisfied: opt-einsum>=2.3.2 in /usr/local/lib/python3.6/dist-packages (from tf-nightly) (3.2.1)\n",
            "Requirement already satisfied: absl-py>=0.7.0 in /usr/local/lib/python3.6/dist-packages (from tf-nightly) (0.9.0)\n",
            "Requirement already satisfied: markdown>=2.6.8 in /usr/local/lib/python3.6/dist-packages (from tb-nightly<2.4.0a0,>=2.3.0a0->tf-nightly) (3.2.2)\n",
            "Requirement already satisfied: tensorboard-plugin-wit>=1.6.0 in /usr/local/lib/python3.6/dist-packages (from tb-nightly<2.4.0a0,>=2.3.0a0->tf-nightly) (1.6.0.post3)\n",
            "Requirement already satisfied: setuptools>=41.0.0 in /usr/local/lib/python3.6/dist-packages (from tb-nightly<2.4.0a0,>=2.3.0a0->tf-nightly) (47.1.1)\n",
            "Requirement already satisfied: werkzeug>=0.11.15 in /usr/local/lib/python3.6/dist-packages (from tb-nightly<2.4.0a0,>=2.3.0a0->tf-nightly) (1.0.1)\n",
            "Requirement already satisfied: google-auth<2,>=1.6.3 in /usr/local/lib/python3.6/dist-packages (from tb-nightly<2.4.0a0,>=2.3.0a0->tf-nightly) (1.7.2)\n",
            "Requirement already satisfied: requests<3,>=2.21.0 in /usr/local/lib/python3.6/dist-packages (from tb-nightly<2.4.0a0,>=2.3.0a0->tf-nightly) (2.23.0)\n",
            "Requirement already satisfied: google-auth-oauthlib<0.5,>=0.4.1 in /usr/local/lib/python3.6/dist-packages (from tb-nightly<2.4.0a0,>=2.3.0a0->tf-nightly) (0.4.1)\n",
            "Requirement already satisfied: importlib-metadata; python_version < \"3.8\" in /usr/local/lib/python3.6/dist-packages (from markdown>=2.6.8->tb-nightly<2.4.0a0,>=2.3.0a0->tf-nightly) (1.6.0)\n",
            "Requirement already satisfied: pyasn1-modules>=0.2.1 in /usr/local/lib/python3.6/dist-packages (from google-auth<2,>=1.6.3->tb-nightly<2.4.0a0,>=2.3.0a0->tf-nightly) (0.2.8)\n",
            "Requirement already satisfied: cachetools<3.2,>=2.0.0 in /usr/local/lib/python3.6/dist-packages (from google-auth<2,>=1.6.3->tb-nightly<2.4.0a0,>=2.3.0a0->tf-nightly) (3.1.1)\n",
            "Requirement already satisfied: rsa<4.1,>=3.1.4 in /usr/local/lib/python3.6/dist-packages (from google-auth<2,>=1.6.3->tb-nightly<2.4.0a0,>=2.3.0a0->tf-nightly) (4.0)\n",
            "Requirement already satisfied: idna<3,>=2.5 in /usr/local/lib/python3.6/dist-packages (from requests<3,>=2.21.0->tb-nightly<2.4.0a0,>=2.3.0a0->tf-nightly) (2.9)\n",
            "Requirement already satisfied: chardet<4,>=3.0.2 in /usr/local/lib/python3.6/dist-packages (from requests<3,>=2.21.0->tb-nightly<2.4.0a0,>=2.3.0a0->tf-nightly) (3.0.4)\n",
            "Requirement already satisfied: urllib3!=1.25.0,!=1.25.1,<1.26,>=1.21.1 in /usr/local/lib/python3.6/dist-packages (from requests<3,>=2.21.0->tb-nightly<2.4.0a0,>=2.3.0a0->tf-nightly) (1.24.3)\n",
            "Requirement already satisfied: certifi>=2017.4.17 in /usr/local/lib/python3.6/dist-packages (from requests<3,>=2.21.0->tb-nightly<2.4.0a0,>=2.3.0a0->tf-nightly) (2020.4.5.1)\n",
            "Requirement already satisfied: requests-oauthlib>=0.7.0 in /usr/local/lib/python3.6/dist-packages (from google-auth-oauthlib<0.5,>=0.4.1->tb-nightly<2.4.0a0,>=2.3.0a0->tf-nightly) (1.3.0)\n",
            "Requirement already satisfied: zipp>=0.5 in /usr/local/lib/python3.6/dist-packages (from importlib-metadata; python_version < \"3.8\"->markdown>=2.6.8->tb-nightly<2.4.0a0,>=2.3.0a0->tf-nightly) (3.1.0)\n",
            "Requirement already satisfied: pyasn1<0.5.0,>=0.4.6 in /usr/local/lib/python3.6/dist-packages (from pyasn1-modules>=0.2.1->google-auth<2,>=1.6.3->tb-nightly<2.4.0a0,>=2.3.0a0->tf-nightly) (0.4.8)\n",
            "Requirement already satisfied: oauthlib>=3.0.0 in /usr/local/lib/python3.6/dist-packages (from requests-oauthlib>=0.7.0->google-auth-oauthlib<0.5,>=0.4.1->tb-nightly<2.4.0a0,>=2.3.0a0->tf-nightly) (3.1.0)\n",
            "Installing collected packages: tb-nightly\n",
            "Successfully installed tb-nightly-2.3.0a20200613\n"
          ],
          "name": "stdout"
        },
        {
          "output_type": "display_data",
          "data": {
            "application/vnd.colab-display-data+json": {
              "pip_warning": {
                "packages": [
                  "tensorboard"
                ]
              }
            }
          },
          "metadata": {
            "tags": []
          }
        },
        {
          "output_type": "stream",
          "text": [
            "The tensorboard extension is already loaded. To reload it, use:\n",
            "  %reload_ext tensorboard\n"
          ],
          "name": "stdout"
        }
      ]
    },
    {
      "cell_type": "code",
      "metadata": {
        "id": "yolDZQEgYMWA",
        "colab_type": "code",
        "outputId": "18b2ba99-350d-424c-f64d-0273ca41faf8",
        "colab": {
          "base_uri": "https://localhost:8080/",
          "height": 34
        }
      },
      "source": [
        "print(tf.__version__)"
      ],
      "execution_count": 122,
      "outputs": [
        {
          "output_type": "stream",
          "text": [
            "2.3.0-dev20200613\n"
          ],
          "name": "stdout"
        }
      ]
    },
    {
      "cell_type": "code",
      "metadata": {
        "id": "R76-qYnOZR5t",
        "colab_type": "code",
        "outputId": "86a5892a-b93e-4940-8111-4d8299263c74",
        "colab": {
          "base_uri": "https://localhost:8080/",
          "height": 51
        }
      },
      "source": [
        "import pkg_resources\n",
        "\n",
        "for entry_point in pkg_resources.iter_entry_points('tensorboard_plugins'):\n",
        "  print(entry_point.dist)"
      ],
      "execution_count": 123,
      "outputs": [
        {
          "output_type": "stream",
          "text": [
            "tensorboard 2.2.2\n",
            "tensorboard-plugin-wit 1.6.0.post3\n"
          ],
          "name": "stdout"
        }
      ]
    },
    {
      "cell_type": "code",
      "metadata": {
        "id": "d1VuQ8DNZvSV",
        "colab_type": "code",
        "colab": {
          "base_uri": "https://localhost:8080/",
          "height": 34
        },
        "outputId": "ba9092da-eafb-48bf-a8ca-562e84c3210f"
      },
      "source": [
        "!rm -r /usr/local/lib/python3.6/dist-packages/tensorboardcolab-0.0.22.dist-info"
      ],
      "execution_count": 124,
      "outputs": [
        {
          "output_type": "stream",
          "text": [
            "rm: cannot remove '/usr/local/lib/python3.6/dist-packages/tensorboardcolab-0.0.22.dist-info': No such file or directory\n"
          ],
          "name": "stdout"
        }
      ]
    },
    {
      "cell_type": "code",
      "metadata": {
        "id": "pwFWsM6waXw_",
        "colab_type": "code",
        "colab": {}
      },
      "source": [
        "import tensorflow_datasets as tfds"
      ],
      "execution_count": 0,
      "outputs": []
    },
    {
      "cell_type": "code",
      "metadata": {
        "id": "3sHdt4Qaa2gV",
        "colab_type": "code",
        "colab": {}
      },
      "source": [
        "dataset, info = tfds.load('amazon_us_reviews/Mobile_Electronics_v1_00', with_info=True)\n",
        "train_dataset  = dataset['train']"
      ],
      "execution_count": 0,
      "outputs": []
    },
    {
      "cell_type": "code",
      "metadata": {
        "id": "gpf2bfrscde1",
        "colab_type": "code",
        "outputId": "c6cd7c0b-5523-438d-da5f-c73b6e297b1b",
        "colab": {
          "base_uri": "https://localhost:8080/",
          "height": 955
        }
      },
      "source": [
        "info"
      ],
      "execution_count": 127,
      "outputs": [
        {
          "output_type": "execute_result",
          "data": {
            "text/plain": [
              "tfds.core.DatasetInfo(\n",
              "    name='amazon_us_reviews',\n",
              "    version=0.1.0,\n",
              "    description='Amazon Customer Reviews (a.k.a. Product Reviews) is one of Amazons iconic products. In a period of over two decades since the first review in 1995, millions of Amazon customers have contributed over a hundred million reviews to express opinions and describe their experiences regarding products on the Amazon.com website. This makes Amazon Customer Reviews a rich source of information for academic researchers in the fields of Natural Language Processing (NLP), Information Retrieval (IR), and Machine Learning (ML), amongst others. Accordingly, we are releasing this data to further research in multiple disciplines related to understanding customer product experiences. Specifically, this dataset was constructed to represent a sample of customer evaluations and opinions, variation in the perception of a product across geographical regions, and promotional intent or bias in reviews.\n",
              "\n",
              "Over 130+ million customer reviews are available to researchers as part of this release. The data is available in TSV files in the amazon-reviews-pds S3 bucket in AWS US East Region. Each line in the data files corresponds to an individual review (tab delimited, with no quote and escape characters).\n",
              "\n",
              "Each Dataset contains the following columns : \n",
              "  marketplace       - 2 letter country code of the marketplace where the review was written.\n",
              "  customer_id       - Random identifier that can be used to aggregate reviews written by a single author.\n",
              "  review_id         - The unique ID of the review.\n",
              "  product_id        - The unique Product ID the review pertains to. In the multilingual dataset the reviews\n",
              "                      for the same product in different countries can be grouped by the same product_id.\n",
              "  product_parent    - Random identifier that can be used to aggregate reviews for the same product.\n",
              "  product_title     - Title of the product.\n",
              "  product_category  - Broad product category that can be used to group reviews \n",
              "                      (also used to group the dataset into coherent parts).\n",
              "  star_rating       - The 1-5 star rating of the review.\n",
              "  helpful_votes     - Number of helpful votes.\n",
              "  total_votes       - Number of total votes the review received.\n",
              "  vine              - Review was written as part of the Vine program.\n",
              "  verified_purchase - The review is on a verified purchase.\n",
              "  review_headline   - The title of the review.\n",
              "  review_body       - The review text.\n",
              "  review_date       - The date the review was written.\n",
              "',\n",
              "    homepage='https://s3.amazonaws.com/amazon-reviews-pds/readme.html',\n",
              "    features=FeaturesDict({\n",
              "        'data': FeaturesDict({\n",
              "            'customer_id': tf.string,\n",
              "            'helpful_votes': tf.int32,\n",
              "            'marketplace': tf.string,\n",
              "            'product_category': tf.string,\n",
              "            'product_id': tf.string,\n",
              "            'product_parent': tf.string,\n",
              "            'product_title': tf.string,\n",
              "            'review_body': tf.string,\n",
              "            'review_date': tf.string,\n",
              "            'review_headline': tf.string,\n",
              "            'review_id': tf.string,\n",
              "            'star_rating': tf.int32,\n",
              "            'total_votes': tf.int32,\n",
              "            'verified_purchase': ClassLabel(shape=(), dtype=tf.int64, num_classes=2),\n",
              "            'vine': ClassLabel(shape=(), dtype=tf.int64, num_classes=2),\n",
              "        }),\n",
              "    }),\n",
              "    total_num_examples=104975,\n",
              "    splits={\n",
              "        'train': 104975,\n",
              "    },\n",
              "    supervised_keys=None,\n",
              "    citation=\"\"\"\"\"\",\n",
              "    redistribution_info=,\n",
              ")"
            ]
          },
          "metadata": {
            "tags": []
          },
          "execution_count": 127
        }
      ]
    },
    {
      "cell_type": "code",
      "metadata": {
        "id": "S6gkeLJcdbGb",
        "colab_type": "code",
        "outputId": "bed97695-afed-42f5-ff12-f5dc178f6f7e",
        "colab": {
          "base_uri": "https://localhost:8080/",
          "height": 54
        }
      },
      "source": [
        "print(train_dataset)"
      ],
      "execution_count": 128,
      "outputs": [
        {
          "output_type": "stream",
          "text": [
            "<DatasetV1Adapter shapes: {data: {customer_id: (), helpful_votes: (), marketplace: (), product_category: (), product_id: (), product_parent: (), product_title: (), review_body: (), review_date: (), review_headline: (), review_id: (), star_rating: (), total_votes: (), verified_purchase: (), vine: ()}}, types: {data: {customer_id: tf.string, helpful_votes: tf.int32, marketplace: tf.string, product_category: tf.string, product_id: tf.string, product_parent: tf.string, product_title: tf.string, review_body: tf.string, review_date: tf.string, review_headline: tf.string, review_id: tf.string, star_rating: tf.int32, total_votes: tf.int32, verified_purchase: tf.int64, vine: tf.int64}}>\n"
          ],
          "name": "stdout"
        }
      ]
    },
    {
      "cell_type": "code",
      "metadata": {
        "id": "CW87HYAjdq3C",
        "colab_type": "code",
        "outputId": "695c5e12-85ec-4547-f193-2f8d880f0764",
        "colab": {
          "base_uri": "https://localhost:8080/",
          "height": 34
        }
      },
      "source": [
        "len(list(train_dataset))"
      ],
      "execution_count": 129,
      "outputs": [
        {
          "output_type": "execute_result",
          "data": {
            "text/plain": [
              "104975"
            ]
          },
          "metadata": {
            "tags": []
          },
          "execution_count": 129
        }
      ]
    },
    {
      "cell_type": "code",
      "metadata": {
        "id": "QWk5kWWzdySG",
        "colab_type": "code",
        "colab": {}
      },
      "source": [
        "BUFFER_SIZE=3000\n",
        "BATCH_SIZE=128 #using mini-batch GD"
      ],
      "execution_count": 0,
      "outputs": []
    },
    {
      "cell_type": "code",
      "metadata": {
        "id": "xFvZ0GrfeDna",
        "colab_type": "code",
        "colab": {}
      },
      "source": [
        "train_dataset = train_dataset.shuffle(BUFFER_SIZE, reshuffle_each_iteration=False)"
      ],
      "execution_count": 0,
      "outputs": []
    },
    {
      "cell_type": "code",
      "metadata": {
        "id": "zHZpC6SRePZ7",
        "colab_type": "code",
        "outputId": "d30b6d96-9a06-4337-cbde-377c47fca0bb",
        "colab": {
          "base_uri": "https://localhost:8080/",
          "height": 71
        }
      },
      "source": [
        "for reviews in train_dataset.take(2):\n",
        "    print(reviews)"
      ],
      "execution_count": 132,
      "outputs": [
        {
          "output_type": "stream",
          "text": [
            "{'data': {'customer_id': <tf.Tensor: shape=(), dtype=string, numpy=b'13113064'>, 'helpful_votes': <tf.Tensor: shape=(), dtype=int32, numpy=0>, 'marketplace': <tf.Tensor: shape=(), dtype=string, numpy=b'US'>, 'product_category': <tf.Tensor: shape=(), dtype=string, numpy=b'Mobile_Electronics'>, 'product_id': <tf.Tensor: shape=(), dtype=string, numpy=b'B00O4D5GPS'>, 'product_parent': <tf.Tensor: shape=(), dtype=string, numpy=b'844349050'>, 'product_title': <tf.Tensor: shape=(), dtype=string, numpy=b'Sony ICFCS15IP 30-Pin iPod/iPhone Speaker Dock (Black) (Discontinued by Manufacturer) (Certified Refurbished)'>, 'review_body': <tf.Tensor: shape=(), dtype=string, numpy=b'I purchased this dock for my 11 year old daughters to charge her ipod. She loved the slim design because it fits on her small shelf. She also loves the sound and volume as well as dual alarms, one for school and one for sports.<br />Thank you'>, 'review_date': <tf.Tensor: shape=(), dtype=string, numpy=b'2015-04-27'>, 'review_headline': <tf.Tensor: shape=(), dtype=string, numpy=b'Love this dock'>, 'review_id': <tf.Tensor: shape=(), dtype=string, numpy=b'RQJSE0GJS61GZ'>, 'star_rating': <tf.Tensor: shape=(), dtype=int32, numpy=5>, 'total_votes': <tf.Tensor: shape=(), dtype=int32, numpy=0>, 'verified_purchase': <tf.Tensor: shape=(), dtype=int64, numpy=0>, 'vine': <tf.Tensor: shape=(), dtype=int64, numpy=1>}}\n",
            "{'data': {'customer_id': <tf.Tensor: shape=(), dtype=string, numpy=b'43540981'>, 'helpful_votes': <tf.Tensor: shape=(), dtype=int32, numpy=1>, 'marketplace': <tf.Tensor: shape=(), dtype=string, numpy=b'US'>, 'product_category': <tf.Tensor: shape=(), dtype=string, numpy=b'Mobile_Electronics'>, 'product_id': <tf.Tensor: shape=(), dtype=string, numpy=b'B00LAG4HN4'>, 'product_parent': <tf.Tensor: shape=(), dtype=string, numpy=b'536367292'>, 'product_title': <tf.Tensor: shape=(), dtype=string, numpy=b'iXCC Element II Lightning Cable 6ft, iPhone Charger, for iPhone 7 6s 6 Plus, SE 5s 5c 5, iPad Air 2 Pro, iPad mini 2 3 4, iPad 4th Gen [Apple MFi Certified](White and Black)'>, 'review_body': <tf.Tensor: shape=(), dtype=string, numpy=b'Ordered multiples of these months ago in case they break like every other iPhone charger and not one has broke nor does it have problems or show wear and tear'>, 'review_date': <tf.Tensor: shape=(), dtype=string, numpy=b'2015-08-18'>, 'review_headline': <tf.Tensor: shape=(), dtype=string, numpy=b'Reliable'>, 'review_id': <tf.Tensor: shape=(), dtype=string, numpy=b'RMS52HZ9XXF6T'>, 'star_rating': <tf.Tensor: shape=(), dtype=int32, numpy=5>, 'total_votes': <tf.Tensor: shape=(), dtype=int32, numpy=1>, 'verified_purchase': <tf.Tensor: shape=(), dtype=int64, numpy=0>, 'vine': <tf.Tensor: shape=(), dtype=int64, numpy=1>}}\n"
          ],
          "name": "stdout"
        }
      ]
    },
    {
      "cell_type": "code",
      "metadata": {
        "id": "nxNh5pQAfJ4M",
        "colab_type": "code",
        "outputId": "b7c859cd-9357-4e71-d562-9e66c69c5933",
        "colab": {
          "base_uri": "https://localhost:8080/",
          "height": 292
        }
      },
      "source": [
        "for reviews in train_dataset.take(5):\n",
        "    review_text=reviews['data']\n",
        "    print(review_text.get('review_body').numpy())\n",
        "    print(review_text.get('star_rating'))\n",
        "    print(tf.where(review_text.get('star_rating')>3,1,0).numpy())"
      ],
      "execution_count": 133,
      "outputs": [
        {
          "output_type": "stream",
          "text": [
            "b'I purchased this dock for my 11 year old daughters to charge her ipod. She loved the slim design because it fits on her small shelf. She also loves the sound and volume as well as dual alarms, one for school and one for sports.<br />Thank you'\n",
            "tf.Tensor(5, shape=(), dtype=int32)\n",
            "1\n",
            "b'Ordered multiples of these months ago in case they break like every other iPhone charger and not one has broke nor does it have problems or show wear and tear'\n",
            "tf.Tensor(5, shape=(), dtype=int32)\n",
            "1\n",
            "b'All I needed was a small step ladder and a screw driver.<br />Four east steps:<br />1 Screw it to the ceiling.<br />2 Plug it in.<br />3 Park you car in the desired spot.<br />4 Chose a specific spot on the vehicle you can see from the drivers seat and aim the laser to it.<br />I actually used it to mark two different cars in the same parking bay.<br />Just make sure you have an available outlet to plug it into.<br />They make a surge protector that is rectangular and has six outlets on it that plugs right into a duel outlet.<br />It is about one inch thick and about three and a half by five inches.(1&#34;x3.5&#34;x5&#34;)<br />They make some cheap ones you can get for less then a dollar.<br />I would recommend the ones that have a surge protector in them.'\n",
            "tf.Tensor(5, shape=(), dtype=int32)\n",
            "1\n",
            "b'Gave this to my son for Christmas. Today, mid July, it stopped working. Less than 7 months for $15.'\n",
            "tf.Tensor(2, shape=(), dtype=int32)\n",
            "0\n",
            "b'My grandson loves the clear crystal case. It not only protects the iPod Touch, but all the features are still accessible - including the charger.     The price was great also!'\n",
            "tf.Tensor(5, shape=(), dtype=int32)\n",
            "1\n"
          ],
          "name": "stdout"
        }
      ]
    },
    {
      "cell_type": "code",
      "metadata": {
        "id": "inmGV51Kfkus",
        "colab_type": "code",
        "colab": {}
      },
      "source": [
        "tokenizer = tfds.features.text.Tokenizer()"
      ],
      "execution_count": 0,
      "outputs": []
    },
    {
      "cell_type": "code",
      "metadata": {
        "id": "T4CLhZRLgcHG",
        "colab_type": "code",
        "outputId": "e3653450-d570-486b-ad18-5a12f5b45a6c",
        "colab": {
          "base_uri": "https://localhost:8080/",
          "height": 34
        }
      },
      "source": [
        "vocabulary_set = set() #set method removes all the duplicates\n",
        "for _,reviews in train_dataset.enumerate():\n",
        "    #printing reviews\n",
        "    review_text=reviews['data']\n",
        "    reviews_tokens=tokenizer.tokenize(review_text.get('review_body').numpy())\n",
        "    vocabulary_set.update(reviews_tokens)\n",
        "\n",
        "vocab_size = len(vocabulary_set)\n",
        "vocab_size"
      ],
      "execution_count": 135,
      "outputs": [
        {
          "output_type": "execute_result",
          "data": {
            "text/plain": [
              "73738"
            ]
          },
          "metadata": {
            "tags": []
          },
          "execution_count": 135
        }
      ]
    },
    {
      "cell_type": "code",
      "metadata": {
        "id": "RIuegBkunsoE",
        "colab_type": "code",
        "colab": {}
      },
      "source": [
        "encoder = tfds.features.text.TokenTextEncoder(vocabulary_set)"
      ],
      "execution_count": 0,
      "outputs": []
    },
    {
      "cell_type": "code",
      "metadata": {
        "id": "b3Fiw7qrpoc1",
        "colab_type": "code",
        "outputId": "68f818c0-c316-4f61-d255-55ab7f5b9ee9",
        "colab": {
          "base_uri": "https://localhost:8080/",
          "height": 34
        }
      },
      "source": [
        "# print(vocabulary_set)\n",
        "print(len(vocabulary_set))\n"
      ],
      "execution_count": 137,
      "outputs": [
        {
          "output_type": "stream",
          "text": [
            "73738\n"
          ],
          "name": "stdout"
        }
      ]
    },
    {
      "cell_type": "code",
      "metadata": {
        "id": "lyTU_vN1qLjK",
        "colab_type": "code",
        "outputId": "4cc0b83d-07f3-4188-ff2a-27d4241e6169",
        "colab": {
          "base_uri": "https://localhost:8080/",
          "height": 377
        }
      },
      "source": [
        "for reviews in train_dataset.take(5):\n",
        "    review_text=reviews['data']\n",
        "    print('\\n')\n",
        "    print(review_text.get('review_body').numpy())\n",
        "    encoded_example = encoder.encode(review_text.get('review_body').numpy())\n",
        "    print(encoded_example)"
      ],
      "execution_count": 138,
      "outputs": [
        {
          "output_type": "stream",
          "text": [
            "\n",
            "\n",
            "b'I purchased this dock for my 11 year old daughters to charge her ipod. She loved the slim design because it fits on her small shelf. She also loves the sound and volume as well as dual alarms, one for school and one for sports.<br />Thank you'\n",
            "[63498, 821, 19803, 653, 38245, 26644, 39983, 27312, 45790, 44634, 2501, 20944, 54274, 46261, 72043, 3605, 3813, 38803, 7837, 17655, 22102, 9599, 59922, 54274, 33648, 70992, 72043, 70423, 31975, 3813, 50661, 54291, 41314, 10672, 17748, 10672, 22918, 29137, 27249, 38245, 62368, 54291, 27249, 38245, 17366, 73559, 20671, 37899]\n",
            "\n",
            "\n",
            "b'Ordered multiples of these months ago in case they break like every other iPhone charger and not one has broke nor does it have problems or show wear and tear'\n",
            "[60711, 26646, 56758, 68197, 53242, 32280, 50348, 21188, 6029, 54152, 4078, 22910, 68059, 16407, 36408, 54291, 27302, 27249, 49922, 36150, 10901, 9079, 22102, 35942, 29956, 29309, 33363, 3286, 54291, 22416]\n",
            "\n",
            "\n",
            "b'All I needed was a small step ladder and a screw driver.<br />Four east steps:<br />1 Screw it to the ceiling.<br />2 Plug it in.<br />3 Park you car in the desired spot.<br />4 Chose a specific spot on the vehicle you can see from the drivers seat and aim the laser to it.<br />I actually used it to mark two different cars in the same parking bay.<br />Just make sure you have an available outlet to plug it into.<br />They make a surge protector that is rectangular and has six outlets on it that plugs right into a duel outlet.<br />It is about one inch thick and about three and a half by five inches.(1&#34;x3.5&#34;x5&#34;)<br />They make some cheap ones you can get for less then a dollar.<br />I would recommend the ones that have a surge protector in them.'\n",
            "[69641, 63498, 72447, 43276, 18057, 33648, 68858, 59684, 54291, 18057, 66349, 14060, 73559, 30366, 14467, 22770, 73559, 2821, 40203, 22102, 2501, 3813, 955, 73559, 24137, 63836, 22102, 50348, 73559, 66988, 58370, 37899, 38593, 50348, 3813, 43306, 4994, 73559, 6677, 57338, 18057, 68419, 4994, 59922, 3813, 45215, 37899, 64093, 50127, 10003, 3813, 26668, 39796, 54291, 19585, 3813, 34035, 2501, 22102, 73559, 63498, 34216, 2679, 22102, 2501, 66591, 14874, 36762, 40340, 50348, 3813, 9584, 47343, 40478, 73559, 8390, 50902, 50997, 37899, 35942, 27216, 35008, 1748, 2501, 48425, 22102, 27893, 73559, 66897, 50902, 18057, 23750, 31221, 8576, 32926, 45195, 54291, 49922, 13763, 4865, 59922, 22102, 8576, 2306, 33489, 27893, 18057, 69402, 1748, 73559, 1442, 32926, 57938, 27249, 53138, 67435, 54291, 57938, 59998, 54291, 18057, 69380, 13779, 68327, 59263, 2821, 73648, 35288, 6003, 73648, 33954, 73648, 73559, 66897, 50902, 8095, 18987, 24886, 37899, 64093, 24295, 38245, 62620, 51657, 18057, 72241, 73559, 63498, 27497, 26170, 3813, 24886, 8576, 35942, 18057, 23750, 31221, 50348, 45828]\n",
            "\n",
            "\n",
            "b'Gave this to my son for Christmas. Today, mid July, it stopped working. Less than 7 months for $15.'\n",
            "[4069, 19803, 2501, 26644, 68705, 38245, 25401, 26537, 8695, 43747, 22102, 34131, 52997, 14553, 68368, 72151, 53242, 38245, 44091]\n",
            "\n",
            "\n",
            "b'My grandson loves the clear crystal case. It not only protects the iPod Touch, but all the features are still accessible - including the charger.     The price was great also!'\n",
            "[4717, 35899, 31975, 3813, 38868, 20929, 21188, 1442, 27302, 21107, 6501, 3813, 14633, 48813, 72910, 59838, 3813, 25701, 71576, 19143, 908, 19979, 3813, 36408, 71104, 30917, 43276, 20431, 70423]\n"
          ],
          "name": "stdout"
        }
      ]
    },
    {
      "cell_type": "code",
      "metadata": {
        "id": "NsPru5B5r6ND",
        "colab_type": "code",
        "outputId": "350036b7-8e49-4f0c-caa7-93ef802fe237",
        "colab": {
          "base_uri": "https://localhost:8080/",
          "height": 510
        }
      },
      "source": [
        "for index in encoded_example:\n",
        "    print('{} ---- {}'.format(index, encoder.decode([index])))"
      ],
      "execution_count": 139,
      "outputs": [
        {
          "output_type": "stream",
          "text": [
            "4717 ---- My\n",
            "35899 ---- grandson\n",
            "31975 ---- loves\n",
            "3813 ---- the\n",
            "38868 ---- clear\n",
            "20929 ---- crystal\n",
            "21188 ---- case\n",
            "1442 ---- It\n",
            "27302 ---- not\n",
            "21107 ---- only\n",
            "6501 ---- protects\n",
            "3813 ---- the\n",
            "14633 ---- iPod\n",
            "48813 ---- Touch\n",
            "72910 ---- but\n",
            "59838 ---- all\n",
            "3813 ---- the\n",
            "25701 ---- features\n",
            "71576 ---- are\n",
            "19143 ---- still\n",
            "908 ---- accessible\n",
            "19979 ---- including\n",
            "3813 ---- the\n",
            "36408 ---- charger\n",
            "71104 ---- The\n",
            "30917 ---- price\n",
            "43276 ---- was\n",
            "20431 ---- great\n",
            "70423 ---- also\n"
          ],
          "name": "stdout"
        }
      ]
    },
    {
      "cell_type": "code",
      "metadata": {
        "id": "fISVU1G3vgJz",
        "colab_type": "code",
        "colab": {}
      },
      "source": [
        "def encode(text_tensor, label_tensor):\n",
        "    encoded_text = encoder.encode(text_tensor.numpy())\n",
        "    label = tf.where(label_tensor>=3,1,0)\n",
        "    return encoded_text, label"
      ],
      "execution_count": 0,
      "outputs": []
    },
    {
      "cell_type": "code",
      "metadata": {
        "id": "02DaueivzYCH",
        "colab_type": "code",
        "colab": {}
      },
      "source": [
        "def encode_map_fn(tensor):\n",
        "    text = tensor['data'].get('review_body')\n",
        "    label= tensor['data'].get('star_rating')\n",
        "    \n",
        "    encoded_text, label = tf.py_function(encode,inp=[text,label],Tout=(tf.int64,tf.int32))\n",
        "    encoded_text.set_shape([None])\n",
        "    label.set_shape([])\n",
        "    \n",
        "    return encoded_text, label"
      ],
      "execution_count": 0,
      "outputs": []
    },
    {
      "cell_type": "code",
      "metadata": {
        "id": "eCyKPPIU3Itt",
        "colab_type": "code",
        "colab": {}
      },
      "source": [
        "ar_encoded_data = train_dataset.map(encode_map_fn)"
      ],
      "execution_count": 0,
      "outputs": []
    },
    {
      "cell_type": "code",
      "metadata": {
        "id": "hVMY0NRm3nEp",
        "colab_type": "code",
        "outputId": "cda2edae-dc7e-48ad-edee-38ee9e0453ed",
        "colab": {
          "base_uri": "https://localhost:8080/",
          "height": 204
        }
      },
      "source": [
        "for t0,t1 in ar_encoded_data.take(2):\n",
        "    print(t0)\n",
        "    print(t1)\n",
        "\n",
        "#here the encoded text and the label(0,1) will be printed"
      ],
      "execution_count": 143,
      "outputs": [
        {
          "output_type": "stream",
          "text": [
            "tf.Tensor(\n",
            "[63498   821 19803   653 38245 26644 39983 27312 45790 44634  2501 20944\n",
            " 54274 46261 72043  3605  3813 38803  7837 17655 22102  9599 59922 54274\n",
            " 33648 70992 72043 70423 31975  3813 50661 54291 41314 10672 17748 10672\n",
            " 22918 29137 27249 38245 62368 54291 27249 38245 17366 73559 20671 37899], shape=(48,), dtype=int64)\n",
            "tf.Tensor(1, shape=(), dtype=int32)\n",
            "tf.Tensor(\n",
            "[60711 26646 56758 68197 53242 32280 50348 21188  6029 54152  4078 22910\n",
            " 68059 16407 36408 54291 27302 27249 49922 36150 10901  9079 22102 35942\n",
            " 29956 29309 33363  3286 54291 22416], shape=(30,), dtype=int64)\n",
            "tf.Tensor(1, shape=(), dtype=int32)\n"
          ],
          "name": "stdout"
        }
      ]
    },
    {
      "cell_type": "code",
      "metadata": {
        "id": "7n31rlKq3yqW",
        "colab_type": "code",
        "colab": {}
      },
      "source": [
        "TAKE_SIZE = 10000 #for the test_data\n",
        "\n",
        "train_data = ar_encoded_data.skip(TAKE_SIZE).shuffle(BUFFER_SIZE)\n",
        "train_data = train_data.padded_batch(BATCH_SIZE) #take the maximum length in the batch data and padd others according to it\n",
        "\n",
        "test_data = ar_encoded_data.take(TAKE_SIZE)\n",
        "test_data = test_data.padded_batch(BATCH_SIZE) #in each batch padd with equal number of variables\n",
        "\n",
        "#newer versions will also take padded_shapes as an arguement \n",
        "#padded_batch(BATCH_SIZE,padded_shapes = ([None],()))"
      ],
      "execution_count": 0,
      "outputs": []
    },
    {
      "cell_type": "code",
      "metadata": {
        "id": "mG6Ns5JK55eH",
        "colab_type": "code",
        "colab": {}
      },
      "source": [
        "vocab_size += 1 #add for the padded number in the vocab which is num=0"
      ],
      "execution_count": 0,
      "outputs": []
    },
    {
      "cell_type": "code",
      "metadata": {
        "id": "0DUdsXk468f3",
        "colab_type": "code",
        "outputId": "1e12e718-aeb8-4ab8-f5d4-f0c58ed58167",
        "colab": {
          "base_uri": "https://localhost:8080/",
          "height": 408
        }
      },
      "source": [
        "sample_text , sample_labels = next(iter(test_data))\n",
        "\n",
        "sample_text[0], sample_labels[0]"
      ],
      "execution_count": 146,
      "outputs": [
        {
          "output_type": "execute_result",
          "data": {
            "text/plain": [
              "(<tf.Tensor: shape=(189,), dtype=int64, numpy=\n",
              " array([63498,   821, 19803,   653, 38245, 26644, 39983, 27312, 45790,\n",
              "        44634,  2501, 20944, 54274, 46261, 72043,  3605,  3813, 38803,\n",
              "         7837, 17655, 22102,  9599, 59922, 54274, 33648, 70992, 72043,\n",
              "        70423, 31975,  3813, 50661, 54291, 41314, 10672, 17748, 10672,\n",
              "        22918, 29137, 27249, 38245, 62368, 54291, 27249, 38245, 17366,\n",
              "        73559, 20671, 37899,     0,     0,     0,     0,     0,     0,\n",
              "            0,     0,     0,     0,     0,     0,     0,     0,     0,\n",
              "            0,     0,     0,     0,     0,     0,     0,     0,     0,\n",
              "            0,     0,     0,     0,     0,     0,     0,     0,     0,\n",
              "            0,     0,     0,     0,     0,     0,     0,     0,     0,\n",
              "            0,     0,     0,     0,     0,     0,     0,     0,     0,\n",
              "            0,     0,     0,     0,     0,     0,     0,     0,     0,\n",
              "            0,     0,     0,     0,     0,     0,     0,     0,     0,\n",
              "            0,     0,     0,     0,     0,     0,     0,     0,     0,\n",
              "            0,     0,     0,     0,     0,     0,     0,     0,     0,\n",
              "            0,     0,     0,     0,     0,     0,     0,     0,     0,\n",
              "            0,     0,     0,     0,     0,     0,     0,     0,     0,\n",
              "            0,     0,     0,     0,     0,     0,     0,     0,     0,\n",
              "            0,     0,     0,     0,     0,     0,     0,     0,     0,\n",
              "            0,     0,     0,     0,     0,     0,     0,     0,     0,\n",
              "            0,     0,     0,     0,     0,     0,     0,     0,     0])>,\n",
              " <tf.Tensor: shape=(), dtype=int32, numpy=1>)"
            ]
          },
          "metadata": {
            "tags": []
          },
          "execution_count": 146
        }
      ]
    },
    {
      "cell_type": "code",
      "metadata": {
        "id": "FmflOjpD7JWw",
        "colab_type": "code",
        "outputId": "f7143e51-7efd-489b-b121-e872d9b6f513",
        "colab": {
          "base_uri": "https://localhost:8080/",
          "height": 187
        }
      },
      "source": [
        "for f0,f1 in test_data.take(10):\n",
        "    print(tf.unique_with_counts(f1)[2].numpy()) #unique_with_counts has much info(0,1,2) here we are just taking the second index info and number to print the value\n",
        "\n",
        "\n",
        "# shows the no of sentiments in batch [1(+ve),0(-ve)]"
      ],
      "execution_count": 147,
      "outputs": [
        {
          "output_type": "stream",
          "text": [
            "[95 33]\n",
            "[35 93]\n",
            "[34 94]\n",
            "[97 31]\n",
            "[ 27 101]\n",
            "[33 95]\n",
            "[102  26]\n",
            "[83 45]\n",
            "[106  22]\n",
            "[ 22 106]\n"
          ],
          "name": "stdout"
        }
      ]
    },
    {
      "cell_type": "code",
      "metadata": {
        "id": "jRuXt_9r8coZ",
        "colab_type": "code",
        "colab": {}
      },
      "source": [
        "model = tf.keras.Sequential()\n",
        "model.add(tf.keras.layers.Embedding(vocab_size, 128))\n",
        "model.add(tf.keras.layers.Bidirectional(tf.keras.layers.LSTM(128,return_sequences=True)))\n",
        "model.add(tf.keras.layers.Bidirectional(tf.keras.layers.LSTM(64, return_sequences=True)))\n",
        "model.add(tf.keras.layers.Bidirectional(tf.keras.layers.LSTM(64)))\n",
        "\n",
        "for units in [64,64]:\n",
        "    model.add(tf.keras.layers.Dense(units,activation=\"relu\"))\n",
        "    model.add(tf.keras.layers.Dropout(0.2))\n",
        "\n",
        "model.add(tf.keras.layers.Dense(1))"
      ],
      "execution_count": 0,
      "outputs": []
    },
    {
      "cell_type": "code",
      "metadata": {
        "id": "Fhtv4SYhAeZw",
        "colab_type": "code",
        "outputId": "3be96bb8-94ee-4f0e-af2e-c4414c756a11",
        "colab": {
          "base_uri": "https://localhost:8080/",
          "height": 34
        }
      },
      "source": [
        "!rm -r /tmp/logs/"
      ],
      "execution_count": 149,
      "outputs": [
        {
          "output_type": "stream",
          "text": [
            "rm: cannot remove '/tmp/logs/': No such file or directory\n"
          ],
          "name": "stdout"
        }
      ]
    },
    {
      "cell_type": "code",
      "metadata": {
        "id": "1aCLodgtAkcM",
        "colab_type": "code",
        "colab": {}
      },
      "source": [
        "import os\n",
        "import datetime\n",
        "\n",
        "logdir = os.path.join(\"/tmp/logs\", datetime.datetime.now().strftime(\"%Y%m%d-%H%M%S\"))\n",
        "tensorboard_callback = tf.keras.callbacks.TensorBoard(logdir,histogram_freq=1)\n",
        "checkpointer = tf.keras.callbacks.ModelCheckpoint(filepath=\"/tmp/sentiment_analysis.hdf5\",verbose=1,save_best_only=True)"
      ],
      "execution_count": 0,
      "outputs": []
    },
    {
      "cell_type": "code",
      "metadata": {
        "id": "umQ3LZRRDM10",
        "colab_type": "code",
        "colab": {}
      },
      "source": [
        "model.compile(optimizer=\"adam\",\n",
        "             loss=tf.keras.losses.BinaryCrossentropy(from_logits=True),\n",
        "             metrics=[\"accuracy\"])"
      ],
      "execution_count": 0,
      "outputs": []
    },
    {
      "cell_type": "code",
      "metadata": {
        "id": "_DoqsqzeDfhB",
        "colab_type": "code",
        "outputId": "e958b525-cbc7-4e50-a19e-844d11ded137",
        "colab": {
          "base_uri": "https://localhost:8080/",
          "height": 513
        }
      },
      "source": [
        "history = model.fit(train_data,epochs=5, validation_data=test_data,callbacks=[tensorboard_callback, checkpointer])"
      ],
      "execution_count": 152,
      "outputs": [
        {
          "output_type": "stream",
          "text": [
            "Epoch 1/5\n",
            "      1/Unknown - 0s 15ms/step - loss: 0.6934 - accuracy: 0.2734WARNING:tensorflow:From /usr/local/lib/python3.6/dist-packages/tensorflow/python/ops/summary_ops_v2.py:1277: stop (from tensorflow.python.eager.profiler) is deprecated and will be removed after 2020-07-01.\n",
            "Instructions for updating:\n",
            "use `tf.profiler.experimental.stop` instead.\n"
          ],
          "name": "stdout"
        },
        {
          "output_type": "stream",
          "text": [
            "WARNING:tensorflow:From /usr/local/lib/python3.6/dist-packages/tensorflow/python/ops/summary_ops_v2.py:1277: stop (from tensorflow.python.eager.profiler) is deprecated and will be removed after 2020-07-01.\n",
            "Instructions for updating:\n",
            "use `tf.profiler.experimental.stop` instead.\n"
          ],
          "name": "stderr"
        },
        {
          "output_type": "stream",
          "text": [
            "\b\b\b\b\b\b\b\b\b\b\b\b\b\b\b\b\b\b\b\b\b\b\b\b\b\b\b\b\b\b\b\b\b\b\b\b\b\b\b\b\b\b\b\b\b\b\b\b\b\b\b\b\b\b\b\b\b\b\b\b\b\b\b\b\r      2/Unknown - 1s 493ms/step - loss: 0.6835 - accuracy: 0.2227WARNING:tensorflow:Callbacks method `on_train_batch_end` is slow compared to the batch time (batch time: 0.3223s vs `on_train_batch_end` time: 0.6482s). Check your callbacks.\n"
          ],
          "name": "stdout"
        },
        {
          "output_type": "stream",
          "text": [
            "WARNING:tensorflow:Callbacks method `on_train_batch_end` is slow compared to the batch time (batch time: 0.3223s vs `on_train_batch_end` time: 0.6482s). Check your callbacks.\n"
          ],
          "name": "stderr"
        },
        {
          "output_type": "stream",
          "text": [
            "    742/Unknown - 269s 362ms/step - loss: 0.3035 - accuracy: 0.8637\n",
            "Epoch 00001: val_loss improved from inf to 0.24398, saving model to /tmp/sentiment_analysis.hdf5\n",
            "742/742 [==============================] - 287s 387ms/step - loss: 0.3035 - accuracy: 0.8637 - val_loss: 0.2440 - val_accuracy: 0.9037\n",
            "Epoch 2/5\n",
            "742/742 [==============================] - ETA: 0s - loss: 0.2156 - accuracy: 0.9134\n",
            "Epoch 00002: val_loss improved from 0.24398 to 0.23548, saving model to /tmp/sentiment_analysis.hdf5\n",
            "742/742 [==============================] - 285s 384ms/step - loss: 0.2156 - accuracy: 0.9134 - val_loss: 0.2355 - val_accuracy: 0.8992\n",
            "Epoch 3/5\n",
            "742/742 [==============================] - ETA: 0s - loss: 0.1586 - accuracy: 0.9372\n",
            "Epoch 00003: val_loss did not improve from 0.23548\n",
            "742/742 [==============================] - 286s 385ms/step - loss: 0.1586 - accuracy: 0.9372 - val_loss: 0.2412 - val_accuracy: 0.9054\n",
            "Epoch 4/5\n",
            "742/742 [==============================] - ETA: 0s - loss: 0.1223 - accuracy: 0.9534\n",
            "Epoch 00004: val_loss did not improve from 0.23548\n",
            "742/742 [==============================] - 284s 383ms/step - loss: 0.1223 - accuracy: 0.9534 - val_loss: 0.2600 - val_accuracy: 0.8909\n",
            "Epoch 5/5\n",
            "742/742 [==============================] - ETA: 0s - loss: 0.0988 - accuracy: 0.9634\n",
            "Epoch 00005: val_loss did not improve from 0.23548\n",
            "742/742 [==============================] - 286s 385ms/step - loss: 0.0988 - accuracy: 0.9634 - val_loss: 0.2752 - val_accuracy: 0.8956\n"
          ],
          "name": "stdout"
        }
      ]
    },
    {
      "cell_type": "code",
      "metadata": {
        "id": "zMN2DQHHI8ya",
        "colab_type": "code",
        "outputId": "fe1064d9-34f5-4a83-9397-13bda2388c57",
        "colab": {
          "base_uri": "https://localhost:8080/",
          "height": 34
        }
      },
      "source": [
        "from google.colab import drive\n",
        "drive.mount('/content/gdrive')"
      ],
      "execution_count": 153,
      "outputs": [
        {
          "output_type": "stream",
          "text": [
            "Drive already mounted at /content/gdrive; to attempt to forcibly remount, call drive.mount(\"/content/gdrive\", force_remount=True).\n"
          ],
          "name": "stdout"
        }
      ]
    },
    {
      "cell_type": "code",
      "metadata": {
        "id": "XRzT6cI4I8dq",
        "colab_type": "code",
        "colab": {}
      },
      "source": [
        "model.save(\"/content/gdrive/My Drive/Final_Sentiment_Analysis_Model.hdf5\")"
      ],
      "execution_count": 0,
      "outputs": []
    },
    {
      "cell_type": "code",
      "metadata": {
        "id": "8mxPqqeaFzc2",
        "colab_type": "code",
        "colab": {}
      },
      "source": [
        "model.save('/tmp/final_sentiment_analysis.hdf5')"
      ],
      "execution_count": 0,
      "outputs": []
    },
    {
      "cell_type": "code",
      "metadata": {
        "id": "3TozeZiNF0MH",
        "colab_type": "code",
        "outputId": "008f1364-ca49-4351-c727-688c8e9dfb34",
        "colab": {
          "base_uri": "https://localhost:8080/",
          "height": 51
        }
      },
      "source": [
        "!ls -alrt /tmp/*.hdf5"
      ],
      "execution_count": 156,
      "outputs": [
        {
          "output_type": "stream",
          "text": [
            "-rw-r--r-- 1 root root 119845096 Jun 14 05:25 /tmp/sentiment_analysis.hdf5\n",
            "-rw-r--r-- 1 root root 119845096 Jun 14 05:39 /tmp/final_sentiment_analysis.hdf5\n"
          ],
          "name": "stdout"
        }
      ]
    },
    {
      "cell_type": "code",
      "metadata": {
        "id": "5Vz43UH-F0YC",
        "colab_type": "code",
        "outputId": "fd25f5ab-320c-480d-f2b3-6f0250c4c2b0",
        "colab": {
          "base_uri": "https://localhost:8080/",
          "height": 68
        }
      },
      "source": [
        "eval_loss, eval_acc = model.evaluate(test_data)\n",
        "print('\\n Eval loss: {:.3f}, Eval accuracy: {:.3f}'.format(eval_loss, eval_acc))"
      ],
      "execution_count": 157,
      "outputs": [
        {
          "output_type": "stream",
          "text": [
            "79/79 [==============================] - 16s 206ms/step - loss: 0.2752 - accuracy: 0.8956\n",
            "\n",
            " Eval loss: 0.275, Eval accuracy: 0.896\n"
          ],
          "name": "stdout"
        }
      ]
    },
    {
      "cell_type": "code",
      "metadata": {
        "id": "81f3jCy3F0eV",
        "colab_type": "code",
        "outputId": "d4594721-563b-47ca-87db-39d1f3343ff4",
        "colab": {
          "base_uri": "https://localhost:8080/",
          "height": 1000
        }
      },
      "source": [
        "for t0,t1 in test_data.take(1):\n",
        "  print(t1)\n",
        "  print(model.predict(t0))\n"
      ],
      "execution_count": 158,
      "outputs": [
        {
          "output_type": "stream",
          "text": [
            "tf.Tensor(\n",
            "[1 1 1 0 1 0 1 0 1 1 0 1 0 1 1 1 0 1 1 1 0 0 1 0 1 0 0 1 0 0 1 0 1 1 1 1 1\n",
            " 1 0 0 1 1 1 1 1 0 1 1 1 1 0 1 0 1 1 1 0 1 0 1 0 1 1 1 0 1 1 1 1 1 1 1 1 1\n",
            " 1 1 1 1 1 1 1 1 1 1 0 1 1 1 1 0 1 1 1 1 1 0 0 1 0 1 1 1 1 0 1 1 1 1 1 1 1\n",
            " 1 1 1 1 1 1 1 0 1 1 0 1 1 0 1 0 1], shape=(128,), dtype=int32)\n",
            "[[ 6.9125366e+00]\n",
            " [-3.1645186e+00]\n",
            " [ 1.9859463e+00]\n",
            " [-2.1586421e+00]\n",
            " [ 7.6252060e+00]\n",
            " [-3.2670615e+00]\n",
            " [ 6.0594263e+00]\n",
            " [ 1.5079778e+00]\n",
            " [ 7.2347546e+00]\n",
            " [ 7.0641285e-01]\n",
            " [ 2.2817225e+00]\n",
            " [ 1.8986794e+00]\n",
            " [-4.7965503e+00]\n",
            " [ 4.9550314e+00]\n",
            " [ 2.0499859e+00]\n",
            " [ 4.1661997e+00]\n",
            " [-3.4070325e+00]\n",
            " [ 6.7914882e+00]\n",
            " [ 5.1444135e+00]\n",
            " [ 4.6980457e+00]\n",
            " [-5.8462793e-01]\n",
            " [-3.2802567e+00]\n",
            " [ 5.9078903e+00]\n",
            " [ 9.4229835e-01]\n",
            " [ 6.5498857e+00]\n",
            " [-4.5570173e+00]\n",
            " [ 1.8759025e+00]\n",
            " [ 3.7276034e+00]\n",
            " [ 1.7214513e+00]\n",
            " [ 5.3693705e+00]\n",
            " [ 2.6624222e+00]\n",
            " [ 4.8823886e+00]\n",
            " [ 7.7965307e+00]\n",
            " [ 6.7376156e+00]\n",
            " [ 4.5571308e+00]\n",
            " [ 4.2304406e-01]\n",
            " [ 3.0000541e-01]\n",
            " [ 5.1734300e+00]\n",
            " [ 5.3723793e+00]\n",
            " [-4.5716629e+00]\n",
            " [ 5.5436244e+00]\n",
            " [ 7.8330112e+00]\n",
            " [ 5.7421947e+00]\n",
            " [ 7.7570624e+00]\n",
            " [ 7.3464522e+00]\n",
            " [-3.9708195e+00]\n",
            " [ 5.1925001e+00]\n",
            " [ 7.8374872e+00]\n",
            " [ 7.6990867e+00]\n",
            " [ 6.3609509e+00]\n",
            " [-3.5129416e+00]\n",
            " [ 7.1320748e+00]\n",
            " [-5.6570892e+00]\n",
            " [ 5.3275166e+00]\n",
            " [ 6.9454660e+00]\n",
            " [ 2.0705397e+00]\n",
            " [-1.9888654e+00]\n",
            " [ 5.9884434e+00]\n",
            " [-6.7715430e-01]\n",
            " [ 7.4493251e+00]\n",
            " [-2.0706009e-03]\n",
            " [ 5.9159365e+00]\n",
            " [ 3.7142005e+00]\n",
            " [ 6.7798805e+00]\n",
            " [-3.6644602e-01]\n",
            " [ 6.3352294e+00]\n",
            " [ 6.7209511e+00]\n",
            " [ 5.9420724e+00]\n",
            " [ 3.6726251e+00]\n",
            " [-3.0806735e+00]\n",
            " [ 7.3297396e+00]\n",
            " [ 5.6778679e+00]\n",
            " [ 4.0494161e+00]\n",
            " [ 2.8450382e+00]\n",
            " [ 5.7897739e+00]\n",
            " [ 7.0864358e+00]\n",
            " [ 6.8058195e+00]\n",
            " [ 5.2718592e+00]\n",
            " [ 6.7985916e+00]\n",
            " [ 5.7053714e+00]\n",
            " [ 3.9957645e+00]\n",
            " [ 7.4236846e+00]\n",
            " [ 2.8879888e+00]\n",
            " [ 3.3175077e+00]\n",
            " [-3.3581469e+00]\n",
            " [ 2.5847406e+00]\n",
            " [ 9.9168903e-01]\n",
            " [ 2.5703583e+00]\n",
            " [-2.3612623e-01]\n",
            " [-1.9734883e+00]\n",
            " [ 5.9706054e+00]\n",
            " [ 6.0713925e+00]\n",
            " [ 7.4035645e+00]\n",
            " [ 5.2362275e+00]\n",
            " [ 4.8624458e+00]\n",
            " [-6.9975764e-01]\n",
            " [ 5.2985245e-01]\n",
            " [ 2.0957305e+00]\n",
            " [-2.7155498e-01]\n",
            " [ 6.6083298e+00]\n",
            " [ 5.5718908e+00]\n",
            " [ 4.9373550e+00]\n",
            " [ 3.9455531e+00]\n",
            " [-4.9483466e+00]\n",
            " [ 1.8932191e+00]\n",
            " [ 4.9761200e+00]\n",
            " [ 6.6371598e+00]\n",
            " [-1.4214109e-01]\n",
            " [ 6.0369325e+00]\n",
            " [ 7.6307106e+00]\n",
            " [ 5.8968306e+00]\n",
            " [ 7.1629910e+00]\n",
            " [ 6.3181124e+00]\n",
            " [ 6.9733448e+00]\n",
            " [-9.8459005e-01]\n",
            " [ 2.4821546e+00]\n",
            " [ 7.1174541e+00]\n",
            " [ 4.5620284e+00]\n",
            " [-3.1267545e+00]\n",
            " [ 4.8770595e+00]\n",
            " [ 3.0835774e+00]\n",
            " [-1.3684137e+00]\n",
            " [ 5.0376425e+00]\n",
            " [ 7.8585134e+00]\n",
            " [-5.8366332e+00]\n",
            " [ 1.0419053e+00]\n",
            " [-5.6482339e+00]\n",
            " [ 6.7036209e+00]]\n"
          ],
          "name": "stdout"
        }
      ]
    },
    {
      "cell_type": "code",
      "metadata": {
        "id": "plZtMZYHF0qA",
        "colab_type": "code",
        "outputId": "926568f1-4865-408e-c5a1-49f78fee23ed",
        "colab": {
          "base_uri": "https://localhost:8080/",
          "height": 170
        }
      },
      "source": [
        "model.layers"
      ],
      "execution_count": 159,
      "outputs": [
        {
          "output_type": "execute_result",
          "data": {
            "text/plain": [
              "[<tensorflow.python.keras.layers.embeddings.Embedding at 0x7f81c1176400>,\n",
              " <tensorflow.python.keras.layers.wrappers.Bidirectional at 0x7f81c37b3cf8>,\n",
              " <tensorflow.python.keras.layers.wrappers.Bidirectional at 0x7f81c162c2b0>,\n",
              " <tensorflow.python.keras.layers.wrappers.Bidirectional at 0x7f81c1a63dd8>,\n",
              " <tensorflow.python.keras.layers.core.Dense at 0x7f81c1a706a0>,\n",
              " <tensorflow.python.keras.layers.core.Dropout at 0x7f81c1a70b00>,\n",
              " <tensorflow.python.keras.layers.core.Dense at 0x7f81c153c208>,\n",
              " <tensorflow.python.keras.layers.core.Dropout at 0x7f81c3671198>,\n",
              " <tensorflow.python.keras.layers.core.Dense at 0x7f81c3676c88>]"
            ]
          },
          "metadata": {
            "tags": []
          },
          "execution_count": 159
        }
      ]
    },
    {
      "cell_type": "code",
      "metadata": {
        "id": "6jOVtIYIEYKN",
        "colab_type": "code",
        "outputId": "87b7563e-8423-45e7-f7c7-8c989bb1932d",
        "colab": {
          "base_uri": "https://localhost:8080/",
          "height": 459
        }
      },
      "source": [
        "model.summary()"
      ],
      "execution_count": 160,
      "outputs": [
        {
          "output_type": "stream",
          "text": [
            "Model: \"sequential\"\n",
            "_________________________________________________________________\n",
            "Layer (type)                 Output Shape              Param #   \n",
            "=================================================================\n",
            "embedding (Embedding)        (None, None, 128)         9438592   \n",
            "_________________________________________________________________\n",
            "bidirectional (Bidirectional (None, None, 256)         263168    \n",
            "_________________________________________________________________\n",
            "bidirectional_1 (Bidirection (None, None, 128)         164352    \n",
            "_________________________________________________________________\n",
            "bidirectional_2 (Bidirection (None, 128)               98816     \n",
            "_________________________________________________________________\n",
            "dense (Dense)                (None, 64)                8256      \n",
            "_________________________________________________________________\n",
            "dropout (Dropout)            (None, 64)                0         \n",
            "_________________________________________________________________\n",
            "dense_1 (Dense)              (None, 64)                4160      \n",
            "_________________________________________________________________\n",
            "dropout_1 (Dropout)          (None, 64)                0         \n",
            "_________________________________________________________________\n",
            "dense_2 (Dense)              (None, 1)                 65        \n",
            "=================================================================\n",
            "Total params: 9,977,409\n",
            "Trainable params: 9,977,409\n",
            "Non-trainable params: 0\n",
            "_________________________________________________________________\n"
          ],
          "name": "stdout"
        }
      ]
    },
    {
      "cell_type": "code",
      "metadata": {
        "id": "JN02FwLJHlPS",
        "colab_type": "code",
        "colab": {}
      },
      "source": [
        "#model.get_layer('embedding').output"
      ],
      "execution_count": 0,
      "outputs": []
    },
    {
      "cell_type": "code",
      "metadata": {
        "id": "ulyhhFvtHk10",
        "colab_type": "code",
        "outputId": "87fb40a0-1830-40de-adcb-2d7528b11a7a",
        "colab": {
          "base_uri": "https://localhost:8080/",
          "height": 357
        }
      },
      "source": [
        "!nvidia-smi"
      ],
      "execution_count": 162,
      "outputs": [
        {
          "output_type": "stream",
          "text": [
            "Sun Jun 14 05:40:29 2020       \n",
            "+-----------------------------------------------------------------------------+\n",
            "| NVIDIA-SMI 450.36.06    Driver Version: 418.67       CUDA Version: 10.1     |\n",
            "|-------------------------------+----------------------+----------------------+\n",
            "| GPU  Name        Persistence-M| Bus-Id        Disp.A | Volatile Uncorr. ECC |\n",
            "| Fan  Temp  Perf  Pwr:Usage/Cap|         Memory-Usage | GPU-Util  Compute M. |\n",
            "|                               |                      |               MIG M. |\n",
            "|===============================+======================+======================|\n",
            "|   0  Tesla P100-PCIE...  Off  | 00000000:00:04.0 Off |                    0 |\n",
            "| N/A   52C    P0    53W / 250W |   8801MiB / 16280MiB |      0%      Default |\n",
            "|                               |                      |                 ERR! |\n",
            "+-------------------------------+----------------------+----------------------+\n",
            "                                                                               \n",
            "+-----------------------------------------------------------------------------+\n",
            "| Processes:                                                                  |\n",
            "|  GPU   GI   CI        PID   Type   Process name                  GPU Memory |\n",
            "|        ID   ID                                                   Usage      |\n",
            "|=============================================================================|\n",
            "|  No running processes found                                                 |\n",
            "+-----------------------------------------------------------------------------+\n"
          ],
          "name": "stdout"
        }
      ]
    },
    {
      "cell_type": "code",
      "metadata": {
        "id": "VEpJgvGvHvGj",
        "colab_type": "code",
        "colab": {}
      },
      "source": [
        "import matplotlib.pyplot as plt\n",
        "\n",
        "def plot_graph(history, metric):\n",
        "  plt.plot(history.history[metric])\n",
        "  plt.plot(history.history['val_'+metric], \"\")\n",
        "  plt.xlabel(\"Epochs\")\n",
        "  plt.ylabel(metric)\n",
        "  plt.legend([metric, 'val_'+metric])\n",
        "  plt.show()\n"
      ],
      "execution_count": 0,
      "outputs": []
    },
    {
      "cell_type": "code",
      "metadata": {
        "id": "RauQi-y6I4cV",
        "colab_type": "code",
        "outputId": "533a96f1-9122-4df9-9fcc-eb6d5b39d715",
        "colab": {
          "base_uri": "https://localhost:8080/",
          "height": 279
        }
      },
      "source": [
        "plot_graph(history,\"accuracy\")"
      ],
      "execution_count": 164,
      "outputs": [
        {
          "output_type": "display_data",
          "data": {
            "image/png": "[encoded data removed]",
            "text/plain": [
              "<Figure size 432x288 with 1 Axes>"
            ]
          },
          "metadata": {
            "tags": [],
            "needs_background": "light"
          }
        }
      ]
    },
    {
      "cell_type": "code",
      "metadata": {
        "id": "dz1d8JWpI4GQ",
        "colab_type": "code",
        "outputId": "76d5d34d-c4e4-428f-8adb-a68ad5f5f4e7",
        "colab": {
          "base_uri": "https://localhost:8080/",
          "height": 279
        }
      },
      "source": [
        "plot_graph(history,\"loss\")"
      ],
      "execution_count": 165,
      "outputs": [
        {
          "output_type": "display_data",
          "data": {
            "image/png": "[encoded data removed]",
            "text/plain": [
              "<Figure size 432x288 with 1 Axes>"
            ]
          },
          "metadata": {
            "tags": [],
            "needs_background": "light"
          }
        }
      ]
    },
    {
      "cell_type": "code",
      "metadata": {
        "id": "j51bIPw6JChP",
        "colab_type": "code",
        "colab": {}
      },
      "source": [
        "#tf.keras.backend.clear_session()\n",
        "sa_load = tf.keras.models.load_model('/tmp/final_sentiment_analysis.hdf5',compile=False)"
      ],
      "execution_count": 0,
      "outputs": []
    },
    {
      "cell_type": "code",
      "metadata": {
        "id": "0IJu5dFS0Ywu",
        "colab_type": "code",
        "colab": {}
      },
      "source": [
        "# from google.colab import drive\n",
        "# drive.mount('/content/gdrive')"
      ],
      "execution_count": 0,
      "outputs": []
    },
    {
      "cell_type": "code",
      "metadata": {
        "id": "j4U-uD4myzf8",
        "colab_type": "code",
        "colab": {}
      },
      "source": [
        "# sa_load = tf.keras.models.load_model('/content/gdrive/My Drive/Final_Sentiment_Analysis.hdf5',compile=False)"
      ],
      "execution_count": 0,
      "outputs": []
    },
    {
      "cell_type": "code",
      "metadata": {
        "id": "aNPTXtT1aSSQ",
        "colab_type": "code",
        "colab": {}
      },
      "source": [
        "import pandas as pd\n",
        "import numpy as np\n",
        "import seaborn as sns"
      ],
      "execution_count": 0,
      "outputs": []
    },
    {
      "cell_type": "code",
      "metadata": {
        "id": "eCQEBepIKEpr",
        "colab_type": "code",
        "colab": {}
      },
      "source": [
        "df = pd.read_csv('/content/gdrive/My Drive/example.csv',encoding='utf-8')"
      ],
      "execution_count": 0,
      "outputs": []
    },
    {
      "cell_type": "code",
      "metadata": {
        "id": "uJoECNDA4ezO",
        "colab_type": "code",
        "colab": {
          "base_uri": "https://localhost:8080/",
          "height": 204
        },
        "outputId": "1fa2e1af-3747-4adf-c0d2-08e2a464817e"
      },
      "source": [
        "df.head()"
      ],
      "execution_count": 170,
      "outputs": [
        {
          "output_type": "execute_result",
          "data": {
            "text/html": [
              "<div>\n",
              "<style scoped>\n",
              "    .dataframe tbody tr th:only-of-type {\n",
              "        vertical-align: middle;\n",
              "    }\n",
              "\n",
              "    .dataframe tbody tr th {\n",
              "        vertical-align: top;\n",
              "    }\n",
              "\n",
              "    .dataframe thead th {\n",
              "        text-align: right;\n",
              "    }\n",
              "</style>\n",
              "<table border=\"1\" class=\"dataframe\">\n",
              "  <thead>\n",
              "    <tr style=\"text-align: right;\">\n",
              "      <th></th>\n",
              "      <th>ReviewTitles</th>\n",
              "      <th>StarRating</th>\n",
              "      <th>Review</th>\n",
              "    </tr>\n",
              "  </thead>\n",
              "  <tbody>\n",
              "    <tr>\n",
              "      <th>0</th>\n",
              "      <td>What size you should get if you're built like me</td>\n",
              "      <td>4.0 out of 5 stars</td>\n",
              "      <td>I was indecisive on what size to get and I wen...</td>\n",
              "    </tr>\n",
              "    <tr>\n",
              "      <th>1</th>\n",
              "      <td>Just what i was looking for</td>\n",
              "      <td>5.0 out of 5 stars</td>\n",
              "      <td>This sweater is super soft! Wasn't too expensi...</td>\n",
              "    </tr>\n",
              "    <tr>\n",
              "      <th>2</th>\n",
              "      <td>it fits perfect, a little bit snug but thats w...</td>\n",
              "      <td>5.0 out of 5 stars</td>\n",
              "      <td>i got Small, im 5'2 and weight 105lb, it fits ...</td>\n",
              "    </tr>\n",
              "    <tr>\n",
              "      <th>3</th>\n",
              "      <td>Cheap with Accurate Sizing</td>\n",
              "      <td>5.0 out of 5 stars</td>\n",
              "      <td>I'm 5'10 140lbs and this Medium fits perfectly...</td>\n",
              "    </tr>\n",
              "    <tr>\n",
              "      <th>4</th>\n",
              "      <td>Very nice!</td>\n",
              "      <td>5.0 out of 5 stars</td>\n",
              "      <td>It was a perfect fit!I very much recommend thi...</td>\n",
              "    </tr>\n",
              "  </tbody>\n",
              "</table>\n",
              "</div>"
            ],
            "text/plain": [
              "                                        ReviewTitles  ...                                             Review\n",
              "0   What size you should get if you're built like me  ...  I was indecisive on what size to get and I wen...\n",
              "1                        Just what i was looking for  ...  This sweater is super soft! Wasn't too expensi...\n",
              "2  it fits perfect, a little bit snug but thats w...  ...  i got Small, im 5'2 and weight 105lb, it fits ...\n",
              "3                         Cheap with Accurate Sizing  ...  I'm 5'10 140lbs and this Medium fits perfectly...\n",
              "4                                         Very nice!  ...  It was a perfect fit!I very much recommend thi...\n",
              "\n",
              "[5 rows x 3 columns]"
            ]
          },
          "metadata": {
            "tags": []
          },
          "execution_count": 170
        }
      ]
    },
    {
      "cell_type": "code",
      "metadata": {
        "id": "_8HAmFinKNGN",
        "colab_type": "code",
        "colab": {
          "base_uri": "https://localhost:8080/",
          "height": 119
        },
        "outputId": "9a0c3a76-496f-4980-97e3-f22e8b34eee5"
      },
      "source": [
        "df['StarRating'].value_counts()"
      ],
      "execution_count": 171,
      "outputs": [
        {
          "output_type": "execute_result",
          "data": {
            "text/plain": [
              "5.0 out of 5 stars    46\n",
              "4.0 out of 5 stars    22\n",
              "1.0 out of 5 stars    12\n",
              "3.0 out of 5 stars    11\n",
              "2.0 out of 5 stars     9\n",
              "Name: StarRating, dtype: int64"
            ]
          },
          "metadata": {
            "tags": []
          },
          "execution_count": 171
        }
      ]
    },
    {
      "cell_type": "code",
      "metadata": {
        "id": "moyAUqCRHT6l",
        "colab_type": "code",
        "colab": {
          "base_uri": "https://localhost:8080/",
          "height": 383
        },
        "outputId": "4d0cab24-e46c-41bb-ef10-bc879128b0c9"
      },
      "source": [
        "df['StarRating'].value_counts().plot(kind=\"pie\",figsize=(6, 8),cmap='cividis')"
      ],
      "execution_count": 172,
      "outputs": [
        {
          "output_type": "execute_result",
          "data": {
            "text/plain": [
              "<matplotlib.axes._subplots.AxesSubplot at 0x7f8123f920f0>"
            ]
          },
          "metadata": {
            "tags": []
          },
          "execution_count": 172
        },
        {
          "output_type": "display_data",
          "data": {
            "image/png": "[encoded data removed]",
            "text/plain": [
              "<Figure size 432x576 with 1 Axes>"
            ]
          },
          "metadata": {
            "tags": []
          }
        }
      ]
    },
    {
      "cell_type": "code",
      "metadata": {
        "id": "GoDtcR6MH0Qh",
        "colab_type": "code",
        "colab": {
          "base_uri": "https://localhost:8080/",
          "height": 296
        },
        "outputId": "51dab320-abdc-4be3-8462-b842f67da45a"
      },
      "source": [
        "sns.countplot(data=df,x='StarRating')"
      ],
      "execution_count": 173,
      "outputs": [
        {
          "output_type": "execute_result",
          "data": {
            "text/plain": [
              "<matplotlib.axes._subplots.AxesSubplot at 0x7f8123f92eb8>"
            ]
          },
          "metadata": {
            "tags": []
          },
          "execution_count": 173
        },
        {
          "output_type": "display_data",
          "data": {
            "image/png": "[encoded data removed]",
            "text/plain": [
              "<Figure size 432x288 with 1 Axes>"
            ]
          },
          "metadata": {
            "tags": [],
            "needs_background": "light"
          }
        }
      ]
    },
    {
      "cell_type": "code",
      "metadata": {
        "id": "PiUPN-J84emC",
        "colab_type": "code",
        "colab": {}
      },
      "source": [
        "rev = df['Review']"
      ],
      "execution_count": 0,
      "outputs": []
    },
    {
      "cell_type": "code",
      "metadata": {
        "id": "iHxzMHrYJYZ1",
        "colab_type": "code",
        "colab": {}
      },
      "source": [
        "def pad_to_size(vec, size):\n",
        "  zeros = [0] * (size -len(vec))\n",
        "  vec.extend(zeros)\n",
        "  return vec"
      ],
      "execution_count": 0,
      "outputs": []
    },
    {
      "cell_type": "code",
      "metadata": {
        "id": "WYUmVECr9e9P",
        "colab_type": "code",
        "colab": {}
      },
      "source": [
        "def predict_fn(pred_text):\n",
        "  for rev in pred_text:\n",
        "    encoded_pred_text = encoder.encode(rev)\n",
        "    # print(encoded_pred_text)\n",
        "    encoded_pred_text = pad_to_size(encoded_pred_text,300)\n",
        "    # print(encoded_pred_text)\n",
        "    encoded_pred_text = tf.cast(encoded_pred_text, tf.float32)\n",
        "    predictions = sa_load.predict(tf.expand_dims(encoded_pred_text, 0))\n",
        "    if predictions > 1:\n",
        "      print(\"Sentiments of this product are positive, People are happy :)\") \n",
        "      return predictions\n",
        "    if predictions >= 0 and predictions <= 1:\n",
        "      print(\"Sentiments of this product are Netural, People are just satisfied\")\n",
        "      return predictions\n",
        "    if predictions < 1:\n",
        "      return (\"Sentiments of this product are negetive, People are not satisfied with this product\")"
      ],
      "execution_count": 0,
      "outputs": []
    },
    {
      "cell_type": "code",
      "metadata": {
        "id": "hicGIT3zHLsJ",
        "colab_type": "code",
        "colab": {
          "base_uri": "https://localhost:8080/",
          "height": 51
        },
        "outputId": "1f86b674-cc1b-49f0-8400-a0d4262c2907"
      },
      "source": [
        "predictions = predict_fn(rev)\n",
        "print(predictions)"
      ],
      "execution_count": 191,
      "outputs": [
        {
          "output_type": "stream",
          "text": [
            "Sentiments of this product are positive, People are happy :)\n",
            "[[2.2932026]]\n"
          ],
          "name": "stdout"
        }
      ]
    },
    {
      "cell_type": "code",
      "metadata": {
        "id": "oA9IeJ-mLXdV",
        "colab_type": "code",
        "colab": {}
      },
      "source": [
        "#if you want to test out this model you can write sentiment yourself"
      ],
      "execution_count": 0,
      "outputs": []
    },
    {
      "cell_type": "code",
      "metadata": {
        "id": "LsFfMW94OUy5",
        "colab_type": "code",
        "colab": {}
      },
      "source": [
        "def predict_fn_one_sentiment(pred_text):\n",
        "  encoded_pred_text = encoder.encode(pred_text)\n",
        "  print(encoded_pred_text)\n",
        "  encoded_pred_text = pad_to_size(encoded_pred_text,100)\n",
        "  print(encoded_pred_text)\n",
        "  encoded_pred_text = tf.cast(encoded_pred_text, tf.float32)\n",
        "  prediction = sa_load.predict(tf.expand_dims(encoded_pred_text, 0))\n",
        "  if prediction > 1:\n",
        "    print(\"Sentiment of this review is positive :)\") \n",
        "    return prediction\n",
        "  if prediction >= 0 and prediction <= 1:\n",
        "    print(\"Sentiment of this review is Netural,just satisfying\")\n",
        "    return prediction\n",
        "  if prediction < 1:\n",
        "    print(\"Sentiment of this product is negetive :(\")\n",
        "    return prediction\n",
        "  "
      ],
      "execution_count": 0,
      "outputs": []
    },
    {
      "cell_type": "code",
      "metadata": {
        "id": "Jmf_j2iqYhjG",
        "colab_type": "code",
        "colab": {
          "base_uri": "https://localhost:8080/",
          "height": 122
        },
        "outputId": "43eda879-7d84-4d76-9dcf-5219b9bc694e"
      },
      "source": [
        "pred_text=input(\"Write sentense to check sentiment \")\n",
        "prediction=predict_fn_one_sentiment(pred_text)\n",
        "print(prediction)"
      ],
      "execution_count": 194,
      "outputs": [
        {
          "output_type": "stream",
          "text": [
            "Write sentense to check sentiment this has been the worst experiance ever\n",
            "[19803, 49922, 26386, 3813, 12029, 18357, 48406]\n",
            "[19803, 49922, 26386, 3813, 12029, 18357, 48406, 0, 0, 0, 0, 0, 0, 0, 0, 0, 0, 0, 0, 0, 0, 0, 0, 0, 0, 0, 0, 0, 0, 0, 0, 0, 0, 0, 0, 0, 0, 0, 0, 0, 0, 0, 0, 0, 0, 0, 0, 0, 0, 0, 0, 0, 0, 0, 0, 0, 0, 0, 0, 0, 0, 0, 0, 0, 0, 0, 0, 0, 0, 0, 0, 0, 0, 0, 0, 0, 0, 0, 0, 0, 0, 0, 0, 0, 0, 0, 0, 0, 0, 0, 0, 0, 0, 0, 0, 0, 0, 0, 0, 0]\n",
            "Sentiment of this product is negetive :(\n",
            "[[-4.761191]]\n"
          ],
          "name": "stdout"
        }
      ]
    },
    {
      "cell_type": "code",
      "metadata": {
        "id": "p7PbpMeqOe5I",
        "colab_type": "code",
        "colab": {}
      },
      "source": [
        "pred_text=input(\"Write sentense to check sentiment \")\n",
        "prediction=predict_fn_one_sentiment(pred_text)\n",
        "print(prediction)"
      ],
      "execution_count": 0,
      "outputs": []
    },
    {
      "cell_type": "code",
      "metadata": {
        "id": "4iVDFAPrOUo6",
        "colab_type": "code",
        "colab": {
          "base_uri": "https://localhost:8080/",
          "height": 105
        },
        "outputId": "653e7c15-def1-4c08-8839-c71638005c54"
      },
      "source": [
        "pred_text=(\"this is worse product\")\n",
        "prediction=predict_fn_one_sentiment(pred_text)\n",
        "print(prediction)"
      ],
      "execution_count": 189,
      "outputs": [
        {
          "output_type": "stream",
          "text": [
            "[19803, 32926, 12523, 11997]\n",
            "[19803, 32926, 12523, 11997, 0, 0, 0, 0, 0, 0, 0, 0, 0, 0, 0, 0, 0, 0, 0, 0, 0, 0, 0, 0, 0, 0, 0, 0, 0, 0, 0, 0, 0, 0, 0, 0, 0, 0, 0, 0, 0, 0, 0, 0, 0, 0, 0, 0, 0, 0, 0, 0, 0, 0, 0, 0, 0, 0, 0, 0, 0, 0, 0, 0, 0, 0, 0, 0, 0, 0, 0, 0, 0, 0, 0, 0, 0, 0, 0, 0, 0, 0, 0, 0, 0, 0, 0, 0, 0, 0, 0, 0, 0, 0, 0, 0, 0, 0, 0, 0]\n",
            "Sentiment of this product is negetive :(\n",
            "[[-3.3933616]]\n"
          ],
          "name": "stdout"
        }
      ]
    },
    {
      "cell_type": "code",
      "metadata": {
        "id": "GfR5p2XJWTzr",
        "colab_type": "code",
        "outputId": "9b8136c5-2463-4c5b-858a-f10cfeb33243",
        "colab": {
          "base_uri": "https://localhost:8080/",
          "height": 105
        }
      },
      "source": [
        "pred_text=(\"this is good shirt, i really like it\")\n",
        "prediction=predict_fn_one_sentiment(pred_text)\n",
        "print(prediction)"
      ],
      "execution_count": 190,
      "outputs": [
        {
          "output_type": "stream",
          "text": [
            "[19803, 32926, 62545, 39713, 2730, 32426, 4078, 22102]\n",
            "[19803, 32926, 62545, 39713, 2730, 32426, 4078, 22102, 0, 0, 0, 0, 0, 0, 0, 0, 0, 0, 0, 0, 0, 0, 0, 0, 0, 0, 0, 0, 0, 0, 0, 0, 0, 0, 0, 0, 0, 0, 0, 0, 0, 0, 0, 0, 0, 0, 0, 0, 0, 0, 0, 0, 0, 0, 0, 0, 0, 0, 0, 0, 0, 0, 0, 0, 0, 0, 0, 0, 0, 0, 0, 0, 0, 0, 0, 0, 0, 0, 0, 0, 0, 0, 0, 0, 0, 0, 0, 0, 0, 0, 0, 0, 0, 0, 0, 0, 0, 0, 0, 0]\n",
            "Sentiment of this review is positive :)\n",
            "[[4.1341143]]\n"
          ],
          "name": "stdout"
        }
      ]
    },
    {
      "cell_type": "code",
      "metadata": {
        "id": "m4sgcwv8Yhae",
        "colab_type": "code",
        "colab": {}
      },
      "source": [
        ""
      ],
      "execution_count": 0,
      "outputs": []
    },
    {
      "cell_type": "code",
      "metadata": {
        "id": "VO0x-xyfaWKW",
        "colab_type": "code",
        "colab": {}
      },
      "source": [
        ""
      ],
      "execution_count": 0,
      "outputs": []
    }
  ]
}